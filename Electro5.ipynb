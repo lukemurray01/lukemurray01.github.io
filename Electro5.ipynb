{
 "cells": [
  {
   "cell_type": "markdown",
   "metadata": {},
   "source": [
    "Electrodynamics II - Lecture 5"
   ]
  },
  {
   "cell_type": "markdown",
   "metadata": {},
   "source": [
    "## Magnetic Fields in Matter"
   ]
  },
  {
   "cell_type": "markdown",
   "metadata": {},
   "source": [
    "Diamagnetism is the result of the electrons orbital motion, which is mainly observed in systems with an even number of electrons."
   ]
  },
  {
   "cell_type": "markdown",
   "metadata": {},
   "source": [
    "Paramagnetism is  due to the spin of the electron, this occurs in systems with an odd number of electrons."
   ]
  },
  {
   "cell_type": "markdown",
   "metadata": {},
   "source": [
    "Define magnetisation $\\vec{M}$: Net magnetic moment $\\vec{m}$ in unit volume of material \n",
    "    $$\n",
    "    \\vec{M} = N\\vec{m}\n",
    "    $$\n",
    "With N: number of atoms/unit volume & \\vec{m} average dipole moment of atom."
   ]
  },
  {
   "cell_type": "markdown",
   "metadata": {},
   "source": [
    "Polarisation $\\vec{P}$ in electrostatics: $\\vec{P} = N \\vec{p}$\\\n",
    "    We have already shown, vector potential $\\vec{A}(\\vec{r})$ duee to magnetic moment $\\vec{m}$\n",
    "    $$\n",
    "    \\vec{A}(\\vec{r}) = \\frac{\\mu_{0}}{4\\pi}\\frac{\\vec{m} \\times \\vec{e}_{r}}{r^2}\n",
    "    $$\n",
    "Magnetic moment from volume element $d\\tau': \\vec{m} = \\vec{M}d\\tau'$\n",
    "\\begin{align*}\n",
    "    d\\vec{A}(\\vec{r}) &= \\frac{\\vec{M}d\\tau' \\times \\vec{e}_{|\\vec{r}-\\vec{r'}|}}{|\\vec{r}-\\vec{r'}|^{2}}\\\\\n",
    "    \\vec{A}(\\vec{r}) &= \\frac{\\mu_{0}}{4\\pi}\\int \\frac{\\vec{M} \\times \\vec{e}_{|\\vec{r}-\\vec{r'}|}}{|\\vec{r}-\\vec{r'}|^{2}}d\\tau'\n",
    "\\end{align*}"
   ]
  },
  {
   "cell_type": "markdown",
   "metadata": {},
   "source": [
    "We can rewrite this as follows"
   ]
  },
  {
   "cell_type": "markdown",
   "metadata": {},
   "source": [
    "Start with $\\vec{\\nabla'}\\frac{1}{ | \\vec{r} - \\vec{r}'|} = \\frac{\\vec{e}_{| \\vec{r} - \\vec{r}'|}}{| \\vec{r} - \\vec{r}'|^{2}} $\n"
   ]
  },
  {
   "cell_type": "markdown",
   "metadata": {},
   "source": [
    "We then get"
   ]
  },
  {
   "cell_type": "markdown",
   "metadata": {},
   "source": [
    "$$\n",
    "\\vec{A}(\\vec{r}) = \\frac{\\mu_{0}}{4\\pi}\\int \\underline{\\vec{M}(\\vec{r}) \\times \\left( \\frac{\\vec{e}_{| \\vec{r} - \\vec{r}'|}}{| \\vec{r} - \\vec{r}'|^{2}} \\right)} d\\tau'\\\\\n",
    "$$"
   ]
  },
  {
   "cell_type": "markdown",
   "metadata": {},
   "source": [
    "Using the vector identity, notice the underlined section:\n",
    "$$\n",
    "\\vec{\\nabla} \\times (f \\vec{C}) = f(\\vec{\\nabla} \\times \\vec{C}) - \\underline{\\vec{C} \\times (\\vec{\\nabla})f}\n",
    "$$"
   ]
  },
  {
   "cell_type": "markdown",
   "metadata": {},
   "source": [
    "Resulting in\n",
    "$$\n",
    "\\vec{A}(\\vec{r}) = \\frac{\\mu_{0}}{4\\pi}\\left[ \\int \\frac{1}{|\\vec{r} - \\vec{r}'|} \\left(\\vec{\\nabla}' \\times \\vec{M}(\\vec{r}')\\right)d\\tau'  - \\int \\nabla ' \\times \\left(\\frac{\\vec{M}(\\vec{r}')}{|\\vec{r} - \\vec{r}'|}\\right)d\\tau '\\right]\n",
    "$$"
   ]
  },
  {
   "cell_type": "markdown",
   "metadata": {},
   "source": [
    "Using the identity \n",
    "$$\n",
    "\\int (\\vec{\\nabla} \\times \\vec{\\nu})d\\tau = -\\oint \\vec{c} \\times d\\vec{a}\n",
    "$$"
   ]
  },
  {
   "cell_type": "markdown",
   "metadata": {},
   "source": [
    "$$\n",
    "\\vec{A}(\\vec{r}) = \\frac{\\mu_{0}}{4\\pi} \\int \\frac{1}{|\\vec{r} - \\vec{r}'|} \\left(\\vec{\\nabla}' \\times \\vec{M}(\\vec{r}')\\right)d\\tau'  + \\frac{\\mu_{0}}{4\\pi}\\oint \\left(\\frac{\\vec{M}(\\vec{r}') \\times d\\vec{a}'}{|\\vec{r} - \\vec{r}'|}\\right)\n",
    "$$"
   ]
  },
  {
   "cell_type": "markdown",
   "metadata": {},
   "source": [
    "Which give formal soltions of the Poisson equations for vector potential $\\vec{A}$"
   ]
  },
  {
   "cell_type": "markdown",
   "metadata": {},
   "source": [
    "\\begin{align*}\n",
    "\\vec{A}(\\vec{r}) &= \\frac{\\mu_{0}}{4\\pi}\\int \\frac{\\vec{J}(\\vec{r}')}{|\\vec{r} - \\vec{r}'|}d\\tau'\\\\\n",
    "\\vec{A}(\\vec{r}) &= \\frac{\\mu_{0}}{4\\pi}\\int \\frac{\\vec{K}(\\vec{r}')}{|\\vec{r} - \\vec{r}'|}da'\\\\\n",
    "\\vec{A}(\\vec{r}) &= \\frac{\\mu_{0}}{4\\pi}\\int \\frac{I(\\vec{r}')}{|\\vec{r} - \\vec{r}'|}d\\vec{l}'\\\\\n",
    "\\end{align*}"
   ]
  },
  {
   "cell_type": "markdown",
   "metadata": {},
   "source": [
    "$$\n",
    "\\vec{A}(\\vec{r}) = \\frac{\\mu_{0}}{4\\pi} \\int \\frac{1}{|\\vec{r} - \\vec{r}'|} \\left(\\vec{\\nabla}' \\times \\vec{M}(\\vec{r}')\\right)d\\tau'  + \\frac{\\mu_{0}}{4\\pi}\\oint \\left(\\frac{\\vec{M}(\\vec{r}') \\times d\\vec{a}'}{|\\vec{r} - \\vec{r}'|}\\right)\n",
    "$$\n",
    "Looking at the formal solutioins of the Poisson equation for the vector potential $\\vec{A}$"
   ]
  },
  {
   "cell_type": "markdown",
   "metadata": {},
   "source": [
    "$$\n",
    "\\vec{A}(\\vec{r}) = \\frac{\\mu_{0}}{4\\pi}\\int \\frac{\\vec{J}(\\vec{r}')}{|\\vec{r} - \\vec{r}'|}d\\tau'\n",
    "$$"
   ]
  },
  {
   "cell_type": "markdown",
   "metadata": {},
   "source": [
    "$$\n",
    "\\vec{A}(\\vec{r}) = \\frac{\\mu_{0}}{4\\pi}\\int \\frac{\\vec{K}(\\vec{r}')}{|\\vec{r} - \\vec{r}'|}da'\n",
    "$$"
   ]
  },
  {
   "cell_type": "markdown",
   "metadata": {},
   "source": [
    "Comparing this and using $d\\vec{a} = \\vec{e}_{n}da$ we can define:"
   ]
  },
  {
   "cell_type": "markdown",
   "metadata": {},
   "source": [
    "Effect volume current:\n",
    "    $$\n",
    "    \\vec{J}_{b}(\\vec{r}) = \\vec{\\nabla} \\times \\vec{M}\n",
    "    $$"
   ]
  },
  {
   "cell_type": "markdown",
   "metadata": {},
   "source": [
    "Effective surface current:\n",
    "    $$\n",
    "    \\vec{K}_{b}(\\vec{r}) = \\vec{M} \\times \\vec{e}_{n}\n",
    "    $$"
   ]
  },
  {
   "cell_type": "markdown",
   "metadata": {},
   "source": [
    "Then our vector potential becomes:\n",
    "    $$\n",
    "    \\vec{A}(\\vec{r}) = \\frac{\\mu}{4\\pi}\\int \\frac{\\vec{J}_{b}}{|\\vec{r} - \\vec{r}'|}d\\tau' + \\frac{\\mu_{0}}{4\\pi}\\oint \\left(\\frac{\\vec{K}}{|\\vec{r}-\\vec{r}'|}\\right)da'\n",
    "    $$"
   ]
  },
  {
   "cell_type": "markdown",
   "metadata": {},
   "source": [
    "Where the subscript \"b\" denotes \"bound\". $\\vec{J}_{b}$ and $\\vec{K}_{b}$ are effective currents, electrons responsible are bound to atoms. If a material is uniformly magnetised ($\\vec{M}$ everywhere the same). $\\vec{\\nabla}\\times \\vec{M} = \\vec{0}$ but $\\vec{K}_{b}(\\vec{r}) = \\vec{M} \\times \\vec{e}_{n} \\neq \\vec{0}$.\\\\\n",
    "Individual contributions of electrons cancel in bulk colume but not at the edges. only the equivalent surface current $\\vec{K}_{b}$ flowing along the edge."
   ]
  },
  {
   "cell_type": "markdown",
   "metadata": {},
   "source": [
    "![UniformlyvsNonUniformlyM](Figures/Electro5.1.png)"
   ]
  },
  {
   "cell_type": "markdown",
   "metadata": {},
   "source": [
    "## Ampere's Law in magnetised materials"
   ]
  },
  {
   "cell_type": "markdown",
   "metadata": {},
   "source": [
    "In addition to bound current we have also free current, associated with actual transport of charge\n",
    "$$\n",
    "\\textrm{Total Current} \\vec{J} = \\vec{J}_{b} + \\vec{J}_{f}\n",
    "$$\n",
    "Now look at Ampere's Law\n",
    "$$\n",
    "\\begin{align*}\n",
    "\\frac{1}{\\mu_{0}}(\\vec{\\nabla} \\times \\vec{B}) &= \\vec{J} = \\vec{J}_{B} + \\vec{J}_{f} = \\vec{\\nabla} \\times \\vec{M} + \\vec{J}_{f} \\\\\n",
    "\\vec{\\nabla} \\times \\left(\\frac{1}{\\mu_{0}}\\vec{B} - \\vec{M}\\right) &= \\vec{J}_{f}\n",
    "\\end{align*}$$"
   ]
  },
  {
   "cell_type": "markdown",
   "metadata": {},
   "source": [
    "We can then define $\\vec{H} \\equiv \\frac{1}{\\mu_{0}}\\vec{B} - \\vec{M} \\Rightarrow \\vec{\\nabla} \\times \\vec{H} = \\vec{J}_{f}$"
   ]
  },
  {
   "cell_type": "markdown",
   "metadata": {},
   "source": [
    "The free currents is what we control in a lab settings, $\\vec{H}$ is often more useful than $\\vec{B}$ in that context."
   ]
  },
  {
   "cell_type": "markdown",
   "metadata": {},
   "source": [
    "#### Ampere's Law"
   ]
  },
  {
   "cell_type": "markdown",
   "metadata": {},
   "source": [
    "$$\n",
    "\\vec{\\nabla} \\times \\vec{H} = \\vec{J}_{f}\n",
    "$$\n",
    "or\n",
    "$$\n",
    "\\oint \\vec{H}d\\vec{l} = I_{f,\\textrm{enc}}\n",
    "$$"
   ]
  },
  {
   "cell_type": "markdown",
   "metadata": {},
   "source": [
    "With: $\\vec{H} \\equiv \\frac{1}{\\mu_{0}}\\vec{B} - \\vec{M}$, and $I_{f,\\textrm{enc}}$ is the free current enclosed.\n"
   ]
  }
 ],
 "metadata": {
  "kernelspec": {
   "display_name": "Python 3",
   "language": "python",
   "name": "python3"
  },
  "language_info": {
   "codemirror_mode": {
    "name": "ipython",
    "version": 3
   },
   "file_extension": ".py",
   "mimetype": "text/x-python",
   "name": "python",
   "nbconvert_exporter": "python",
   "pygments_lexer": "ipython3",
   "version": "3.8.3"
  }
 },
 "nbformat": 4,
 "nbformat_minor": 4
}
