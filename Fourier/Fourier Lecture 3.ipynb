{
 "cells": [
  {
   "cell_type": "markdown",
   "id": "6eb7bfa3",
   "metadata": {},
   "source": [
    "## Lecture 3"
   ]
  },
  {
   "cell_type": "markdown",
   "id": "8204706e",
   "metadata": {},
   "source": [
    "### Examples"
   ]
  },
  {
   "cell_type": "markdown",
   "id": "2e4d3186",
   "metadata": {},
   "source": [
    "#### Example (a) \n"
   ]
  },
  {
   "cell_type": "markdown",
   "id": "f2f7033f",
   "metadata": {},
   "source": [
    "$f_1(x) = x^2, \\quad f_2(x) = x^3$ on $[-1, 1]$\n",
    "\n",
    "$$\\langle f_1, f_2 \\rangle= \\int_{-1}^{1} x^5 \\,dx$$\n",
    "\n",
    "$$= \\left. \\frac{{x^6}}{6} \\right|_{-1}^{1}$$\n",
    "\n",
    "$$= \\frac{1}{6} - \\frac{(-1)^6}{6}$$\n",
    "\n",
    "$$= \\frac{1}{6} - \\frac{1}{6} = 0$$\n",
    "\n"
   ]
  },
  {
   "cell_type": "markdown",
   "id": "6762e51e",
   "metadata": {},
   "source": [
    "#### Example (b) NEEDS WORK"
   ]
  },
  {
   "cell_type": "markdown",
   "id": "2d3735f4",
   "metadata": {},
   "source": [
    "$f_1$ is an even function, $f_2$ is an odd function on $[-a, a]$\n",
    "\n",
    "$f_1(x) = f_1(-x)$\n",
    "\n",
    "$f_2(x) = -f_2(-x)$\n",
    "\n",
    "$$\\langle f_1, f_2 \\rangle = \\int_{-a}^{a} f_1(x)f_2(x) \\,dx \\bigg|_{\\substack{\\text{z} \\\\ \\text{}}} = f_3(x) \\,dx = \\int_{-a}^{a} f_3(x) \\,dx$$\n",
    "\n",
    "\n",
    "\n"
   ]
  },
  {
   "cell_type": "markdown",
   "id": "a850849b",
   "metadata": {},
   "source": [
    "#### Example (c)"
   ]
  },
  {
   "cell_type": "markdown",
   "id": "355e9c7d",
   "metadata": {},
   "source": [
    "Show that the set $\\{1, \\cos x, \\cos 2x, \\cos 3x, \\ldots\\} = \\{\\cos nx \\mid n = 0, 1, 2, \\ldots\\}$ is orthogonal on $[-\\pi, \\pi]$.\n",
    "\n",
    "$$Let \\phi_0(x) = 1 \\, and \\, \\phi_n(x) = \\cos(nx)$$.\n",
    "\n",
    "Consider $\\phi_0(x) = 1$ and $\\phi_n(x) = \\cos(nx)$.\n",
    "\n",
    "Show that $\\int_{-\\pi}^{\\pi} \\phi_0(x)\\phi_n(x) \\,dx = 0$ for $n \\neq 0$, and $\\int_{-\\pi}^{\\pi} \\phi_m(x)\\phi_n(x) \\,dx = 0$ for $m \\neq n$.\n",
    "\n",
    "$$\\langle \\phi_0(x), \\phi_n(x) \\rangle = \\int_{-\\pi}^{\\pi} \\cos(nx) \\,dx = \\frac{1}{n} \\sin(nx) \\bigg|_{-\\pi}^{\\pi} = \\frac{1}{n} (\\sin(n\\pi) - \\sin(-n\\pi)) \\approx 0$$\n",
    "#### Below here\n",
    "$$\\langle \\phi_m(x), \\phi_n(x) \\rangle = \\int_{-\\pi}^{\\pi} \\cos(mx) \\cos(nx) \\,dx = \\frac{1}{2} \\int_{-\\pi}^{\\pi} [\\cos((m - n)x) + \\cos((m + n)x)] \\,dx = 0$$\n",
    "##### BELOW IS GOOD \n",
    "Find the norm of elements of the set $\\{1, \\cos x, \\cos 2x, \\ldots\\}$.\n",
    "\n",
    "$|| \\: \\phi_0(x) \\: ||^2 = \\int_{-\\pi}^{\\pi} |\\cdot|^2 \\,dx = \\int_{-\\pi}^{\\pi} dx = 2\\pi \\Rightarrow || \\: \\phi_0(x) \\: || = \\sqrt{2\\pi}$\n",
    "\n",
    "$|| \\: \\phi_n(x) \\: ||^2 = \\int_{-\\pi}^{\\pi} [\\cos(nx)]^2 \\,dx = \\frac{1}{2} \\int_{-\\pi}^{\\pi} [1 + \\cos(2nx)] \\,dx = \\pi \\Rightarrow || \\: \\phi_n(x) \\: || = \\sqrt{\\pi}, n > 0$\n",
    "\n",
    "Therefore, $\\left\\{ \\frac{1}{\\sqrt{2\\pi}}, \\frac{\\cos x}{\\sqrt{\\pi}}, \\frac{\\cos 2x}{\\sqrt{\\pi}}, \\ldots \\right\\}$ is an orthogonal set.\n",
    "\n",
    "Is this a basis of the space of continuous functions on $[-\\pi, \\pi]$? No, because it is not a $\\underline{complete}$ set.\n",
    "\n",
    "\"Complete\": There is no other function (except $f(x) = 0$) that is orthogonal to every element of the set.\n"
   ]
  },
  {
   "cell_type": "markdown",
   "id": "a4de6af0",
   "metadata": {},
   "source": [
    "#### Example (d)"
   ]
  },
  {
   "cell_type": "markdown",
   "id": "34fcc347",
   "metadata": {},
   "source": [
    "For example, let's consider the function $f(x) = \\sin(x)$ on $[-\\pi, \\pi]$, and we want to determine if it is orthogonal to all elements of $\\{1, \\cos x, \\ldots\\}$.\n",
    "\n",
    "Think of vector spaces $\\underline{u} ={c_1} \\underline{v_1} + c_2 \\underline{v_2} + c_3\\underline{v_3}$ with $\\{v_1, v_2, v_3\\}$ as the basis of $\\mathbb{R}^3$, and $c_i = \\frac{\\langle u, v_i \\rangle}{||v_i||^2}$ for $i - 1, 2, 3$.\n",
    "\n",
    "If we apply this to $f(x),$ we get \\\n",
    "$$\\sin(x) = f(x) = c_0\\phi_0(x) + c_1\\phi_1(x) \\, +\\ldots$$\n",
    "$c_i = \\frac{\\langle f, \\phi_i \\rangle}{||\\phi_i||^2} = 0$ for $i \\neq 0$ (as shown in example (b).\n",
    "### Check this section\n",
    "To solve $\\langle \\sin(x), \\cos(nx) \\rangle$ explicitly, we can refer to the example (b) which states that $\\langle \\sin(x), \\cos(nx) \\rangle = 0$.\n",
    "$$\\Rightarrow \\int_{-\\pi}^{\\pi} \\sin(x) \\phi_n(x) \\,dx = 0$$\n",
    "\n",
    "\n",
    "Therefore, $\\{1, \\sin(x), \\cos(x), \\sin(2x), \\cos(2x), \\ldots\\}$ forms a basis of the considered vector space.\n"
   ]
  },
  {
   "cell_type": "code",
   "execution_count": null,
   "id": "327bfff6",
   "metadata": {},
   "outputs": [],
   "source": []
  }
 ],
 "metadata": {
  "kernelspec": {
   "display_name": "Python 3 (ipykernel)",
   "language": "python",
   "name": "python3"
  },
  "language_info": {
   "codemirror_mode": {
    "name": "ipython",
    "version": 3
   },
   "file_extension": ".py",
   "mimetype": "text/x-python",
   "name": "python",
   "nbconvert_exporter": "python",
   "pygments_lexer": "ipython3",
   "version": "3.11.4"
  }
 },
 "nbformat": 4,
 "nbformat_minor": 5
}
