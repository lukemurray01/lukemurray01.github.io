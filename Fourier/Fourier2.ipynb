{
 "cells": [
  {
   "cell_type": "markdown",
   "metadata": {},
   "source": [
    "## Fourier Lectures 1 and 2"
   ]
  },
  {
   "cell_type": "markdown",
   "metadata": {},
   "source": [
    "#### Definition - Vector Space"
   ]
  },
  {
   "cell_type": "markdown",
   "metadata": {},
   "source": [
    "A vector space $V$ over a field $\\mathbb{K}$ is a non-empty set in which there are defined two operations"
   ]
  },
  {
   "cell_type": "markdown",
   "metadata": {},
   "source": [
    "1. Addition + : $V$ $\\times$ $V$ $\\to$ $V$ \\\\\n",
    "2. Multiplaction of a scalar: $\\mathbb{K} \\times V \\to V$ \\\n",
    "(i) Closure $\\underline{x} + \\underline{y} \\in V ~~~ \\forall \\underline{x},\\underline{y} \\in V$ \\\n",
    "(ii) Commutativity $ \\underline{x} + \\underline{y} = \\underline{y} + \\underline{x} \\quad \\forall \\underline{x}, \\underline{y} \\in V $. \\\n",
    "(iii) associativity $ x + (y + z) = (x + y) + \\underline{z} \\quad \\forall x, y, z \\in V $. \\\n",
    "(iv) Identity $ \\exists 0 \\in V \\text{ such that } \\underline{x} + \\underline{0} = \\underline{x} \\quad \\forall \\underline{x} \\in V $. \\\n",
    "(v) Inverse  $ \\underline{x} + \\underline{y} = \\underline{y} + \\underline{x} \\quad \\forall \\underline{x}, \\underline{y} \\in V $\n"
   ]
  },
  {
   "cell_type": "markdown",
   "metadata": {},
   "source": [
    "and under \".\" "
   ]
  },
  {
   "cell_type": "markdown",
   "metadata": {},
   "source": [
    "(i) Closure $ \\alpha \\cdot \\underline{x} \\in $V$ \\quad \\forall \\alpha \\in \\mathbb{K}, \\underline{x} \\in V $ \\\n",
    "(ii) Distributive laws $ (\\alpha + \\beta) \\cdot \\underline{x} = \\alpha \\cdot \\underline{x} + \\beta \\cdot \\underline{y} $ \\\n",
    "(iii) Identity $ 1 \\cdot \\underline{x} = \\underline{x} \\quad \\forall \\underline{x} \\in V $ \\\n",
    "Note: A vector space (just by itself) has no product between vectors\n",
    "\n"
   ]
  },
  {
   "cell_type": "markdown",
   "metadata": {},
   "source": [
    "#### Definition - Linearly Independent"
   ]
  },
  {
   "cell_type": "markdown",
   "metadata": {},
   "source": [
    "\n",
    "A subset $W$ of vectors in vector space $V$ is considered linearly independent if every nonempty combination of a finite number of elements from $W$ results in a set of vectors that are linearly independent. "
   ]
  },
  {
   "cell_type": "markdown",
   "metadata": {},
   "source": [
    "\n",
    "If  $\\underline{w}_1, \\underline{w}_2, \\ldots, \\underline{w}_n$ belong to a subset $W$, and their linear combination $\\sum_{i=1}^{n} \\alpha_i \\underline{w}_i = \\underline{0}$ results in the zero vector, then it must be the case that all the coefficients $\\alpha_i$ are equal to zero, for $i = 1, 2, \\ldots, n$. In other words, if the only way to obtain the zero vector is by setting all the coefficients to zero, it implies that the vectors $\\underline{w}_1, \\underline{w}_2, \\ldots, \\underline{w}_n$ are linearly independent.\n"
   ]
  },
  {
   "cell_type": "markdown",
   "metadata": {},
   "source": [
    "#### Definition - Basis"
   ]
  },
  {
   "cell_type": "markdown",
   "metadata": {},
   "source": [
    "$B$ is called a basis for $V$ if $B$ is a linearly independent set and every non-zero vector $ \\underline{x}$ ∈ $V$ can be written as a linear combination of finitely many elements of $B$ with non-zero scalars as coefficients.\n",
    "\n"
   ]
  },
  {
   "cell_type": "markdown",
   "metadata": {},
   "source": [
    "#### Definition - Inner Product"
   ]
  },
  {
   "cell_type": "markdown",
   "metadata": {},
   "source": [
    "We define an inner product on a vector space $V$ over the field $\\mathbb{K}$ (such as $\\mathbb{R}$ or $\\mathbb{C}$) to be a mapping $\\langle \\cdot, \\cdot \\rangle : V \\times V \\rightarrow \\mathbb{K}$ with the following properties:\n",
    "\n",
    "\n",
    "\n",
    "\n",
    "\n",
    "\n",
    "\n",
    "\n"
   ]
  },
  {
   "cell_type": "markdown",
   "metadata": {},
   "source": [
    "(i) $ \\langle \\underline{x} + \\underline{y}, \\underline{z} \\rangle = \\langle \\underline{x}, \\underline{y} \\rangle = \\langle \\underline{x}, \\underline{z} \\rangle $ \\\n",
    "(ii) $ \\langle \\alpha \\underline{x} + \\underline{y} \\rangle = \\alpha \\langle \\underline{x}, \\underline{y} \\rangle $ \\\n",
    "(iii) $ \\langle \\underline{x}, \\underline{y} \\rangle = \\langle \\underline{y}, \\underline{x} \\rangle $ \\\n",
    "(iv) $ \\langle \\underline{x}, \\underline{x} \\rangle > 0 \\text{ and } \\langle \\underline{x}, \\underline{x} \\rangle = 0 \\iff \\underline{x} = \\underline{0} $\n"
   ]
  },
  {
   "cell_type": "markdown",
   "metadata": {},
   "source": [
    "Note: An inner product can always induce a norm: a real-valued function ||\n",
    "such that ||: $V$ → $\\mathbb{R}$ such that: \\\n",
    "i. $\\| \\underline{x} \\| \\geq 0$ and $\\| \\underline{x} \\| = 0 \\Leftrightarrow \\underline{x} = 0$ \\\n",
    "ii. $\\| \\alpha \\underline{x} \\| = | \\alpha | \\| \\underline{x} \\|$ \\\n",
    "iii. $\\| \\underline{x} + \\underline{y} \\| \\leq \\| \\underline{x} \\| + \\| \\underline{y} \\| - \\text{Triangle Inequality}$\n"
   ]
  },
  {
   "cell_type": "markdown",
   "metadata": {},
   "source": [
    "How? Choose $\\| x \\| := \\sqrt{\\langle x, x \\rangle}$ (positive square root).\n"
   ]
  },
  {
   "cell_type": "markdown",
   "metadata": {},
   "source": [
    "#### Definition - Orthonormal"
   ]
  },
  {
   "cell_type": "markdown",
   "metadata": {},
   "source": [
    "A set of vectors $\\mathbf{\\underline{x}_1}, \\ldots, \\mathbf{\\underline{x}_n}$ from an inner product space is said to be an orthogonal set if $\\underline{x} \\neq \\underline{0} \\forall $i and $\\langle \\mathbf{\\underline{x}_i}, \\mathbf{\\underline{x}_j} \\rangle = 0 \\forall i \\neq j$. \\\n",
    "If, in addition, $\\langle \\mathbf{\\underline{x}_i}, \\mathbf{\\underline{x}_j} \\rangle = 1 \\quad \\forall $i the set is said to be orthonormal\n"
   ]
  },
  {
   "cell_type": "markdown",
   "metadata": {},
   "source": [
    "Short-hand, alternative notation $<\\underline{x}_i, \\underline{x}_j> = \\delta_{ij}(\\textrm{Kronecker delta}) =\n",
    "\\begin{cases}\n",
    "    1 & \\text{if } i = j \\\\\n",
    "    0 & \\text{otherwise}\n",
    "\\end{cases}$\n"
   ]
  },
  {
   "cell_type": "markdown",
   "metadata": {},
   "source": [
    "#### Example - Vectorspaces"
   ]
  },
  {
   "cell_type": "markdown",
   "metadata": {},
   "source": [
    "(a) n tuples in $\\mathbb{R}^n: field \\quad \\mathbb{k} = \\mathbb{R}$ and obvious definitions of \"+\" and \"$\\cdot\"$ \\\n",
    "(b) $C[a, b]$: space of continuous real-valued functions on $[a, b]$ \\\n",
    "(c) Space of infinite sequences in $\\mathbb{R}: x_{11}, x_{21}, \\ldots, x_{n1}, x_{n+1}, \\ldots$\n",
    "\n",
    "\n"
   ]
  },
  {
   "cell_type": "markdown",
   "metadata": {},
   "source": [
    "#### Example - Inner product"
   ]
  },
  {
   "cell_type": "markdown",
   "metadata": {},
   "source": [
    "Concept familiar from vectors as $n$ tuples living in $\\mathbb{R}^n$:\n",
    "\n",
    "\n",
    "Given n-tuples $x$ and $y$, the dot product $\\langle x, y \\rangle = \\sum_{i=1}^n x_i y_i = \\underline{x} \\cdot \\underline{y}$.\n",
    "\n",
    "The same idea is transferred to function space:\n",
    "\n",
    "The inner product of two functions $f_1$ and $f_2$ on an interval [$a,b$] is defined as:\n",
    "\n",
    "\n"
   ]
  },
  {
   "cell_type": "markdown",
   "metadata": {},
   "source": [
    "$$\\langle f_1, f_2 \\rangle = \\int_{a}^{b} f_1(x)f_2(x)dx$$\n",
    "\n",
    "Therefore, $f_1$ and $f_2$ are orthogonal if $\\langle f_1, f_2 \\rangle > = 0$.\n"
   ]
  }
 ],
 "metadata": {
  "kernelspec": {
   "display_name": "Python 3",
   "language": "python",
   "name": "python3"
  },
  "language_info": {
   "codemirror_mode": {
    "name": "ipython",
    "version": 3
   },
   "file_extension": ".py",
   "mimetype": "text/x-python",
   "name": "python",
   "nbconvert_exporter": "python",
   "pygments_lexer": "ipython3",
   "version": "3.8.3"
  }
 },
 "nbformat": 4,
 "nbformat_minor": 4
}
