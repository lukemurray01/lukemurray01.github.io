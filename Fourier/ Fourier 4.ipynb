{
 "cells": [
  {
   "cell_type": "markdown",
   "id": "18c96c6d",
   "metadata": {},
   "source": [
    "### Lecture 4"
   ]
  },
  {
   "cell_type": "markdown",
   "id": "d8911213",
   "metadata": {},
   "source": [
    "#### Series Expansion"
   ]
  },
  {
   "cell_type": "markdown",
   "id": "30905371",
   "metadata": {},
   "source": [
    "$$f(x) = \\sum_{n=0}^{\\infty} c_n \\phi_n(x)$$\n",
    "\n"
   ]
  },
  {
   "cell_type": "markdown",
   "id": "c442e554",
   "metadata": {},
   "source": [
    "With"
   ]
  },
  {
   "cell_type": "markdown",
   "id": "561307c5",
   "metadata": {},
   "source": [
    "$$c_n = \\frac{\\int_{a}^{b} f(x)\\phi_n(x) \\, dx}{\\|\\phi_n(x)\\|^2}$$\n",
    "\n"
   ]
  },
  {
   "cell_type": "markdown",
   "id": "eeb4cf5d",
   "metadata": {},
   "source": [
    "and orthogonal set $[a, b]\\{\\phi_n(x)\\} with \\, n = 0,1,2...."
   ]
  },
  {
   "cell_type": "markdown",
   "id": "6347f527",
   "metadata": {},
   "source": [
    "$$f(x) = \\sum_{n=0}^{\\infty} \\frac{\\langle f_1\\phi_n \\rangle}{\\|\\phi_n\\|^2} \\phi_n(x)$$\n"
   ]
  },
  {
   "cell_type": "markdown",
   "id": "880ff339",
   "metadata": {},
   "source": [
    "#### Example 1"
   ]
  },
  {
   "cell_type": "markdown",
   "id": "43604620",
   "metadata": {},
   "source": [
    "Consider the Orthogonal set $\\left\\{1, \\cos\\left(\\frac{\\pi}{p}x\\right), \\cos\\left(\\frac{2\\pi}{p}x\\right), \\ldots, \\sin\\left(\\frac{\\pi}{p}x\\right), \\sin\\left(\\frac{2\\pi}{p}x\\right), \\ldots\\right\\} on \\, the \\, interval \\, [-p,p]$\n"
   ]
  },
  {
   "cell_type": "markdown",
   "id": "10257eef",
   "metadata": {},
   "source": [
    "Then, any function of $f$ on  [-p,p] can be expanded by this set"
   ]
  },
  {
   "cell_type": "markdown",
   "id": "c65e8862",
   "metadata": {},
   "source": [
    "#### Fourier series"
   ]
  },
  {
   "cell_type": "markdown",
   "id": "c801043d",
   "metadata": {},
   "source": [
    "$a0 = \\frac{1}{2p} \\int_{-p}^{p} f(x) \\, dx$\n",
    "\n",
    "$an = \\frac{1}{p} \\int_{-p}^{p} f(x) \\cos\\left(\\frac{n\\pi}{p}x\\right) \\, dx$\n",
    "\n",
    "$bn = \\frac{1}{p} \\int_{-p}^{p} f(x) \\sin\\left(\\frac{n\\pi}{p}x\\right) \\, dx$\n",
    "\n"
   ]
  },
  {
   "cell_type": "markdown",
   "id": "b4769cfb",
   "metadata": {},
   "source": [
    "Project on all elemets on the set to compute the coefficients"
   ]
  },
  {
   "cell_type": "markdown",
   "id": "76f00257",
   "metadata": {},
   "source": [
    "#### (i)"
   ]
  },
  {
   "cell_type": "markdown",
   "id": "fd223533",
   "metadata": {},
   "source": [
    "$\\int_{-p}^{p} f(x) \\, dx = \\int_{-p}^{p} \\left( \\frac{a_0}{2} + \\sum_{n=1}^{\\infty} \\left( a_n \\cos\\left(\\frac{n\\pi}{p}x\\right) + b_n \\sin\\left(\\frac{n\\pi}{p}x\\right) \\right) \\right) \\, dx$\n"
   ]
  },
  {
   "cell_type": "markdown",
   "id": "3a1ac4aa",
   "metadata": {},
   "source": [
    "$$= \\frac{a_0}{2} \\int_{-p}^{p} 1 \\, dx + \\sum_{n=1}^{\\infty} \\left( a_n \\int_{-p}^{p} \\cos\\left(\\frac{n\\pi}{p}x\\right) \\, dx + b_n \\int_{-p}^{p} \\sin\\left(\\frac{n\\pi}{p}x\\right) \\, dx \\right)$$\n"
   ]
  },
  {
   "cell_type": "markdown",
   "id": "0e106b84",
   "metadata": {},
   "source": [
    "$$ = \\int_{-p}^{p} f(x) \\, dx = \\frac{a_0}{2} \\int_{-p}^{p} x \\, dx + \\sum_{n=1}^{\\infty} \\left( \\frac{a_n}{p} n\\pi \\sin\\left(\\frac{k\\pi}{p}x\\right) \\bigg|_{-p}^{p} + b_n \\left( -\\frac{p}{n\\pi} \\cos\\left(\\frac{n\\pi}{p}x\\right) \\bigg|_{-p}^{p} \\right) \\right)$$\n"
   ]
  },
  {
   "cell_type": "markdown",
   "id": "403ebf53",
   "metadata": {},
   "source": [
    "$$ = \\int_{-p}^{p} f(x) \\, dx = \\frac{a_0}{2} \\frac{(p - (-p))}{p}$$\n"
   ]
  },
  {
   "cell_type": "markdown",
   "id": "e4c8e666",
   "metadata": {},
   "source": [
    "$$\\frac{a_0}{2} \\frac{(p - (-p))}{p} = pa_0$$\n"
   ]
  },
  {
   "cell_type": "markdown",
   "id": "7c056747",
   "metadata": {},
   "source": [
    "$$\\Rightarrow a_0 = \\frac{1}{p} \\int_{-p}^{p} f(x) \\, dx$$"
   ]
  },
  {
   "cell_type": "markdown",
   "id": "4790e122",
   "metadata": {},
   "source": [
    "#### (ii)"
   ]
  },
  {
   "cell_type": "markdown",
   "id": "08715c36",
   "metadata": {},
   "source": [
    "For the projection of function f(x) onto the given orthogonal set, where $$f(x) = \\frac{a_0}{2} + \\sum_{n=1}^{\\infty} \\left( a_n \\cos\\left(\\frac{n\\pi}{p}x\\right) + b_n \\sin\\left(\\frac{n\\pi}{p}x\\right) \\right),$$\n",
    "\n"
   ]
  },
  {
   "cell_type": "markdown",
   "id": "368099ef",
   "metadata": {},
   "source": [
    "\n",
    "$\\int_{-p}^{p} f(x) \\cos\\left(\\frac{m\\pi}{p}x\\right) \\, dx = \\frac{a_0}{2} \\int_{-p}^{p} \\cos\\left(\\frac{m\\pi}{p}x\\right) \\, dx + \\sum_{n=1}^{\\infty} \\left( a_n \\int_{-p}^{p} \\cos\\left(\\frac{m\\pi}{p}x\\right) \\cos\\left(\\frac{n\\pi}{p}x\\right) \\, dx + b_n \\int_{-p}^{p} \\cos\\left(\\frac{m\\pi}{p}x\\right) \\sin\\left(\\frac{n\\pi}{p}x\\right) \\, dx \\right)$\n",
    "\n",
    "$= \\sum_{n=1}^{\\infty} a_n \\int_{-p}^{p} \\cos\\left(\\frac{m\\pi}{p}x\\right) \\cos\\left(\\frac{n\\pi}{p}x\\right) \\, dx$\n",
    "\n",
    "$= \\sum_{n=1}^{\\infty} a_n \\cdot \\frac{2}{2} \\left( \\int_{-p}^{p} \\cos\\left(\\frac{(m - n)\\pi}{p}x\\right) \\, dx + \\int_{-p}^{p} \\cos\\left(\\frac{(m + n)\\pi}{p}x\\right) \\, dx \\right)$\n",
    "\n",
    "$= \\sum_{n=1}^{\\infty} a_n \\cdot 2 \\left( \\int_{-p}^{p} \\cos\\left(\\frac{(m - n)\\pi}{p}x\\right) \\, dx + \\int_{-p}^{p} \\cos\\left(\\frac{(m + n)\\pi}{p}x\\right) \\, dx \\right)$\n",
    "\n",
    "$= \\sum_{n=1}^{\\infty} a_n \\cdot \\frac{1}{2} \\left( \\int_{-p}^{p} \\cos\\left(\\frac{(m - n)\\pi}{p}x\\right) \\, dx + \\int_{-p}^{p} \\cos\\left(\\frac{(m + n)\\pi}{p}x\\right) \\, dx \\right)$\n",
    "\n",
    "$= \\sum_{n=1}^{\\infty} a_n \\cdot \\frac{1}{2} \\left( \\cos\\left(\\frac{(m - n)\\pi}{p}x\\right) \\bigg|_{-p}^{p} + \\cos\\left(\\frac{(m + n)\\pi}{p}x\\right) \\bigg|_{-p}^{p} \\right)$\n",
    "\n",
    "$= \\sum_{n=1}^{\\infty} a_n \\cdot \\frac{1}{2} \\left( \\cos\\left(\\frac{(m - n)\\pi}{p}p\\right) - \\cos\\left(\\frac{(m - n)\\pi}{p}(-p)\\right) + \\cos\\left(\\frac{(m + n)\\pi}{p}p\\right) - \\cos\\left(\\frac{(m + n)\\pi}{p}(-p)\\right) \\right)$\n",
    "\n",
    "$= \\sum_{n=1}^{\\infty} a_n \\cdot \\frac{1}{2} \\left( \\cos\\left((m - n)\\pi\\right) - \\cos\\left(-(m - n)\\pi\\right) + \\cos\\left((m + n)\\pi\\right) - \\cos\\left(-(m + n)\\pi\\right) \\right)$\n",
    "\n",
    "$= \\sum_{n=1}^{\\infty} a_n \\cdot \\frac{1}{2} \\left( 2 \\cos\\left((m - n)\\pi\\right) + 2 \\cos\\left((m + n)\\pi\\right) \\right)$\n",
    "\n",
    "$= \\sum_{n=1}^{\\infty} a_n \\cdot \\left( \\cos\\left((m - n)\\pi\\right) + \\cos\\left((m + n)\\pi\\right) \\right)$\n"
   ]
  },
  {
   "cell_type": "markdown",
   "id": "d6e238ca",
   "metadata": {},
   "source": [
    "$\\begin{align*}\n",
    "\\sum_{n=1}^{\\infty} \\frac{a_n}{2} \\left( \\int_{-p}^{p} \\cos\\left(\\frac{(m - n)\\pi}{p}x\\right) \\, dx \\bigg|_{z} \\right) &= \\begin{cases}\n",
    "0 & \\text{if } m \\neq n \\\\\n",
    "2P & \\text{if } m = n\n",
    "\\end{cases} + \\left( \\int_{-p}^{p} \\cos\\left(\\frac{(m + n)\\pi}{p}x\\right) \\, dx \\bigg|_{z} \\right) = 0 \\quad \\text{(see (i))} \\\\\n",
    "&= \\sum_{n=1}^{\\infty} \\frac{a_0}{2} \\cdot \\left( 2P \\delta_{nm} - \\text{Kronecker delta} \\right) = am_p\n",
    "\\end{align*}$\n"
   ]
  },
  {
   "cell_type": "markdown",
   "id": "e584c784",
   "metadata": {},
   "source": [
    "#### (iii)"
   ]
  },
  {
   "cell_type": "markdown",
   "id": "98597ab5",
   "metadata": {},
   "source": [
    "For the projection of f(x) onto the given orthogonal set, where $f(x) = \\frac{a_0}{2} + \\sum_{n=1}^{P} \\left( a_n \\cos\\left(\\frac{n\\pi}{p}x\\right) + b_n \\sin\\left(\\frac{n\\pi}{p}x\\right) \\right),$ and considering the projection onto the function $\\sin\\left(\\frac{m\\pi}{p}x\\right),$ we have:\n",
    "\n",
    "$\\int_{-p}^{p} f(x) \\sin\\left(\\frac{m\\pi}{p}x\\right) \\, dx = \\dots = b_m P$\n",
    "\n"
   ]
  },
  {
   "cell_type": "markdown",
   "id": "b8dd929f",
   "metadata": {},
   "source": [
    "Fill in these dots"
   ]
  },
  {
   "cell_type": "markdown",
   "id": "785c070a",
   "metadata": {},
   "source": [
    "#### Definition "
   ]
  },
  {
   "cell_type": "markdown",
   "id": "5e74a039",
   "metadata": {},
   "source": [
    "The Fourier series of a function $f$ defined on the interval (-p,p) is given by"
   ]
  },
  {
   "cell_type": "markdown",
   "id": "cc295a83",
   "metadata": {},
   "source": [
    "$f(x) = \\frac{a_0}{2} + \\sum_{n=1}^{\\infty} \\left( a_n \\cos\\left(\\frac{n\\pi}{p}x\\right) + b_n \\sin\\left(\\frac{n\\pi}{p}x\\right) \\right)$\n"
   ]
  },
  {
   "cell_type": "markdown",
   "id": "c654d443",
   "metadata": {},
   "source": [
    "Where"
   ]
  },
  {
   "cell_type": "markdown",
   "id": "8e032416",
   "metadata": {},
   "source": [
    "$$a_0 = \\frac{1}{p} \\int_{-p}^{p} f(x) \\, dx$$\n"
   ]
  },
  {
   "cell_type": "markdown",
   "id": "fc326b54",
   "metadata": {},
   "source": [
    "$$a_n = \\frac{1}{p} \\int_{-p}^{p} f(x) \\cos\\left(\\frac{n\\pi}{p}x\\right) \\, dx$$\n"
   ]
  },
  {
   "cell_type": "markdown",
   "id": "1aea1f46",
   "metadata": {},
   "source": [
    "$$b_n = \\frac{1}{p} \\int_{-p}^{p} f(x) \\sin\\left(\\frac{n\\pi}{p}x\\right) \\, dx$$\n"
   ]
  },
  {
   "cell_type": "markdown",
   "id": "bef8a8ef",
   "metadata": {},
   "source": [
    "#### Example 2"
   ]
  },
  {
   "cell_type": "markdown",
   "id": "e90f0a9a",
   "metadata": {},
   "source": [
    "$$f(x) = \\begin{cases}\n",
    "0 & \\text{for } -\\pi < x < 0 \\\\\n",
    "\\pi - x & \\text{for } 0 \\leq x < \\pi \\\\\n",
    "\\end{cases}$$\n"
   ]
  },
  {
   "cell_type": "markdown",
   "id": "dab20187",
   "metadata": {},
   "source": [
    "Details on calculations of $a_0, a_n, b_n$ in examples and tutorial"
   ]
  },
  {
   "cell_type": "markdown",
   "id": "bb1e3297",
   "metadata": {},
   "source": [
    "#### Partial sums of the Fourier Series"
   ]
  },
  {
   "cell_type": "markdown",
   "id": "426a3204",
   "metadata": {},
   "source": [
    "$$S1(x) = \\frac{\\pi}{4}$$\n"
   ]
  },
  {
   "cell_type": "markdown",
   "id": "d7a02752",
   "metadata": {},
   "source": [
    "$$S2(x) = \\frac{a_0}{2} + a_1 \\cos(x) + b_1 \\sin(x) = \\frac{\\pi}{4} + \\frac{2}{\\pi} \\cos(x) + \\sin(x)$$\n"
   ]
  },
  {
   "cell_type": "markdown",
   "id": "c022da39",
   "metadata": {},
   "source": [
    "$$S3(x) = \\frac{a_0}{2} + \\sum_{n=1}^{2} (a_n \\cos(nx) + b_n \\sin(nx)) = \\frac{\\pi}{4} + \\frac{2}{\\pi} \\cos(x) + \\sin(x) + \\frac{1}{2} \\sin(2x)$$\n"
   ]
  },
  {
   "cell_type": "markdown",
   "id": "dbb78cbe",
   "metadata": {},
   "source": [
    "$$SN(x) = \\frac{a_0}{2} + \\sum_{n=1}^{N-1} (a_n \\cos(nx) + b_n \\sin(nx))$$\n"
   ]
  },
  {
   "cell_type": "markdown",
   "id": "fbfa1848",
   "metadata": {},
   "source": [
    "## Pictures are below here, still working on adding these"
   ]
  },
  {
   "cell_type": "code",
   "execution_count": null,
   "id": "bf62875a",
   "metadata": {},
   "outputs": [],
   "source": []
  },
  {
   "cell_type": "markdown",
   "id": "96c4c633",
   "metadata": {},
   "source": [
    "The partial sums converge to $f(x)$ and the point(s) of discontinuity are approximately given by the mid-point $\\frac{f(x_+) + f(x_-)}{2}$.\n",
    "\n"
   ]
  },
  {
   "cell_type": "markdown",
   "id": "0e7627ff",
   "metadata": {},
   "source": [
    "$f(x_+) = \\lim_{{h \\to 0^+}} f(x + h)$ (limit from the right) \\\n",
    "$f(x_-) = \\lim_{{h \\to 0^-}} f(x - h)$ (limit from the left)\n"
   ]
  },
  {
   "cell_type": "markdown",
   "id": "8c0ded4c",
   "metadata": {},
   "source": [
    "#### Theorem: Covergance of Fourier Series"
   ]
  },
  {
   "cell_type": "markdown",
   "id": "574e866b",
   "metadata": {},
   "source": [
    "Let $f$ and $f'$ be piecewise continuous on the interval $(-p, p)$, where $f$ and $f'$ are continuous except at a finite number of points in the interval and have only finite discontinuities at these points. Then, the Fourier series of $f$ on the interval converges to $f(x)$ at a point of continuity.\n"
   ]
  },
  {
   "cell_type": "markdown",
   "id": "e38ac9f0",
   "metadata": {},
   "source": [
    "At a point of discontinuity, the Fourier series of $f$ converges to the average value of $f$ at that point.\n",
    "$$f(x_+) + \\frac{f(x_-)}{2}$$\n",
    "\n"
   ]
  },
  {
   "cell_type": "markdown",
   "id": "222b986d",
   "metadata": {},
   "source": [
    "Where $ f(x_+) \\text{ and } f(x_-) \\text{ denote the limits of } f \\text{ at } x \\text{ from the right and from the left, respectively.}$\n"
   ]
  },
  {
   "cell_type": "markdown",
   "id": "b0e34039",
   "metadata": {},
   "source": [
    "#### Dirichlet Conditions"
   ]
  },
  {
   "cell_type": "markdown",
   "id": "a8d5ba7b",
   "metadata": {},
   "source": [
    "1. $\\text{Piecewise continuous on the interval } (-p, p)$\n",
    "2. $\\text{Continuous except at a finite number of points}$\n",
    "3. $\\text{Finite discontinuities at these points}$\n"
   ]
  },
  {
   "cell_type": "markdown",
   "id": "56d9c8db",
   "metadata": {},
   "source": [
    "#### Notation"
   ]
  },
  {
   "cell_type": "code",
   "execution_count": null,
   "id": "59bc9eb8",
   "metadata": {},
   "outputs": [],
   "source": [
    "Derivative"
   ]
  },
  {
   "cell_type": "markdown",
   "id": "1445036a",
   "metadata": {},
   "source": [
    "$$f'(x) = \\frac{d}{dx} f(x)$$\n",
    "\n"
   ]
  },
  {
   "cell_type": "code",
   "execution_count": null,
   "id": "1ff124a3",
   "metadata": {},
   "outputs": [],
   "source": [
    "Looking at the example:"
   ]
  },
  {
   "cell_type": "markdown",
   "id": "bfc29af0",
   "metadata": {},
   "source": [
    "$$f(x) = \\begin{cases}\n",
    "0 & \\text{for } -\\pi < x < 0 \\\\\n",
    "\\pi - x & \\text{for } 0 \\leq x < \\pi \\\\\n",
    "\\end{cases}$$"
   ]
  },
  {
   "cell_type": "markdown",
   "id": "6cb48c8d",
   "metadata": {},
   "source": [
    "Above example $f(0) \\approx \\frac{\\pi}{2}$\n"
   ]
  },
  {
   "cell_type": "markdown",
   "id": "48a0fa1a",
   "metadata": {},
   "source": [
    "What happens if we (periodically) add $f(x)$ to the right and left?"
   ]
  },
  {
   "cell_type": "markdown",
   "id": "21269643",
   "metadata": {},
   "source": [
    "## Pictures Below WIP"
   ]
  },
  {
   "cell_type": "code",
   "execution_count": null,
   "id": "8cf02bff",
   "metadata": {},
   "outputs": [],
   "source": []
  },
  {
   "cell_type": "markdown",
   "id": "b032664e",
   "metadata": {},
   "source": [
    "Does the theorem still apply?\n",
    "Yes, but for a larger interval $(−mp, mp)$ Use the Fourier series (and its periodic\n",
    "properties) and repeat for new, additional subintervals."
   ]
  },
  {
   "cell_type": "markdown",
   "id": "57fabb45",
   "metadata": {},
   "source": [
    "## Pictures BELOW WIP"
   ]
  },
  {
   "cell_type": "code",
   "execution_count": null,
   "id": "aa323887",
   "metadata": {},
   "outputs": [],
   "source": []
  }
 ],
 "metadata": {
  "kernelspec": {
   "display_name": "Python 3 (ipykernel)",
   "language": "python",
   "name": "python3"
  },
  "language_info": {
   "codemirror_mode": {
    "name": "ipython",
    "version": 3
   },
   "file_extension": ".py",
   "mimetype": "text/x-python",
   "name": "python",
   "nbconvert_exporter": "python",
   "pygments_lexer": "ipython3",
   "version": "3.11.4"
  }
 },
 "nbformat": 4,
 "nbformat_minor": 5
}
