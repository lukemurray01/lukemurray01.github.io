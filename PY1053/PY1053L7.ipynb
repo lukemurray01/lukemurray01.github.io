{
 "cells": [
  {
   "cell_type": "markdown",
   "metadata": {},
   "source": [
    "## Lecture 7"
   ]
  },
  {
   "cell_type": "markdown",
   "metadata": {},
   "source": [
    "We have seen how to find the potential energy for a dipole in an electric field. How about a charge?  \n",
    "\\\n",
    "Suppose an electric field moves a charge $q$.\n",
    "$$\\Delta U = -W$$ \\\n",
    "\\begin{align*}\n",
    "dW &= \\underline{F} \\cdot \\underline{ds} \\\\  \n",
    "~&= q \\underline{E} \\cdot \\underline{ds}\n",
    "\\end{align*}\n",
    "Find total work done by integrating \n",
    "\\begin{align*}\n",
    "    W_{tot} = \\int dW_{eff} = \\int ^{Sf}_{Si} q \\underline{E} \\cdot \\underline{ds}\n",
    "\\end{align*}\n",
    "$S_{i}$ = initial position $S_{f}$ = final position  \n",
    "For a uniform field:\n",
    "$$\n",
    "W_{tot} = q \\underline{E} \\cdot \\int ^{S_{f}}_{S_{i}} \\underline{ds}\n",
    " = q \\underline{E} \\cdot \\Delta \\underline{s}\n",
    "$$\n",
    "In analogy to $\\underline{E} \\equiv \\frac{\\underline{F}}{q}$  \n",
    "We define V $\\equiv \\frac{u}{q}$  \n",
    "V $\\rightarrow$ electric potential  \n",
    "u $\\rightarrow$ potential energy  \n",
    "V depends only on position of the electric field.  \n",
    "As we know, the important thing is often the change in potential energy $\\Delta$U.  \n",
    "Similarly, the important quantity with V is the potential difference between two points.  \n",
    "$\\Delta V = V_{f} - V_{i} = \\frac{\\Delta u}{q} = \\frac{-W}{q}$\n",
    "$$\n",
    "\\Delta V = - \\int^{S_{f}}_{S_{i}} \\underline{E} \\cdot \\underline{ds}\n",
    "$$"
   ]
  },
  {
   "cell_type": "markdown",
   "metadata": {},
   "source": [
    "#### Example"
   ]
  },
  {
   "cell_type": "markdown",
   "metadata": {},
   "source": [
    "![l71](figures/l71.PNG)"
   ]
  },
  {
   "cell_type": "markdown",
   "metadata": {},
   "source": [
    "$$\n",
    "V_{f} - V_{i} = - \\int^{S_{f}}_{S_{i}} \\underline{E} \\cdot \\underline{ds}\n",
    "$$\n",
    "Need to specify the path taken.\\\n",
    "Choose direct, diagonal path.\\\n",
    "Integrate along the line joining the points"
   ]
  },
  {
   "cell_type": "markdown",
   "metadata": {},
   "source": [
    "$$\n",
    "\\begin{align}\n",
    "    \\Delta V = V{f} - V{f} &= - \\int^{S{f}}{S{i}} \\underline{E} \\cdot \\underline{ds} \\\\\n",
    "                            &= -E\\cos\\theta \\int^{S{f}}{S{i}}ds \\\\\n",
    "                            &= - E\\cos\\theta d \n",
    "\\end{align}\n",
    "$$\n",
    "Going another path"
   ]
  },
  {
   "cell_type": "markdown",
   "metadata": {},
   "source": [
    "![l72](figures/l72.PNG)"
   ]
  },
  {
   "cell_type": "markdown",
   "metadata": {},
   "source": [
    "This time, it moves horizontally along (1) and then vertically along (2).\\\n",
    "The Answer is the same as before.\\\n",
    "\\\n",
    "In general: The potential difference doesn't depend on the path you take.\n",
    "\\\n",
    "For a point charge q:\n",
    "$$\n",
    "V(r) = \\frac{1}{4 \\pi \\epsilon_{0}} \\frac{q_{1}}{r}\n",
    "$$\n",
    "$\\rightarrow$ choosing zero of $V$ at r $\\rightarrow \\infty$\\\n",
    "Superposition principle holds for $V$ as well as $\\underline{E}$.\\\n",
    "For n point charges, you just add all the individual potentials to get the full potential.\n",
    "$$\n",
    "V_{TOT} = \\sum^{n}_{i=1} V_{i} = \\frac{1}{4 \\pi \\epsilon_{0}} \\sum^{n}_{i=1} \\frac{q_{i}}{r_{i}}\n",
    "$$\n",
    "For a continuous distribution, we use integration instead of summation.\n",
    "$$\n",
    "dV = \\frac{1}{4 \\pi \\epsilon_{0}} \\frac{dq}{r}\n",
    "$$\n",
    "$$\n",
    "V_{TOT} = \\frac{1}{4 \\pi \\epsilon_{0}}  \\int \\frac{dq}{r}\n",
    "$$"
   ]
  },
  {
   "cell_type": "markdown",
   "metadata": {},
   "source": [
    "#### Example"
   ]
  },
  {
   "cell_type": "markdown",
   "metadata": {},
   "source": [
    "![l73](figures/l73.PNG)"
   ]
  },
  {
   "cell_type": "markdown",
   "metadata": {},
   "source": [
    "Point P is at a height $z$ directly above the centre of the ring.\\\n",
    "Ring is made up of tiny elements of charge dq.\n",
    "\\\n",
    "Find potential at $P$ due to dq.\\\n",
    "\\begin{align*}\n",
    "Dv = \\frac{1}{4 \\pi \\epsilon_{0}}\\int \\frac{dq}{r}\\\\\n",
    "r^{2} = R^{2} + z^{2}\\\\\n",
    "V_{TOT} &= \\frac{1}{4 \\pi \\epsilon_{0}}  \\int \\frac{dq}{r} = \\frac{1}{4 \\pi \\epsilon_{0}} \\int \\frac{dq}{\\sqrt{R^{2} + z^{2}}}\\\\\n",
    "&= \\frac{1}{4 \\pi \\epsilon_{0} \\sqrt{R^{2} + z^{2}} } \\int dq\\\\\n",
    "V_{TOT} &= \\frac{1}{4 \\pi \\epsilon_{0}} \\frac{Q}{\\sqrt{R^{2} + z^{2}}}\\\n",
    "\\end{align*}\n",
    "We can also write the electric field in terms of the potential.\\\n",
    "$$\n",
    "E_{x} = \\frac{-\\partial V}{\\partial x},~ E_{y} = \\frac{-\\partial V}{\\partial y},~ E_{z} = \\frac{-\\partial V}{\\partial z}  \n",
    "$$\n",
    "For the charged ring above:\\\n",
    "\\begin{align*}\n",
    "    E_{x} = 0, E_{y} = 0, E_{z} = \\frac{Q}{4 \\pi \\epsilon_{0}} \\frac{z}{(R^{2}+z^{2})^{\\frac{3}{2}}}\n",
    "\\end{align*}"
   ]
  }
 ],
 "metadata": {
  "kernelspec": {
   "display_name": "Python 3",
   "language": "python",
   "name": "python3"
  },
  "language_info": {
   "codemirror_mode": {
    "name": "ipython",
    "version": 3
   },
   "file_extension": ".py",
   "mimetype": "text/x-python",
   "name": "python",
   "nbconvert_exporter": "python",
   "pygments_lexer": "ipython3",
   "version": "3.8.3"
  }
 },
 "nbformat": 4,
 "nbformat_minor": 5
}
