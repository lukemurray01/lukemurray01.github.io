{
 "cells": [
  {
   "cell_type": "markdown",
   "id": "5d5a4891",
   "metadata": {},
   "source": [
    "## Lecture 5"
   ]
  },
  {
   "cell_type": "markdown",
   "id": "efaebc58",
   "metadata": {},
   "source": [
    "#### Gauss' Law"
   ]
  },
  {
   "cell_type": "markdown",
   "id": "d1fd79f8",
   "metadata": {},
   "source": [
    "# INSERT PICTURE HERE"
   ]
  },
  {
   "cell_type": "markdown",
   "id": "633a5444",
   "metadata": {},
   "source": [
    "Gauss' Law"
   ]
  },
  {
   "cell_type": "markdown",
   "id": "79e4fc51",
   "metadata": {},
   "source": [
    "$$\n",
    "\\frac{\\sum{q_{in}}}{\\epsilon_{0}} = \\frac{Q_{inside}}{\\epsilon_{0}} = \\int{\\underline{E} \\cdot d\\underline{A}}\n",
    "$$"
   ]
  },
  {
   "cell_type": "markdown",
   "id": "9d078780",
   "metadata": {},
   "source": [
    "$Note$: Only charge inside the closed surface is included"
   ]
  },
  {
   "cell_type": "markdown",
   "id": "3678f415",
   "metadata": {},
   "source": [
    "# INSERT PICTURE HERE"
   ]
  },
  {
   "cell_type": "markdown",
   "id": "fbe58acf",
   "metadata": {},
   "source": [
    "Gaussian surface, radius r $>$ $R$  \n",
    "Spherical symmetry $\\rightarrow \\underline{E}$ points radially  \n",
    "$E$ only depends on $F$ $\\rightarrow$ $E$(t)  \n",
    "Gauss' Law\n",
    "$$\n",
    "\\int{\\underline{E} \\cdot d\\underline{A}} = \\frac{Q_{in}}{\\epsilon_{0}} = \\frac{Q_{tot}}{\\epsilon_{0}}\n",
    "$$\n",
    "$$\n",
    "\\underline{E}\\cdot dA = E dA = E(r)dA\n",
    "$$\n",
    "$$\n",
    "\\int{\\underline{E} \\cdot d\\underline{A}} = \\int{\\underline{E}(r) \\cdot d\\underline{A}} = E(r)\\int dA\n",
    "$$\n",
    "We know that $\\int dA$ is the surface area of a sphere of radius r $= 4 \\pi r^2$\n",
    "$$\n",
    "E(t) = \\frac{Q_{tot}}{\\epsilon_{0} 4 \\pi r^2}\n",
    "$$\n",
    "for r $\\leq$ $R$  \n",
    "$$E(r) = \\frac{Q_{in\"r\"}}{4 \\pi \\epsilon_{0} r^2}$$\n",
    "Uniform charge distribution, charge density = $\\rho$  \n",
    "$$Q_{in}r = \\rho * (\\textrm{volume inside r}) = \\rho \\frac{4 \\pi }{3}r^3$$  \n",
    "$$\n",
    "E(r) = \\frac{\\rho \\frac{4\\pi}{3} r^3 }{4 \\pi \\epsilon_{0} r^2} = \\frac{\\rho}{3 \\epsilon_{0}} r\n",
    "$$\n",
    "for r $<$ $R$ [Uniform charge]"
   ]
  },
  {
   "cell_type": "code",
   "execution_count": null,
   "id": "d3416695",
   "metadata": {},
   "outputs": [],
   "source": []
  }
 ],
 "metadata": {
  "kernelspec": {
   "display_name": "Python 3 (ipykernel)",
   "language": "python",
   "name": "python3"
  },
  "language_info": {
   "codemirror_mode": {
    "name": "ipython",
    "version": 3
   },
   "file_extension": ".py",
   "mimetype": "text/x-python",
   "name": "python",
   "nbconvert_exporter": "python",
   "pygments_lexer": "ipython3",
   "version": "3.11.4"
  }
 },
 "nbformat": 4,
 "nbformat_minor": 5
}
