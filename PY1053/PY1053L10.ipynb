{
 "cells": [
  {
   "cell_type": "markdown",
   "id": "b4651d4e",
   "metadata": {},
   "source": [
    "## Lecture 10"
   ]
  },
  {
   "cell_type": "markdown",
   "id": "126f6fdd",
   "metadata": {},
   "source": [
    "$\\underline{Aside:}$\\\n",
    "Conductor: Material in which charges can move freely.\\\n",
    "Insulator: Material in which cannot move freely.\\\n",
    "Charged,isolated conductors."
   ]
  },
  {
   "cell_type": "markdown",
   "id": "345826b9",
   "metadata": {},
   "source": [
    "(1) Any excess charge on an insulated conducting object will be on the surface on the object.\\\n",
    "Why? Charge repel each other and will move as far away as they can."
   ]
  },
  {
   "cell_type": "markdown",
   "id": "4d36ed50",
   "metadata": {},
   "source": [
    "(2) There cannot be an electric field $\\textbf{inside}$ a conductor.\\\n",
    "Why? Suppose there were an electric field inside a conductor, this field will exert a force on the charges in the conductor. They move around and rearrange until the field they make cancels the original field. "
   ]
  },
  {
   "cell_type": "markdown",
   "id": "3ab7826a",
   "metadata": {},
   "source": [
    "(3) The electric field at the surface of a conductor is perpendicular to the surface.\\\n",
    "Why? If the field had a component along the surface, this would move the surface charges until the original field is cancelled by the surface charges."
   ]
  },
  {
   "cell_type": "markdown",
   "id": "9d57f00f",
   "metadata": {},
   "source": [
    "#### Capacitors"
   ]
  },
  {
   "cell_type": "markdown",
   "id": "cb56e395",
   "metadata": {},
   "source": [
    "A capacitor is a device that allows storage of electric energy.\\\n",
    "We will only consider parallel plate capacitors.\\\n",
    "Two isolated conductors carrying equal and opposite charge Q with a potential difference V between them.\\\n",
    "Define capacitor C as:"
   ]
  },
  {
   "cell_type": "markdown",
   "id": "477f31f4",
   "metadata": {},
   "source": [
    "$$\n",
    "C = \\frac{Q}{V}\n",
    "$$\n",
    "$\\underline{Units:}$ Farad = $\\frac{Coulomb}{Volt}$\n",
    "$$\n",
    "Q = VC\n",
    "$$"
   ]
  },
  {
   "cell_type": "markdown",
   "id": "e1ffe16b",
   "metadata": {},
   "source": [
    "![l102](figures/l102.PNG)\n"
   ]
  },
  {
   "cell_type": "markdown",
   "id": "e6eb0876",
   "metadata": {},
   "source": [
    "Uniform field between plates, \"Fringing\" at edges. Usually length $>>$ d so we can essentially ignore the edges.\n"
   ]
  },
  {
   "cell_type": "markdown",
   "id": "ce86fe73",
   "metadata": {},
   "source": [
    "We want to find an expression for C for our parallel plate capacitor. \\\n",
    "We know: $C = \\frac{Q}{V}$\n",
    "So we need Q and V."
   ]
  },
  {
   "cell_type": "markdown",
   "id": "9220549e",
   "metadata": {},
   "source": [
    "$\\underline{Q:}$ The bigger the area of the plate, the higher Q can be.\\\n",
    "Guess : Q $\\propto$ A\\\n",
    "The higher Q, the higher the electric field.\\\n",
    "Guess : Q $\\propto$ E\\\n",
    "$\\Rightarrow$ Q $\\propto$ EA\\\n",
    "Need the constant of proportionality. By examining the units, our constant must have the same units as $\\epsilon_{0}$ $\\rightarrow$ permittivity of free space.\n",
    "$$\n",
    "Q = \\epsilon_{0}EA\n",
    "$$\n",
    "Which is experimentally and theoretically true.\\\n",
    "Now need V."
   ]
  },
  {
   "cell_type": "markdown",
   "id": "96fb8e48",
   "metadata": {},
   "source": [
    "![l101](figures/l101.PNG)"
   ]
  },
  {
   "cell_type": "markdown",
   "id": "49b2a9e7",
   "metadata": {},
   "source": [
    "\\begin{align*}\n",
    "    V_{f} - V_{i} &= - \\int^{f}_{i} \\underline{E} \\cdot d \\underline{s}\\\\\n",
    "    \\underline{E} \\parallel d\\underline{s}\\\\\n",
    "    \\underline{E} \\cdot d\\underline{s} = Eds\\\\\n",
    "    V_{f} - V_{i} &= - \\int^{f}_{i} Eds\\\\\n",
    "    &= -E \\int^{f}_{i} ds\\\\\n",
    "    &= -Ed\\\\\n",
    "    V = \\mid V_{f} - V_{i} \\mid &= Ed\n",
    "\\end{align*}"
   ]
  },
  {
   "cell_type": "markdown",
   "id": "dba77e53",
   "metadata": {},
   "source": [
    "We want V, the absolute value of the potential difference between the plates.\n"
   ]
  },
  {
   "cell_type": "markdown",
   "id": "0e90a89a",
   "metadata": {},
   "source": [
    "\\begin{align*}\n",
    "    C = \\frac{Q}{V} = \\frac{\\epsilon_{0}EA}{Ed}\\\\\n",
    "    C = \\frac{\\epsilon_{0}A}{d}\n",
    "\\end{align*}"
   ]
  },
  {
   "cell_type": "markdown",
   "id": "3a6db0ed",
   "metadata": {},
   "source": [
    "$\\underline{Note:}$ Difference shapes of capacitors give difference expressions d values of C\n"
   ]
  },
  {
   "cell_type": "markdown",
   "id": "e0ab2af8",
   "metadata": {},
   "source": [
    "#### Charging a capacitor:"
   ]
  },
  {
   "cell_type": "markdown",
   "id": "20b63ddb",
   "metadata": {},
   "source": [
    "A battery is something that can set up a potential difference.\\\n",
    "Negative charges move as shown by the arrows.\\\n",
    "Build up charge on the capacitor until the potential difference built up by the capacitor matches that of the battery. \\\n",
    "$\\underline{Capacitors \\, in \\, parallel:}$\\\n",
    "Each capacitor reaches the same potential difference, V.\\\n",
    "Total charger stored = sum of charges on each capacitor."
   ]
  },
  {
   "cell_type": "markdown",
   "id": "38c3c406",
   "metadata": {},
   "source": [
    "\\begin{align*}\n",
    "    Q_{TOT} &= C_{1}V+C_{2}V+C_{3}V\\\\\n",
    "            &= V( C_{1} +  C_{2} +  C_{3})\\\\\n",
    "            &= Q_{1} + Q_{2} + Q_{3}\\\\\n",
    "    Q_{TOT} &\\equiv C_{eq}V\\\\\n",
    "    C_{eq} \\rightarrow ~\\textrm{Equivalent capacitance}\\\\\n",
    "\\end{align*}"
   ]
  },
  {
   "cell_type": "markdown",
   "id": "b33c1df0",
   "metadata": {},
   "source": [
    "Equivalent capacitance of capacitors in parallel is the sum of the capacitance's.\n"
   ]
  },
  {
   "cell_type": "markdown",
   "id": "b3618275",
   "metadata": {},
   "source": [
    "$$\n",
    "C_{eq} = \\sum_{i}C_{i}\n",
    "$$"
   ]
  },
  {
   "cell_type": "code",
   "execution_count": null,
   "id": "2e765858",
   "metadata": {},
   "outputs": [],
   "source": []
  }
 ],
 "metadata": {
  "kernelspec": {
   "display_name": "Python 3 (ipykernel)",
   "language": "python",
   "name": "python3"
  },
  "language_info": {
   "codemirror_mode": {
    "name": "ipython",
    "version": 3
   },
   "file_extension": ".py",
   "mimetype": "text/x-python",
   "name": "python",
   "nbconvert_exporter": "python",
   "pygments_lexer": "ipython3",
   "version": "3.11.4"
  }
 },
 "nbformat": 4,
 "nbformat_minor": 5
}
