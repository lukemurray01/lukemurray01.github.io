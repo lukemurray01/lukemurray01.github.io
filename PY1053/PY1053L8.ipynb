{
 "cells": [
  {
   "cell_type": "markdown",
   "id": "6a2107c6",
   "metadata": {},
   "source": [
    "## Lecture 8"
   ]
  },
  {
   "cell_type": "markdown",
   "id": "685acec1",
   "metadata": {},
   "source": [
    "Applications of Gauss' Law\\\n",
    "Static charge inside a conductor = 0\\\n",
    "$\\underline{E}$ = 0 since no current is flowing (electrostatics)"
   ]
  },
  {
   "cell_type": "markdown",
   "id": "0a140e4c",
   "metadata": {},
   "source": [
    "![l81](figures/l81.PNG)\n"
   ]
  },
  {
   "cell_type": "markdown",
   "id": "2b659005",
   "metadata": {},
   "source": [
    "Gaussian surface, with charge on the surface."
   ]
  },
  {
   "cell_type": "markdown",
   "id": "fcd22272",
   "metadata": {},
   "source": [
    "\\begin{align*}\n",
    "    \\frac{Q_{in}}{\\epsilon_{0}} &= \\int \\underline{E} \\cdot d\\underline{A} = 0\\\\\n",
    "    \\textrm{We've said that $\\int \\underline{E} = 0$}\\\\\n",
    "    &\\Rightarrow Q_{in} = 0\n",
    "\\end{align*}"
   ]
  },
  {
   "cell_type": "markdown",
   "id": "6baadad5",
   "metadata": {},
   "source": [
    "for $\\textbf{any}$ region inside the conductor, $\\underline{any \\,free \\, charge \\, is \\, entirely \\, on \\, the \\, surface}$ of the conductor."
   ]
  },
  {
   "cell_type": "markdown",
   "id": "83e263cd",
   "metadata": {},
   "source": [
    "#### Example  \n",
    "Electric field due to a long, straight wire"
   ]
  },
  {
   "cell_type": "markdown",
   "id": "c1cb0e2c",
   "metadata": {},
   "source": [
    "![l82](figures/l82.PNG)\n",
    "\n"
   ]
  },
  {
   "cell_type": "markdown",
   "id": "e3d30699",
   "metadata": {},
   "source": [
    "Uniform charge per unit length: $\\lambda$."
   ]
  },
  {
   "cell_type": "markdown",
   "id": "58c2147c",
   "metadata": {},
   "source": [
    "\\begin{align*}\n",
    "    \\frac{{Q}_{in}}{\\epsilon_{0}}=\\int \\underline{E}\\cdot d\\underline{A} = E(r) \\int dA = E(r)2 \\pi r l\\\\\n",
    "    Q_{in}\\textrm{section of length L} = L\\lambda\\\\\n",
    "    \\Rightarrow \\frac{ L \\lambda}{\\epsilon_{0}} = E(r)2 \\pi r L \\\\\n",
    "    \\textrm{the L's will cancel}\\\\\n",
    "    \\Rightarrow E(r) = \\frac{\\lambda}{2 \\pi \\epsilon_{0} r}\n",
    "\\end{align*}"
   ]
  },
  {
   "cell_type": "markdown",
   "id": "188ab3af",
   "metadata": {},
   "source": [
    "Electric field a distance r from a long,straight line charge."
   ]
  },
  {
   "cell_type": "markdown",
   "id": "c91834d2",
   "metadata": {},
   "source": [
    "#### Example  \n",
    "Electric field outside a flat conductor surface."
   ]
  },
  {
   "cell_type": "markdown",
   "id": "8d4ed441",
   "metadata": {},
   "source": [
    "![l83](figures/l83.PNG)"
   ]
  },
  {
   "cell_type": "markdown",
   "id": "7c52c69e",
   "metadata": {},
   "source": [
    "(1) $\\underline{E} \\bot$ surface of conductor\\\n",
    "Gaussian surface = box with top face above the conductor surface and bottom surface below  (inside)."
   ]
  },
  {
   "cell_type": "markdown",
   "id": "d31fe4ad",
   "metadata": {},
   "source": [
    "\\begin{align*}\n",
    "    \\frac{Q_{in}}{\\epsilon_{0}} &= \\int_{\\textrm{Gaussian surface}} \\underline{E} \\cdot d\\underline{A}\\\\\n",
    "    &= \\int_{\\textrm{Upper Face}} {\\underline{E}} \\cdot d\\underline{A} + \\int_{\\textrm{Lower Face}} \\underline{E} \\cdot d\\underline{A} + \\int_{\\textrm{Sides}} \\underline{E} \\cdot d{\\underline{A}}\n",
    "\\end{align*}"
   ]
  },
  {
   "cell_type": "markdown",
   "id": "b3af2d6e",
   "metadata": {},
   "source": [
    "But we know $\\underline{E} \\bot$ then $\\int_{\\textrm{Sides}} \\underline{E} \\cdot d{\\underline{A}} = 0$ and $\\int_{\\textrm{Lower Face}} \\underline{E} \\cdot d{\\underline{A}} =0$"
   ]
  },
  {
   "cell_type": "markdown",
   "id": "833c74a5",
   "metadata": {},
   "source": [
    "\\begin{align*}\n",
    "    \\Rightarrow \\frac{Q_{in}}{\\epsilon_{0}} &= E_{out}A\\\\\n",
    "    \\Rightarrow E_{out} &= \\frac{1}{\\epsilon_{0}} \\frac{Q_{surface}}{A}\\\\\n",
    "    \\frac{Q_{surface}}{A} &= \\sigma = \\textrm{charge per unit area}\n",
    "\\end{align*}"
   ]
  },
  {
   "cell_type": "markdown",
   "id": "dd8753b6",
   "metadata": {},
   "source": [
    "Electric field outside the conductor\\\n",
    "$$\n",
    "E = \\frac{\\sigma}{\\epsilon_{0}}\n",
    "$$"
   ]
  },
  {
   "cell_type": "code",
   "execution_count": null,
   "id": "137574a8",
   "metadata": {},
   "outputs": [],
   "source": []
  }
 ],
 "metadata": {
  "kernelspec": {
   "display_name": "Python 3 (ipykernel)",
   "language": "python",
   "name": "python3"
  },
  "language_info": {
   "codemirror_mode": {
    "name": "ipython",
    "version": 3
   },
   "file_extension": ".py",
   "mimetype": "text/x-python",
   "name": "python",
   "nbconvert_exporter": "python",
   "pygments_lexer": "ipython3",
   "version": "3.11.4"
  }
 },
 "nbformat": 4,
 "nbformat_minor": 5
}
