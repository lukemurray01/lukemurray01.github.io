{
 "cells": [
  {
   "cell_type": "markdown",
   "id": "8f9c7b72",
   "metadata": {},
   "source": [
    "## Lecture 3"
   ]
  },
  {
   "cell_type": "markdown",
   "id": "6559ecd6",
   "metadata": {},
   "source": [
    "$$\\mid \\underline{F} \\mid = \\frac{1}{4 \\pi \\epsilon_{0} } \\frac{\\mid q_{1} \\mid \\mid q_{2} \\mid}{r^{2}}$$\n",
    "For a bunch of charged particles, the total force on any one $q_{1}$ is the vector sum of all the individual forces (Vector sum).  \n",
    "Suppose we have a spherical shell or uniform charge and a charged particle nearby."
   ]
  },
  {
   "cell_type": "markdown",
   "id": "06ac7cd3",
   "metadata": {},
   "source": [
    "## INSERT PICTURE HERE"
   ]
  },
  {
   "cell_type": "markdown",
   "id": "a155c8c5",
   "metadata": {},
   "source": [
    "#### Shell Theorum"
   ]
  },
  {
   "cell_type": "markdown",
   "id": "4b51ee7a",
   "metadata": {},
   "source": [
    "A shell of uniform charge exerts a force on a charge outside the shell that is the same as if all the charge in the shell were at its centre.  \n",
    "$$ F = \\mid \\underline{F} \\mid = \\frac{1}{4 \\pi \\epsilon_{0} } \\frac{\\mid q_{1} \\mid \\mid Q \\mid}{r^{2}}$$"
   ]
  },
  {
   "cell_type": "markdown",
   "id": "c55235fa",
   "metadata": {},
   "source": [
    "## INSERT PICTURE HERE"
   ]
  },
  {
   "cell_type": "markdown",
   "id": "fe6de699",
   "metadata": {},
   "source": [
    "With $q$ at the centre and $Q$ at the edge of the outer circle. It's clear that everything cancels resulting in no force."
   ]
  },
  {
   "cell_type": "markdown",
   "id": "b18cd2d8",
   "metadata": {},
   "source": [
    "## INSERT PICTURE HERE"
   ]
  },
  {
   "cell_type": "markdown",
   "id": "76a0506c",
   "metadata": {},
   "source": [
    "With $q$ away from the centre, i.e. Attracted to the nearby bit strongly. But the pull from all the for away \"bits\" is enough to cancel it out.  \n",
    "In fact, $F=0$ anywhere inside the shell.  \n",
    "Consider instead, a uniformly charged sphere.  "
   ]
  },
  {
   "cell_type": "markdown",
   "id": "1b17500f",
   "metadata": {},
   "source": [
    "## INSERT PICTURE HERE"
   ]
  },
  {
   "cell_type": "markdown",
   "id": "5ddce06c",
   "metadata": {},
   "source": [
    " A sphere is a collection of shells, one inside the other.\n",
    "$$ \\mid \\underline{F} \\mid = \\frac{1}{4 \\pi \\epsilon_{0} } \\frac{\\mid q_ \\mid \\mid Q \\mid}{r^{2}}$$  \n",
    "$\\underline{q inside:}$"
   ]
  },
  {
   "cell_type": "markdown",
   "id": "3fbd7a46",
   "metadata": {},
   "source": [
    "## INSERT PICTURE HERE"
   ]
  },
  {
   "cell_type": "markdown",
   "id": "43516e28",
   "metadata": {},
   "source": [
    "The outside bit has no effect,  \n",
    "$$ F = \\mid \\underline{F} \\mid = \\frac{1}{4 \\pi \\epsilon_{0} } \\frac{\\mid q \\mid \\mid Q_{in} \\mid}{{r_{in}}^{2}}$$"
   ]
  },
  {
   "cell_type": "markdown",
   "id": "1cef674b",
   "metadata": {},
   "source": [
    "#### Charge Density"
   ]
  },
  {
   "cell_type": "markdown",
   "id": "7d1ca708",
   "metadata": {},
   "source": [
    "We will often speak of charge distribution.  \n",
    "A lot of the time, we are interested in charge density rather than charge  "
   ]
  },
  {
   "cell_type": "markdown",
   "id": "69b0caa0",
   "metadata": {},
   "source": [
    "Linear charge density (wire):"
   ]
  },
  {
   "cell_type": "markdown",
   "id": "2f155311",
   "metadata": {},
   "source": [
    "## INSERT PICTURE HERE"
   ]
  },
  {
   "cell_type": "markdown",
   "id": "5771a9dc",
   "metadata": {},
   "source": [
    "Surface charge density"
   ]
  },
  {
   "cell_type": "markdown",
   "id": "2ec199c4",
   "metadata": {},
   "source": [
    "## INSERT PICTURE HERE"
   ]
  },
  {
   "cell_type": "markdown",
   "id": "16fd6102",
   "metadata": {},
   "source": [
    "Volume Charge Density"
   ]
  },
  {
   "cell_type": "markdown",
   "id": "ed762230",
   "metadata": {},
   "source": [
    "## INSERT PICTURE HERE"
   ]
  },
  {
   "cell_type": "markdown",
   "id": "4bbc852c",
   "metadata": {},
   "source": [
    "#### Electric Field"
   ]
  },
  {
   "cell_type": "markdown",
   "id": "691e72be",
   "metadata": {},
   "source": [
    "The electrostatic force felt by a charge $q$ is always proportional to $q$.\n",
    "=$$\\sum\\limits^{n}_{i=1}\\underline{F}_{n}$$\n",
    "$$ \\mid \\underline{F} \\mid \\propto q $$\n",
    "$$\\rightarrow \\mid \\underline{F} \\mid = q f (q_{1},r_{1},q_{2},r_{2}\\dots q_{n},r_{n})$$\n",
    "Let's call $f$ the $\\textbf{electric field}.$  \n",
    "Electric field at $q$: $$\\underline{E} \\equiv \\frac{\\underline{F}}{q}$$  \n",
    "$\\underline{F} \\quad is \\quad the \\quad force \\quad acting \\quad on \\quad q$"
   ]
  },
  {
   "cell_type": "markdown",
   "id": "03301751",
   "metadata": {},
   "source": [
    "#### Example:"
   ]
  },
  {
   "cell_type": "markdown",
   "id": "16967757",
   "metadata": {},
   "source": [
    "What is the field due to a single point charge $q_{0}$?  \n",
    "Find the force on another charge $q$ a distance $r$ away  \n",
    "$$ \\mid \\underline{F} \\mid = \\frac{1}{4 \\pi \\epsilon_{0}} \\frac{ \\mid q \\mid \\mid q_{0} \\mid}{r^{2}}     $$\n",
    "$$ \\mid \\underline{E} \\mid = \\frac{\\mid \\underline{F} \\mid}{q} = \\frac{1}{4 \\pi \\epsilon_{0}} \\frac{\\mid q_{0} \\mid}{r^2}$$  \n",
    "$\\textbf{Note:}$ Doesn't depend on $q$.  \n",
    "Direction of $\\underline{E}$ is determined by direction of the force on a positive test charge $q$.  \n",
    "Away from, $q_{0}$ if $q_{0}$ is positive.  \n",
    "Towards $q_{0}$ if $q_{0}$ is negative.  \n",
    "$$\\underline{F}=q\\underline{E}$$  \n",
    "$\\rightarrow$ The direction of $\\underline{E}$ gives the direction of $\\underline{F}$"
   ]
  },
  {
   "cell_type": "markdown",
   "id": "dbaef4c0",
   "metadata": {},
   "source": [
    "#### Example"
   ]
  },
  {
   "cell_type": "markdown",
   "id": "23866fee",
   "metadata": {},
   "source": [
    "Charged particle with charge $q$ and mass $m$ in a uniform electric field $\\underline{E}$ = $E_{0}\\underline{x}$.  \n",
    "The particle is initially at rest on a frictionless, horizontal surface of an insulating material.  \n",
    "Find the particles kinetic energy after it's travelled a distance S."
   ]
  },
  {
   "cell_type": "markdown",
   "id": "5938bf98",
   "metadata": {},
   "source": [
    "## INSERT PICTURE HERE"
   ]
  },
  {
   "cell_type": "markdown",
   "id": "7c92c4d8",
   "metadata": {},
   "source": [
    "$KE = \\frac{1}{2}mv^{2}$ ~~ Solve for v.  \n",
    "$$\\underline{F} = q\\underline{E} = m\\underline{a}$$  \n",
    "$$\\underline{a}=\\frac{q}{m}\\underline{E}$$\n",
    "Uniform $\\underline{E} \\rightarrow$ constant acceleration.\\\\"
   ]
  },
  {
   "cell_type": "markdown",
   "id": "4345d338",
   "metadata": {},
   "source": [
    "$$x = x_{0} + v_{0} + \\frac{1}{2}at^{2}$$  \n",
    " $$v=v_{0}+at$$  \n",
    " $$v^{2} = v^{2}_{0}+2a(x-x_{0})$$  \n",
    "\n",
    "We will use equation (3) to solve this problem. \n",
    "\n",
    "\\begin{align*}\n",
    "    v_{0} & = 0 \\\\\n",
    "    v^{2} & = 2a(x-x_{0}) = 2as \\\\\n",
    "    v^{2} & = 2\\frac{q}{m} \\mid \\underline{E} \\mid s \\\\\n",
    "    v^{2} & = \\frac{2q}{m} E_{0}s \\\\ \n",
    "    KE    & = \\frac{1}{2}m(\\frac{2q}{m}E_{0}s) \\\\\n",
    "    KE    & = qE_{0}s\n",
    "\\end{align*}\n",
    " "
   ]
  },
  {
   "cell_type": "code",
   "execution_count": 3,
   "id": "478d6106",
   "metadata": {},
   "outputs": [
    {
     "ename": "SyntaxError",
     "evalue": "invalid syntax (1129534322.py, line 1)",
     "output_type": "error",
     "traceback": [
      "\u001b[1;36m  Cell \u001b[1;32mIn[3], line 1\u001b[1;36m\u001b[0m\n\u001b[1;33m    Alternative solution:\u001b[0m\n\u001b[1;37m                ^\u001b[0m\n\u001b[1;31mSyntaxError\u001b[0m\u001b[1;31m:\u001b[0m invalid syntax\n"
     ]
    }
   ],
   "source": [
    "Alternative solution:"
   ]
  },
  {
   "cell_type": "markdown",
   "id": "d9db64ae",
   "metadata": {},
   "source": [
    "Alternative solution:  \n",
    "\\begin{align*}\n",
    "\\Delta KE &= \\textrm{Work done by a force}\\\\\n",
    "    (K.E)_{F} - (K.E)_{I} &= Fd\\cos \\theta  \\\\\n",
    "                          &= \\underline{F} \\cdot \\underline{d}\\\\\n",
    "\\textrm{In this example:}\\\\\n",
    "d = s, \\theta = 0 \\rightarrow \\cos \\theta = 1 \\\\\n",
    "\\\\\n",
    "(K.E)_{I} &= 0\\\\\n",
    "F &= q E_{0}\\\\\n",
    "(K.E)_{F} &= q E_{0} s\n",
    "\\end{align*}\n",
    "Which gives the same answer as before."
   ]
  },
  {
   "cell_type": "code",
   "execution_count": null,
   "id": "592c6258",
   "metadata": {},
   "outputs": [],
   "source": []
  }
 ],
 "metadata": {
  "kernelspec": {
   "display_name": "Python 3 (ipykernel)",
   "language": "python",
   "name": "python3"
  },
  "language_info": {
   "codemirror_mode": {
    "name": "ipython",
    "version": 3
   },
   "file_extension": ".py",
   "mimetype": "text/x-python",
   "name": "python",
   "nbconvert_exporter": "python",
   "pygments_lexer": "ipython3",
   "version": "3.11.4"
  }
 },
 "nbformat": 4,
 "nbformat_minor": 5
}
