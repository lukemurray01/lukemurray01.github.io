{
 "cells": [
  {
   "cell_type": "markdown",
   "id": "19382463",
   "metadata": {},
   "source": [
    "## Lecture 1 "
   ]
  },
  {
   "cell_type": "markdown",
   "id": "01e26195",
   "metadata": {},
   "source": [
    "#### Electricity\n",
    "\n",
    "• Electrostatics  \n",
    "• Current  \n",
    "• Resistance  \n",
    "• Potential difference  \n",
    "• Capacitance  \n",
    "• Magnetic fields  \n",
    "• Induction  \n",
    "\n"
   ]
  },
  {
   "cell_type": "markdown",
   "id": "35e0be9b",
   "metadata": {},
   "source": [
    "#### Waves\n",
    "\n",
    "• Sound  \n",
    "• Light as a wave  "
   ]
  },
  {
   "cell_type": "markdown",
   "id": "785b56b3",
   "metadata": {},
   "source": [
    "#### Optics\n",
    "\n",
    "• Lenses  \n",
    "• Reflection  \n",
    "• Refraction"
   ]
  },
  {
   "cell_type": "code",
   "execution_count": null,
   "id": "5c1ee8fe",
   "metadata": {},
   "outputs": [],
   "source": []
  }
 ],
 "metadata": {
  "kernelspec": {
   "display_name": "Python 3 (ipykernel)",
   "language": "python",
   "name": "python3"
  },
  "language_info": {
   "codemirror_mode": {
    "name": "ipython",
    "version": 3
   },
   "file_extension": ".py",
   "mimetype": "text/x-python",
   "name": "python",
   "nbconvert_exporter": "python",
   "pygments_lexer": "ipython3",
   "version": "3.11.4"
  }
 },
 "nbformat": 4,
 "nbformat_minor": 5
}
