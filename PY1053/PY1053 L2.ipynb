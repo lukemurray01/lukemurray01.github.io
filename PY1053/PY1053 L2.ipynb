{
 "cells": [
  {
   "cell_type": "markdown",
   "id": "9d9082c0",
   "metadata": {},
   "source": [
    "## Lecture 2"
   ]
  },
  {
   "cell_type": "markdown",
   "id": "194e944c",
   "metadata": {},
   "source": [
    "### Electromagnetism\n",
    "\n",
    "1820 Oersted found a connection between both Electricity and Magnetism; electric current in a wire deflect a magnetic compass needle.    \n",
    "Electricity: due to charges    \n",
    "Magnetism: due to moving charges (i.e currents)    \n",
    "Electric charge is a fundamental property of matter + elementary particles    \n",
    "Electrons: negative charge (-e)    \n",
    "Protons: positive charge (+e)    \n",
    "Neutrons: no charge (0e)\n",
    "e = 1.6x10−19C  \n",
    "SI unit of charge is the Coulomb  \n",
    "An atom of any substance is electrically neutral as it has equal number of pro\u0002tons and electrons  \n",
    "Electric cloud - compact nucleus made of protons and neutrons with electron\n",
    "cloud surrounding it.  \n",
    "Mass of proton = 1.673x10−27kg  \n",
    "Mass of neutron = 1.675x10−27kg  \n",
    "Mass of electron = 9.11x10−31kg  \n",
    "$\\frac{m_{p}}{m_{e}}$ = 1833    \n",
    "Protons and neutrons are tightly bound in the nucleus. Very hard to separate\n",
    "them from each other.  \n",
    "Electrons are less tightly bound and can be removed and added much easier.  \n",
    "Atoms are neutral → most things are neutral.  \n",
    "An object gets a net charge by removing electrons from or the material or adding.  \n",
    "Electrons to the material to its atoms.  \n",
    "Removing electrons → +e charge  \n",
    "Add electrons → -e charge  \n",
    "A very important experimental fact, charges exert forces on one another.\n",
    "Like charges repel, opposite charges attract.  \n",
    "Conductor: Material in which in which electrons can move easily.  \n",
    "Insulator: Material in which electrons cannot move easily."
   ]
  },
  {
   "cell_type": "markdown",
   "id": "06445138",
   "metadata": {},
   "source": [
    "#### Coulumb's Law"
   ]
  },
  {
   "cell_type": "markdown",
   "id": "8caa2cc0",
   "metadata": {},
   "source": [
    "(Electrostatic) Force between two charged particles $q_{1}$ and $q_{2}$.\n",
    "Imagine that these are point charges (extremely small, Proton $\\approx$ 1x$10^{-15}$m)  \n",
    "\n",
    "$\\left| \\underline{F}\\right| = \\frac{ k\\left|q_{1}\\right| \\left| q_{2} \\right| }{ r^{2} }$  \n",
    "\n",
    "F = magnitude of force felt by each charge due the other one  \n",
    "k $\\rightarrow$ electrostatic constant  \n",
    "k = $\\frac{1}{4 \\pi \\epsilon_{0} }$  \n",
    "r = distance between charges.  \n",
    "Attractive force for opposite charges, repulsive force for same sign  \n",
    "$\\textbf{Note:}\\underline{F}_{12} = -\\underline{F}_{21}$   \n",
    "where $\\epsilon_{0}$ is another physical constant $\\rightarrow$ permittivity of free space.  \n",
    "Suppose we have a \"bunch\" of charged particles. How would we find the total force on any individual charge say $q_{1}$? Due to the principle of superposition, we can find this by simply adding all the forces together.  \n",
    "The total electrostatic force on $q_{1}$ is the sum of all the forces, due to the other charges.  \n",
    "$\\underline{F_{1,TOTAL}$}= \\underline{F_{12}$} + \\underline{F_{13}$} + \\underline{F_{14}$} + \\dots + \\underline{F_{1n}}$"
   ]
  },
  {
   "cell_type": "markdown",
   "id": "79b69e81",
   "metadata": {},
   "source": [
    "$Note:$ Vector sum, since force is a vector, take into account direction and\n",
    "magnitude! → Principle of superposition"
   ]
  },
  {
   "cell_type": "code",
   "execution_count": null,
   "id": "c98d10c4",
   "metadata": {},
   "outputs": [],
   "source": []
  }
 ],
 "metadata": {
  "kernelspec": {
   "display_name": "Python 3 (ipykernel)",
   "language": "python",
   "name": "python3"
  },
  "language_info": {
   "codemirror_mode": {
    "name": "ipython",
    "version": 3
   },
   "file_extension": ".py",
   "mimetype": "text/x-python",
   "name": "python",
   "nbconvert_exporter": "python",
   "pygments_lexer": "ipython3",
   "version": "3.11.4"
  }
 },
 "nbformat": 4,
 "nbformat_minor": 5
}
