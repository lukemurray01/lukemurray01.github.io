{
 "cells": [
  {
   "cell_type": "markdown",
   "id": "3ec167d7",
   "metadata": {},
   "source": [
    "## Lecture 9"
   ]
  },
  {
   "cell_type": "markdown",
   "id": "d25b0460",
   "metadata": {},
   "source": [
    "![l91](figures/l91.PNG)"
   ]
  },
  {
   "cell_type": "markdown",
   "id": "d3f5268e",
   "metadata": {},
   "source": [
    "Where $dq$ = charge in segment $dz$ = $\\lambda dz$\n",
    "$$\n",
    "r^{2} = x^{2} + z^{2}\n",
    "$$"
   ]
  },
  {
   "cell_type": "markdown",
   "id": "1020b41c",
   "metadata": {},
   "source": [
    "Using Coulombs' law"
   ]
  },
  {
   "cell_type": "markdown",
   "id": "630e7626",
   "metadata": {},
   "source": [
    "\\begin{align*}\n",
    "\\mid dE \\mid &= \\frac{dq}{4 \\pi \\epsilon r^{2}}\\\\\n",
    "            &= \\frac{\\lambda dz}{4 \\pi \\epsilon_{0}(x^{2}+z^{2})}\\\\\n",
    "\\textrm{x-component of d$\\underline{E}$}~ = dE_{x} &= \\mid dE \\mid \\cos \\theta\\\\\n",
    "                                        dE_{x} &= \\frac{\\cos \\theta \\lambda dz}{4 \\pi \\epsilon_{0}(x^{2}+z^{2})}\\\\\n",
    "                                        E_{x} &= \\int^{z = z_{2}}_{z = z_{1}} dE_{x} = \\int_{z_{1}}^{z_{2}} \\frac{\\cos \\theta \\lambda dz}{4 \\pi \\epsilon_{0}(x^{2}+z^{2})}\\\\\n",
    "                                        &= \\frac{\\lambda}{4 \\pi \\epsilon_{0}} \\int^{z_{2}}_{z_{1}} \\frac{\\cos \\theta dz}{x^{2}+z^{2}}\\\\\n",
    "                                        &= \\frac{\\lambda}{4\\pi\\epsilon_{0}} \\int \\frac{1}{x^{2}}\\frac{\\cos \\theta}{1+(\\frac{z}{x})^{2}}dz\\\\\n",
    "                                        &= \\frac{\\lambda}{4\\pi\\epsilon_{0}x} \\int \\frac{\\cos \\theta}{1+(\\frac{z}{x})^{2}} d(\\frac{z}{x})\\\\\n",
    "                                        &= \\frac{\\lambda}{4\\pi\\epsilon_{0}} \\int \\frac{\\cos \\theta}{1 + \\xi^{2}} d\\xi\n",
    "\\end{align*}"
   ]
  },
  {
   "cell_type": "markdown",
   "id": "cd485d27",
   "metadata": {},
   "source": [
    "\\begin{align*}\n",
    "\\textrm{From the geometry of the diagram}\\\\\n",
    "\\xi &= \\tan \\theta\\\\\n",
    "\\frac{d \\xi}{d \\theta} &= \\frac{1}{\\cos^{2} \\theta}\\\\\n",
    "1 + \\xi^{2} &= 1 + \\tan^{2}\\theta \\\\\n",
    "&= 1 + \\frac{\\sin^{2}\\theta}{\\cos^{2}\\theta}\\\\\n",
    "&= \\frac{\\cos^{2}\\theta + \\sin^{2}\\theta}{\\cos^{2}\\theta} = \\frac{1}{\\cos^{2}\\theta}\n",
    "\\end{align*}"
   ]
  },
  {
   "cell_type": "markdown",
   "id": "18393add",
   "metadata": {},
   "source": [
    "\\begin{align*}\n",
    "    E_{x} &= \\frac{\\lambda}{4\\pi\\epsilon_{0}x} \\int \\frac{\\cos \\theta}{(\\frac{1}{\\cos^{2}\\theta})}\\frac{d \\theta}{\\cos^{2}\\theta}\\\\\n",
    "    &= \\frac{\\lambda}{4\\pi\\epsilon_{0}x}\\int^{\\theta_{2}}_{\\theta_{1}} \\cos \\theta d \\theta\\\\\n",
    "    &= \\frac{\\lambda}{4\\pi\\epsilon_{0}x} (\\sin \\big{|}^{\\theta_{2}}_{\\theta_{1}}) = (\\sin \\theta_{2} - \\sin \\theta_{1})\\frac{\\lambda}{4\\pi\\epsilon_{0}x}\n",
    "\\end{align*}"
   ]
  },
  {
   "cell_type": "markdown",
   "id": "17581b16",
   "metadata": {},
   "source": [
    "For an infinite wire,"
   ]
  },
  {
   "cell_type": "markdown",
   "id": "ca292242",
   "metadata": {},
   "source": [
    "\\begin{align*}\n",
    "    \\theta_{1} \\rightarrow \\frac{- \\pi}{2} \\rightarrow \\sin\\theta_{1} \\approx -1\\\\\n",
    "    \\theta_{2} \\rightarrow \\frac{+ \\pi}{2} \\rightarrow \\sin\\theta_{2} \\approx +1\\\\\n",
    "    (\\sin \\theta_{2} - \\sin \\theta_{1}) \\rightarrow 2\n",
    "\\end{align*}"
   ]
  },
  {
   "cell_type": "markdown",
   "id": "ff9fd201",
   "metadata": {},
   "source": [
    "Which agrees with Gauss' Law"
   ]
  },
  {
   "cell_type": "markdown",
   "id": "758621f0",
   "metadata": {},
   "source": [
    "#### Tutorial 2  \n",
    "1."
   ]
  },
  {
   "cell_type": "markdown",
   "id": "3ccd86d6",
   "metadata": {},
   "source": [
    "\n",
    "\\begin{align*}\n",
    "    q_{1} = 3 \\mu C\\\\\n",
    "    q_{2} = 6 \\mu C\\\\\n",
    "    q_{3} = -4\\mu C\\\\\n",
    "    U_{0}\\\\\n",
    "    U\\\\\n",
    "    W = U - U_{0}\\\\\n",
    "    U_{0} = \\frac{q_{1}q_{2}}{4 \\pi \\epsilon_{0} d_{12}} + \\frac{q_{1}q_{3}}{4 \\pi \\epsilon_{0} d_{13}} + \\frac{q_{2}q_{3}}{4 \\pi \\epsilon_{0} d_{23}}\\\\\n",
    "    \\\\\n",
    "    U &= \\frac{q_{1}q_{2}}{4 \\pi \\epsilon_{0} l} + \\frac{q_{1}q_{3}}{4 \\pi \\epsilon_{0} l} + \\frac{q_{2}q_{3}}{4 \\pi \\epsilon_{0} l}\\\\\n",
    "    &= \\frac{1}{4 \\pi \\epsilon_{0}l}(q_{1}q_{2}+q_{1}q_{3}+q_{2}q_{3})\\\\\n",
    "    W = U - U_{0}\n",
    "\\end{align*}"
   ]
  },
  {
   "cell_type": "markdown",
   "id": "7f1c877f",
   "metadata": {},
   "source": [
    "2."
   ]
  },
  {
   "cell_type": "markdown",
   "id": "8434736f",
   "metadata": {},
   "source": [
    "\\begin{align*}\n",
    "    E = \\int^{R}_{R_{1}} \\frac{z \\sigma 2 \\pi r dr}{4 \\pi \\epsilon_{0}(z^{2}+r^{2})^{\\frac{3}{2}}}\\\\\n",
    "    f(\\textrm{dummy variable}) = z^{2} + r^{2}\\\\\n",
    "    E = \\int^{R_{2}}_{R_{1}}\\frac{z \\sigma 2 \\pi r dr}{4 \\pi \\epsilon_{0} f^{\\frac{3}{2}}}\\\\\n",
    "    f = z^{2} + r^{2}\\\\\n",
    "    \\frac{df}{dr} = 2r\\\\\n",
    "    df = 2rdr\\\\\n",
    "    E = \\int^{R_{2}}_{R_{1}} \\frac{\\sigma \\pi df}{4 \\pi \\epsilon_{0} f^{\\frac{3}{2}}}\\\\\n",
    "    \\textrm{$\\pi$'s cancel}\\\\\n",
    "    E = \\frac{\\sigma z}{4 \\epsilon_{0}}\\int^{R_{2}}_{R_{1}} \\frac{df}{f^{\\frac{3}{2}}}\\\\\n",
    "    E = \\frac{\\sigma}{2 \\epsilon_{0}}[\\frac{z}{\\sqrt{z^{2}+R^{2}_{1}} - \\sqrt{z^{2}+R^{2}}} ]\n",
    "\\end{align*}"
   ]
  },
  {
   "cell_type": "markdown",
   "id": "9bde3e95",
   "metadata": {},
   "source": [
    "3."
   ]
  },
  {
   "cell_type": "markdown",
   "id": "53fb08af",
   "metadata": {},
   "source": [
    "\\begin{align*}\n",
    "\\oint E \\cdot A = \\frac{Q}{\\epsilon_{0}}\\\\\n",
    "EdA \\cos \\theta \\\\\n",
    "\\textrm{if}~\\theta = 90^{\\circ}\\\\\n",
    "EdA\\cos\\theta = 0 \\\\\n",
    "\\oint E \\cdot dA = \\oint E dA = \\frac{Q}{\\epsilon_{0}}\\\\\n",
    "E = \\frac{Q}{A \\epsilon_{0}}\\\\\n",
    "\\sigma = \\frac{Q}{A}\\\\\n",
    "E = \\frac{\\sigma}{\\epsilon_{0}}\\\\\n",
    "\\\\\n",
    "F = QE\n",
    "\\end{align*}"
   ]
  },
  {
   "cell_type": "markdown",
   "id": "adac5c06",
   "metadata": {},
   "source": [
    "4."
   ]
  },
  {
   "cell_type": "markdown",
   "id": "23721af7",
   "metadata": {},
   "source": [
    "\\begin{align*}\n",
    "    \\underline{p} = q \\underline{d}\\\\\n",
    "    U = - \\underline{p} \\cdot\n",
    "    \\underline{E} = -\\frac{Q \\hat{r}}{4 \\pi \\epsilon_{0} r^{2}}\\\\\n",
    "    U &= - \\underline{p} \\cdot \\underline{E}\\\\\n",
    "    &= \\underline{p} \\cdot \\frac{Q \\hat{r}}{4 \\pi \\epsilon_{0} r^{2}}\\\\\n",
    "    &= \\frac{Q}{4 \\pi \\epsilon_{0} r^{2}} (\\underline{p} \\cdot \\hat{r})\n",
    "\\end{align*}"
   ]
  },
  {
   "cell_type": "code",
   "execution_count": null,
   "id": "99d06be6",
   "metadata": {},
   "outputs": [],
   "source": []
  }
 ],
 "metadata": {
  "kernelspec": {
   "display_name": "Python 3 (ipykernel)",
   "language": "python",
   "name": "python3"
  },
  "language_info": {
   "codemirror_mode": {
    "name": "ipython",
    "version": 3
   },
   "file_extension": ".py",
   "mimetype": "text/x-python",
   "name": "python",
   "nbconvert_exporter": "python",
   "pygments_lexer": "ipython3",
   "version": "3.11.4"
  }
 },
 "nbformat": 4,
 "nbformat_minor": 5
}
