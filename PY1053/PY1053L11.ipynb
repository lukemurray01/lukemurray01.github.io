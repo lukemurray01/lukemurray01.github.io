{
 "cells": [
  {
   "cell_type": "markdown",
   "id": "4ea74311",
   "metadata": {},
   "source": [
    "## Lecture 11"
   ]
  },
  {
   "cell_type": "markdown",
   "id": "a57162f3",
   "metadata": {},
   "source": [
    "#### Capacitors in series:"
   ]
  },
  {
   "cell_type": "markdown",
   "id": "6d808025",
   "metadata": {},
   "source": [
    "![l111](figures/l111.PNG)\n"
   ]
  },
  {
   "cell_type": "markdown",
   "id": "6ae96739",
   "metadata": {},
   "source": [
    "The potential difference is supplied by the battery.\\\n",
    "The potential difference on the far right (C1) capacitor is different to the one of the far left (C3) they are directly connected to the battery.\\\n",
    "We need to find out what happens to the other capacitors that are not directly connected to the battery itself."
   ]
  },
  {
   "cell_type": "markdown",
   "id": "edf26c6c",
   "metadata": {},
   "source": [
    "Negative charges flow away from C1 to the positive terminal of the battery.\\\n",
    "Negative charges flow to C3 from the negative terminal of the battery."
   ]
  },
  {
   "cell_type": "markdown",
   "id": "6a7b1faf",
   "metadata": {},
   "source": [
    "Each capacitor builds up charge on each charge of equal and opposite magnitude.\\\n",
    "Between the plates of C1 there would be a potential difference of V1.\\\n",
    "Between the plates of C2 there would be a potential difference of V2.\\\n",
    "Between the plates of C3 there would be a potential difference of V3."
   ]
  },
  {
   "cell_type": "markdown",
   "id": "e7fb6cff",
   "metadata": {},
   "source": [
    "Unlike capacitors connected in parallel, the potential difference can be different, however the charge build up must all the the same.\\\n",
    "$\\textbf{Each capacitor builds up the same charge.}$\\\n",
    "For instance, all the left hand side plates have a positive charge with all right hand plates having a negative charge."
   ]
  },
  {
   "cell_type": "markdown",
   "id": "d1788c4e",
   "metadata": {},
   "source": [
    "\\begin{align*}\n",
    "    Q = VC\\\\\n",
    "    V &= V_{1} + V_{2} + V_{3}\\\\\n",
    "    &= \\frac{Q}{C_{1}} + \\frac{Q}{C_{2}} + \\frac{Q}{C_{3}}\\\\\n",
    "    &= Q(\\frac{1}{C_{1}} + \\frac{1}{C_{2}} + \\frac{1}{C_{3}})\\\\\n",
    "    &= Q\\sum_{i}\\frac{1}{C_{i}}\n",
    "\\end{align*}"
   ]
  },
  {
   "cell_type": "markdown",
   "id": "bc48fbac",
   "metadata": {},
   "source": [
    "If we wanted to replace several capacitors for a single capacitor that would equivalent. "
   ]
  },
  {
   "cell_type": "markdown",
   "id": "0743c6d9",
   "metadata": {},
   "source": [
    "$$\n",
    "\\frac{1}{C_{eq}} = \\sum_{i} \\frac{1}{C_{i}}\n",
    "$$"
   ]
  },
  {
   "cell_type": "markdown",
   "id": "a9ed50d2",
   "metadata": {},
   "source": [
    "For capacitors stored in series."
   ]
  },
  {
   "cell_type": "markdown",
   "id": "68c07d44",
   "metadata": {},
   "source": [
    "#### Energy stored in a parallel plate capacitor"
   ]
  },
  {
   "cell_type": "markdown",
   "id": "7f31d425",
   "metadata": {},
   "source": [
    "If you have an electric field (made by charges) other charges in that electric field have an electric potential energy, when we charge the plates of the capacitor we set up an electric field, so the charges on the plates have an electric potential energy. \\\n",
    "How would we find this electric potential energy?"
   ]
  },
  {
   "cell_type": "markdown",
   "id": "7c417e59",
   "metadata": {},
   "source": [
    "    Electric Potential Energy = Work done to put the charges on the plates.\n"
   ]
  },
  {
   "cell_type": "markdown",
   "id": "96f4670a",
   "metadata": {},
   "source": [
    "Suppose we have charge $q$ on the (+) plate, and a charge $-q$ on the (-) plate.\n",
    "We know that the potential difference on these plates is:"
   ]
  },
  {
   "cell_type": "markdown",
   "id": "3e7f0034",
   "metadata": {},
   "source": [
    "$$\n",
    "V = \\frac{q}{C}\n",
    "$$"
   ]
  },
  {
   "cell_type": "markdown",
   "id": "fe2df811",
   "metadata": {},
   "source": [
    "Work done to move a little bit of charge $dq$ from one plate to the other:\n"
   ]
  },
  {
   "cell_type": "markdown",
   "id": "aee89d5c",
   "metadata": {},
   "source": [
    "$$\n",
    "dW = Vdq = \\frac{q}{C} dq\n",
    "$$"
   ]
  },
  {
   "cell_type": "markdown",
   "id": "f1d059ad",
   "metadata": {},
   "source": [
    "If we are moving a charge through an electric  field, the potential difference you move it through was equal to the work done divided by the charge.\n"
   ]
  },
  {
   "cell_type": "markdown",
   "id": "25875011",
   "metadata": {},
   "source": [
    "The total work for the chrage to go from 0 (uncharged) to $Q$ (charged):\n"
   ]
  },
  {
   "cell_type": "markdown",
   "id": "12268b1f",
   "metadata": {},
   "source": [
    "\\begin{align*}\n",
    "    W &= \\int^{Q}_{0} \\frac{q}{C} dq \\\\\n",
    "    &= \\frac{1}{C} \\int^{Q}_{0} q dq\\\\\n",
    "    &= \\frac{1}{C} \\frac{q^{2}}{2} \\bigg{|}^{Q}_{0}\\\\\n",
    "    &= \\frac{1}{2C} Q^{2}\n",
    "\\end{align*}"
   ]
  },
  {
   "cell_type": "markdown",
   "id": "ae5351f9",
   "metadata": {},
   "source": [
    "The potential energy is the\n"
   ]
  },
  {
   "cell_type": "markdown",
   "id": "8ddb3b3f",
   "metadata": {},
   "source": [
    "\\begin{align*}\n",
    "    U &=\\frac{Q^{2}}{2C} \\\\\n",
    "    Q = VC\\\\\n",
    "    &= \\frac{1}{2}CV^{2}\n",
    "\\end{align*}"
   ]
  },
  {
   "cell_type": "markdown",
   "id": "4ebb9bf8",
   "metadata": {},
   "source": [
    "This is the amount of energy stored on the plates from putting the charge on the plates.\\\n",
    "This energy is stored in the electric field."
   ]
  },
  {
   "cell_type": "markdown",
   "id": "22a571a9",
   "metadata": {},
   "source": [
    "In terms of the parallel plate capacitor, the energy stored is:\n"
   ]
  },
  {
   "cell_type": "markdown",
   "id": "b36caff4",
   "metadata": {},
   "source": [
    "\\begin{align*}\n",
    "    U &= \\frac{1}{2}CV^{2}\\\\\n",
    "    U &= \\frac{1}{2}\\bigg{[}\\frac{\\epsilon_{0}A}{d}\\bigg{]}\\bigg{[}Ed\\bigg{]}^{2}\\\\\n",
    "    U &= \\frac{1}{2}\\epsilon_{0}E^{2}Ad\n",
    "\\end{align*}"
   ]
  },
  {
   "cell_type": "markdown",
   "id": "32b00479",
   "metadata": {},
   "source": [
    "Where:\\\n",
    "A = Area of the plates\\\n",
    "d = distance between plates\\\n",
    "$\\textbf{Note:}$ A*d = volume between the plates"
   ]
  },
  {
   "cell_type": "markdown",
   "id": "d20c61c4",
   "metadata": {},
   "source": [
    "We can then talk about the $\\underline{energy \\, density}$ = $\\frac{\\textrm{energy}}{\\textrm{volume}}$\n"
   ]
  },
  {
   "cell_type": "markdown",
   "id": "c972e919",
   "metadata": {},
   "source": [
    "$$\n",
    "\\frac{U}{\\textrm{volume}} = \\frac{U}{Ad} = \\frac{1}{2}\\epsilon_{0}E^{2}\n",
    "$$"
   ]
  },
  {
   "cell_type": "markdown",
   "id": "83dc2170",
   "metadata": {},
   "source": [
    "The energy is stored in the electric field.\n"
   ]
  },
  {
   "cell_type": "markdown",
   "id": "e8c7dfe7",
   "metadata": {},
   "source": [
    "![l112](l112.PNG)\n"
   ]
  },
  {
   "cell_type": "markdown",
   "id": "638cd80c",
   "metadata": {},
   "source": [
    "A capacitor with $C_{1}$ = 3.55 $\\mu$F is charged using a 6.3V battery.\\\n",
    "The battery is then removed and an uncharged capacitor $C_{2}$ = 8.95$\\mu$F\n",
    " is connected to $C_{1}$."
   ]
  },
  {
   "cell_type": "markdown",
   "id": "f946f892",
   "metadata": {},
   "source": [
    "![l113](l113.PNG)"
   ]
  },
  {
   "cell_type": "markdown",
   "id": "da1f4e18",
   "metadata": {},
   "source": [
    " What is the final potential difference across each capacitor?\n"
   ]
  },
  {
   "cell_type": "markdown",
   "id": "39323992",
   "metadata": {},
   "source": [
    "Charge will flow from $C_{1}$ to $C_{2}$ until they have the same potential $V_{f}$.\\\n",
    " Initial charge on $C_{1}$ is redistributed between $C_{1}$ and $C_{2}$."
   ]
  },
  {
   "cell_type": "markdown",
   "id": "eaaf26e4",
   "metadata": {},
   "source": [
    " \\begin{align*}\n",
    " q_{0} &= q_{1} + q_{2}\\\\\n",
    " C_{1}V_{0} &= C_{1}V_{f} + C_{2}V_{f}\\\\\n",
    " V_{f} &= V_{0}\\bigg{(} \\frac{C_{1}}{C_{1}+C_{2}} \\bigg{)}\\\\\n",
    " V_{f} &= 6.3 \\bigg{(} \\frac{3.55}{3.55+8.95} \\bigg{)}\\\\\n",
    " V_{f} &= 1.79V\n",
    " \\end{align*}"
   ]
  },
  {
   "cell_type": "markdown",
   "id": "95f6c873",
   "metadata": {},
   "source": [
    " How much electric potential energy is stored initially and finally?\n"
   ]
  },
  {
   "cell_type": "markdown",
   "id": "97ac83bd",
   "metadata": {},
   "source": [
    "$\\underline{Initially:}$\n",
    " $$\n",
    " U_{i} = \\frac{1}{2}C_{1}V_{0}^{2} = 7.04\\textrm{x}10^{-5}J\n",
    " $$\n",
    " $\\underline{Finally:}$\n",
    " \\begin{align*}\n",
    " U_{f} &= \\frac{1}{2}C_{1}V_{f}^{2}+\\frac{1}{2}C_{2}V_{f}^{2}\\\\\n",
    "       &= 2\\textrm{x}10^{-5}J\n",
    " \\end{align*} "
   ]
  },
  {
   "cell_type": "markdown",
   "id": "84302ddc",
   "metadata": {},
   "source": [
    " $\\textbf{Note:}$ There is a difference between the initial and final energy. This is due to heat.\n"
   ]
  },
  {
   "cell_type": "markdown",
   "id": "ae192bc0",
   "metadata": {},
   "source": [
    "#### Electric current:"
   ]
  },
  {
   "cell_type": "markdown",
   "id": "83af469d",
   "metadata": {},
   "source": [
    "When charges move we say there is an electric current."
   ]
  },
  {
   "cell_type": "markdown",
   "id": "2632c8f5",
   "metadata": {},
   "source": [
    "$$\n",
    " I = \\frac{dq}{dt}\n",
    " $$"
   ]
  },
  {
   "cell_type": "markdown",
   "id": "1330bae2",
   "metadata": {},
   "source": [
    " Rate of flow of charge per unit time.\n"
   ]
  },
  {
   "cell_type": "markdown",
   "id": "7d42d566",
   "metadata": {},
   "source": [
    " Units: Ampere, A = $\\frac{C}{S}$ = Cs$^{-1}$\n"
   ]
  },
  {
   "cell_type": "markdown",
   "id": "4dd3c8cb",
   "metadata": {},
   "source": [
    " $\\textbf{Direction of current:}$\n"
   ]
  },
  {
   "cell_type": "markdown",
   "id": "ea362037",
   "metadata": {},
   "source": [
    "$\\underline{Convention:}$ Direction of flow of positive charge.\n"
   ]
  },
  {
   "cell_type": "markdown",
   "id": "e512ea22",
   "metadata": {},
   "source": [
    " This is the opposite to the direction of the flow of negative charge, which almost always are the charges which are moving as current is the flow of electrons.\n"
   ]
  },
  {
   "cell_type": "markdown",
   "id": "36f9b5fb",
   "metadata": {},
   "source": [
    "A current flows in a conductor if a potential difference is set up across it.\\\n",
    "This can be achieved using a battery.\\\n",
    "Consider a wire with $n$ charge carriers per unit volume and a cross-sectional area A. \\\n",
    "Suppose a current $I$ flow in the wire."
   ]
  },
  {
   "cell_type": "markdown",
   "id": "58018da2",
   "metadata": {},
   "source": [
    "![l114](l114.PNG)"
   ]
  },
  {
   "cell_type": "markdown",
   "id": "b3665c6d",
   "metadata": {},
   "source": [
    " How many charge carriers are inside this wire of length $L$?\n"
   ]
  },
  {
   "cell_type": "markdown",
   "id": "cff71367",
   "metadata": {},
   "source": [
    "\\begin{align*}\n",
    "    n\\textrm{x}(\\textrm{volume}) = nAL\n",
    "\\end{align*}"
   ]
  },
  {
   "cell_type": "markdown",
   "id": "283e8cd0",
   "metadata": {},
   "source": [
    "If the charge carriers are electrons, then the total charge flowing in a volume $AL$ is \n"
   ]
  },
  {
   "cell_type": "markdown",
   "id": "e3d0cca1",
   "metadata": {},
   "source": [
    "$$\n",
    "\\mid q \\mid = nALe\n",
    "$$"
   ]
  },
  {
   "cell_type": "markdown",
   "id": "e27645b5",
   "metadata": {},
   "source": [
    "Suppose the electrons move at a speed $V_{d}$ (drift velocity). They move across $L$ in a time t = $\\frac{L}{V_{d}}$\\\n",
    "Then, current is:"
   ]
  },
  {
   "cell_type": "markdown",
   "id": "024fa0cb",
   "metadata": {},
   "source": [
    "\\begin{align*}\n",
    "    I &= \\frac{\\mid q \\mid }{t} = \\frac{nALe}{\\frac{L}{V_{d}}} = nAV_{d}e\\\\\n",
    "    V_{d} &= \\frac{I}{nAe}\n",
    "\\end{align*}"
   ]
  },
  {
   "cell_type": "code",
   "execution_count": null,
   "id": "1b6443f7",
   "metadata": {},
   "outputs": [],
   "source": []
  }
 ],
 "metadata": {
  "kernelspec": {
   "display_name": "Python 3 (ipykernel)",
   "language": "python",
   "name": "python3"
  },
  "language_info": {
   "codemirror_mode": {
    "name": "ipython",
    "version": 3
   },
   "file_extension": ".py",
   "mimetype": "text/x-python",
   "name": "python",
   "nbconvert_exporter": "python",
   "pygments_lexer": "ipython3",
   "version": "3.11.4"
  }
 },
 "nbformat": 4,
 "nbformat_minor": 5
}
