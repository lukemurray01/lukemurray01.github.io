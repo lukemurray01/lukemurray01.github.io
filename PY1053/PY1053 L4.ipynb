{
 "cells": [
  {
   "cell_type": "markdown",
   "id": "bdee74cf",
   "metadata": {},
   "source": [
    "## Lecture 4"
   ]
  },
  {
   "cell_type": "markdown",
   "id": "87559666",
   "metadata": {},
   "source": [
    "#### Partial derivatives examples"
   ]
  },
  {
   "cell_type": "markdown",
   "id": "936700e4",
   "metadata": {},
   "source": [
    "\\begin{align*}\n",
    "V(x,y,z) &= x^2 + 3xy + z^2 + y^3z\\\\\n",
    "\\frac{\\partial V}{\\partial x} &= 2x + 3y + 0 + 0 = 2x+3y \\\\\n",
    "\\frac{\\partial V}{\\partial y} &= 0 + 2x + 0 + 3y^2z = 2x+y^3 \\\\\n",
    "\\frac{\\partial V}{\\partial z} &= 0 + 0 + 2z + y^3 = 2x+y^3\n",
    "\\end{align*}\\\\"
   ]
  },
  {
   "cell_type": "markdown",
   "id": "4b4cbdcb",
   "metadata": {},
   "source": [
    "###### General Theorum"
   ]
  },
  {
   "cell_type": "markdown",
   "id": "4cb3ce40",
   "metadata": {},
   "source": [
    "Order of differentiation does not effect final result,\n",
    "$$\n",
    "\\frac{\\partial^2 V}{\\partial x \\partial y} = \\frac{\\partial^2 V}{\\partial y \\partial x}\n",
    "$$"
   ]
  },
  {
   "cell_type": "markdown",
   "id": "850e64bb",
   "metadata": {},
   "source": [
    "#### Example - Ideal Gas Law"
   ]
  },
  {
   "cell_type": "markdown",
   "id": "0285ec6b",
   "metadata": {},
   "source": [
    "\\begin{align*}\n",
    "P &= \\frac{I}{v} * A \\\\\n",
    "P(V,T) &= A \\frac{T}{V} \\\\\n",
    "\\frac{\\partial P}{\\partial V} |_{T} &= -A \\frac{T}{V^{2}} = - \\frac{P}{V} \\\\\n",
    "\\frac{\\partial P}{\\partial T} |_{V} &= \\frac{A}{V} = \\frac{P}{T} \\\\\n",
    "\\frac{\\partial ^{2} P}{\\partial T \\partial V} &= \\frac{\\partial}{\\partial T}[ \\frac{-AT}{V^{2}} ] \\\\\n",
    "&= -\\frac{A}{V^{2}} \\\\\n",
    "&= -\\frac{P}{VT} \\\\\n",
    "&= \\frac{\\partial ^ {2} P}{\\partial V \\partial T}\n",
    "\\end{align*}"
   ]
  },
  {
   "cell_type": "markdown",
   "id": "55f4f7b0",
   "metadata": {},
   "source": [
    "$Note$: Partial derivatives are used alot in thermodynamics"
   ]
  },
  {
   "cell_type": "markdown",
   "id": "2eca45fd",
   "metadata": {},
   "source": [
    "#### Example - Wave motion (Travelling Wave)"
   ]
  },
  {
   "cell_type": "markdown",
   "id": "12af7d08",
   "metadata": {},
   "source": [
    "\\begin{align*}\n",
    "u(x,t) &= A \\sin (kx-\\omega t) \\\\\n",
    "k = \\frac{2\\pi}{\\lambda} , \\omega &= \\frac{2 \\pi}{T} ~~~ \\textrm{constants} \\\\\n",
    "\\frac{\\partial U}{\\partial x} &= Ak\\cos(kx-\\omega t) \\\\\n",
    "\\frac{\\partial U}{\\partial t} &= -Ak\\cos(kx-\\omega t) \\\\\n",
    "\\frac{\\partial ^2 U}{\\partial t \\partial x} &= Ak\\omega \\sin(kx- \\omega t) \\\\\n",
    "\\frac{\\partial ^2 U}{\\partial x ^2} &= -Ak^2 \\sin(kx- \\omega t) \\\\\n",
    "\\frac{\\partial ^2 U}{\\partial t ^2} &= -A\\omega^2 \\sin(kx- \\omega t) \\\\\n",
    "\\frac{\\partial ^2 U}{\\partial t ^2} &= v^2 \\frac{\\partial ^2 U}{\\partial x ^2} \\\\\n",
    "\\end{align*}\n",
    "Wave equation = $\\frac{\\partial ^2 U}{\\partial t ^2} = v^2 \\frac{\\partial ^2 U}{\\partial x ^2}$"
   ]
  },
  {
   "cell_type": "markdown",
   "id": "fe573c32",
   "metadata": {},
   "source": [
    "### Complex Numbers"
   ]
  },
  {
   "cell_type": "markdown",
   "id": "70c088b1",
   "metadata": {},
   "source": [
    "Euler's formula:\n",
    "$$\n",
    "e^{i \\theta} = \\cos \\theta + i \\sin \\theta\n",
    "$$\n",
    "Where $i^{2} = -1$"
   ]
  },
  {
   "cell_type": "markdown",
   "id": "f316ec95",
   "metadata": {},
   "source": [
    "\\begin{align*}\n",
    "e^{i \\theta+{1}} e^{i \\theta_{2}} &= e^{i ( \\theta_{1} + \\theta_{2} ) } = \\cos ( \\theta_{1} + \\theta_{2} ) + i \\sin ( \\theta_{1} + \\theta_{2} )\\\\\n",
    " &= (\\cos \\theta _{1} + i \\sin \\theta_{1})(\\cos \\theta_{2}+i \\sin \\theta_{2})\\\\\n",
    " &=\\cos\\theta_{1}\\cos\\theta_{2} + i\\sin\\theta_{1}\\cos\\theta_{2}+i\\cos\\theta_{1}\\sin\\theta_{2} + i^{2}\\sin\\theta_{1}\\sin\\theta_{2}\\\\\n",
    " &= [\\cos\\theta_{1}\\cos\\theta_{2} - \\sin\\theta_{1}\\sin\\theta_{2}] + i[\\sin\\theta_{1}\\cos\\theta_{2}+\\cos\\theta_{1}\\sin\\theta_{2}]\\\\\n",
    "\\end{align*}"
   ]
  },
  {
   "cell_type": "markdown",
   "id": "deedfb8b",
   "metadata": {},
   "source": [
    "Equating real and imaginary parts $\\dots$\n",
    "\\begin{align*}\n",
    " \\cos(\\theta_{1}+\\theta_{2}) &= \\cos\\theta_{1}\\cos\\theta_{2} - \\sin\\theta_{1}\\sin\\theta_{2}\\\\\n",
    " \\sin(\\theta_{1}+\\theta_{2}) &= \\sin{\\theta}_{1}\\cos\\theta_{2} + \\cos\\theta_{1}\\sin\\theta_{2}\n",
    "\\end{align*}"
   ]
  },
  {
   "cell_type": "markdown",
   "id": "69ecaf30",
   "metadata": {},
   "source": [
    "#### Electric Flux"
   ]
  },
  {
   "cell_type": "markdown",
   "id": "fc5a227e",
   "metadata": {},
   "source": [
    "# INSERT PICTURE HERE"
   ]
  },
  {
   "cell_type": "markdown",
   "id": "854da7ad",
   "metadata": {},
   "source": [
    "\\begin{align*}\n",
    "dA &= \\textrm{vector} \\perp \\textrm{to surface}\\\\\n",
    "\\mid dA \\mid &= \\textrm{area of surface element}\\\\\n",
    "\\underline{E} &= \\textrm{electric field at the surface (constant over surface)}\n",
    "\\end{align*}\n",
    "Electric Flux of $\\underline{E}$ through $d\\underline{A}$\n",
    "$$\n",
    "d \\phi _{\\underline{E}} = \\underline{E} \\cdot d \\underline{A} = E dA \\cos \\theta\n",
    "$$\n",
    "This can be applied to any vector field $\\underline{v}$  \n",
    "$$\n",
    "d \\phi _{\\underline{v}} = \\underline{v} \\cdot d \\underline{A}\n",
    "$$"
   ]
  },
  {
   "cell_type": "code",
   "execution_count": null,
   "id": "a35b14fd",
   "metadata": {},
   "outputs": [],
   "source": []
  }
 ],
 "metadata": {
  "kernelspec": {
   "display_name": "Python 3 (ipykernel)",
   "language": "python",
   "name": "python3"
  },
  "language_info": {
   "codemirror_mode": {
    "name": "ipython",
    "version": 3
   },
   "file_extension": ".py",
   "mimetype": "text/x-python",
   "name": "python",
   "nbconvert_exporter": "python",
   "pygments_lexer": "ipython3",
   "version": "3.11.4"
  }
 },
 "nbformat": 4,
 "nbformat_minor": 5
}
