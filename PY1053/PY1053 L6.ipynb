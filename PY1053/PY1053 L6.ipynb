{
 "cells": [
  {
   "cell_type": "code",
   "execution_count": null,
   "id": "60db32bd",
   "metadata": {
    "scrolled": true
   },
   "outputs": [],
   "source": []
  },
  {
   "cell_type": "markdown",
   "id": "ca4382fa",
   "metadata": {},
   "source": []
  },
  {
   "cell_type": "markdown",
   "id": "83363149",
   "metadata": {},
   "source": [
    "## Lecture 6"
   ]
  },
  {
   "cell_type": "markdown",
   "id": "fa6126de",
   "metadata": {},
   "source": [
    "#### Dipole in an E field, charged isolated conductor"
   ]
  },
  {
   "cell_type": "markdown",
   "id": "cf389a61",
   "metadata": {},
   "source": [
    "$\\underline{Dipole:}$ Two particles of equal magnitude but opposite sign, represented by a distance $d$\n"
   ]
  },
  {
   "cell_type": "markdown",
   "id": "d47468ff",
   "metadata": {},
   "source": [
    "# INSERT PICTURE HERE"
   ]
  },
  {
   "cell_type": "markdown",
   "id": "7db07ec4",
   "metadata": {},
   "source": [
    "What happens in an electrical field?"
   ]
  },
  {
   "cell_type": "markdown",
   "id": "77aab0b5",
   "metadata": {},
   "source": [
    "# INSERT PICTURE HERE"
   ]
  },
  {
   "cell_type": "markdown",
   "id": "f1a7c3dc",
   "metadata": {},
   "source": [
    "Centre of mass at the middle $m_{1} = m_{2}$  \n",
    "Each charge feels a force of equal magnitude, but directions are opposite.\n",
    "$$\n",
    "\\therefore \\underline{F}_{TOTAL} = q\\underline{E} - q\\underline{E} = 0\n",
    "$$\n",
    "$\\rightarrow$ No overall force.  \n",
    "$\\rightarrow$ No overall acceleration of the centre of mass.  \n",
    "However, there is a net torque. The E-field causes dipole rotation."
   ]
  },
  {
   "cell_type": "markdown",
   "id": "8ddb859b",
   "metadata": {},
   "source": [
    "# INSERT PICTURE HERE"
   ]
  },
  {
   "cell_type": "markdown",
   "id": "0f91ceb8",
   "metadata": {},
   "source": [
    "# FINISH DIAGRAM SEE VIDEO 2:39"
   ]
  },
  {
   "cell_type": "markdown",
   "id": "6875c7a1",
   "metadata": {},
   "source": [
    "$$\n",
    "\\tau_{+q} = \\frac{d}{2}F\\sin\\theta , \\textrm{clockwise}\n",
    "$$\n",
    "$$\n",
    "\\tau_{-q} = \\frac{d}{2}F\\sin\\theta , \\textrm{clockwise}\n",
    "$$\n",
    "\\begin{align*}\n",
    "    \\textrm{Total torque:} ~ \\tau &= \\tau_{+} + \\tau_{-}  \n",
    "                                    &= dF\\sin\\theta    \n",
    "                                    &= dqE\\sin\\theta    \\textrm{clockwise}\n",
    "\\end{align*}           \n",
    "The torque rotates the dipole until it is aligned with $\\underline{E}$-field  \n",
    "$\\textbf{Note:}~$ If $m_{1} \\neq m_{2}$ then the center of mass is not halfway between $-q$ and $+q$.  "
   ]
  },
  {
   "cell_type": "markdown",
   "id": "8a3d151b",
   "metadata": {},
   "source": [
    "$\\underline{Electric \\, dipole \\, moment:}$ "
   ]
  },
  {
   "cell_type": "markdown",
   "id": "ab7d53b7",
   "metadata": {},
   "source": [
    "# INSERT PICTURE HERE"
   ]
  },
  {
   "cell_type": "markdown",
   "id": "330459a9",
   "metadata": {},
   "source": [
    "$\\textbf{Note:}~$ $\\underline{d}$ is a vector."
   ]
  },
  {
   "cell_type": "markdown",
   "id": "6cf196d0",
   "metadata": {},
   "source": [
    "\n",
    "$$f \\equiv q\\underline{d}$$$\n",
    "$$\n",
    "Then, \\tau = p E \\sin \\theta$  \n",
    "Where $\\underline{p}$ is the electric dipole moment.  \n",
    "\n",
    "$p = \\mid \\underline{p} \\mid $  \n",
    "\n",
    "The force from $\\underline{E}$ moves the charges $\\therefore$ it does work.  "
   ]
  },
  {
   "cell_type": "markdown",
   "id": "2d9cb99a",
   "metadata": {},
   "source": [
    "#### Example:"
   ]
  },
  {
   "cell_type": "markdown",
   "id": "0198d906",
   "metadata": {},
   "source": [
    "# INSERT PICTURE HERE"
   ]
  },
  {
   "cell_type": "markdown",
   "id": "ae4cb881",
   "metadata": {},
   "source": [
    "No force, no torque change in position. Moving the dipole a small amount."
   ]
  },
  {
   "cell_type": "markdown",
   "id": "8a33951b",
   "metadata": {},
   "source": [
    "# INSERT PICTURE HERE"
   ]
  },
  {
   "cell_type": "markdown",
   "id": "e511e4d0",
   "metadata": {},
   "source": [
    "The electric field can now rotate the dipole\n",
    "Similar to a ball rolling down a hill, it only takes small push to cause it to start\n",
    "rolling down the hill."
   ]
  },
  {
   "cell_type": "markdown",
   "id": "ed09cd71",
   "metadata": {},
   "source": [
    "# INSERT PICTURE HERE"
   ]
  },
  {
   "cell_type": "markdown",
   "id": "78c6cd3b",
   "metadata": {},
   "source": [
    "If we move the dipole again slightly, the electric field will move it back to this\n",
    "position.  \n",
    "In order for the positive sign to be on the left hand side again, you would need\n",
    "an external force, similar to pushing the ball back up the hill. Work needs to\n",
    "be done to rotate the whole way around.\n",
    "How much? $2pE$"
   ]
  },
  {
   "cell_type": "markdown",
   "id": "9140294a",
   "metadata": {},
   "source": [
    "\\begin{align*}\n",
    "    W &= \\int^{\\theta}_{\\frac{\\pi}{2}} \\tau d \\theta\\\\\n",
    "      &= \\int^{\\theta}_{\\frac{\\pi}{2}} -p E \\sin \\theta d \\theta\n",
    "\\end{align*}"
   ]
  },
  {
   "cell_type": "markdown",
   "id": "d35a4285",
   "metadata": {},
   "source": [
    "$\\textbf{Note:}$ - Sign signifies clockwise rotation. This is convention"
   ]
  },
  {
   "cell_type": "markdown",
   "id": "bad0211e",
   "metadata": {},
   "source": [
    "\\begin{align*}\n",
    "\\Rightarrow W &= -pE \\int^{\\theta}_{\\frac{\\pi}{2}} \\sin \\theta d \\theta\\\\\n",
    "            &= -p E (-\\cos \\theta)|^{\\theta}_{\\frac{\\pi}{2}}\n",
    "\\end{align*}\n",
    "$$\n",
    "W = pE\\cos\\theta\n",
    "$$"
   ]
  },
  {
   "cell_type": "markdown",
   "id": "0fc50f51",
   "metadata": {},
   "source": [
    "$\\textbf{Recall:}$ - Change in the potential energy = $\\equiv \\Delta U$"
   ]
  },
  {
   "cell_type": "markdown",
   "id": "507cca8d",
   "metadata": {},
   "source": [
    "\\begin{align*}\n",
    "    &= -W\\\\\n",
    "    &= -pE\\cos\\theta\\\\\n",
    "    &=-\\underline{p}\\cdot\\underline{E}\n",
    "\\end{align*}"
   ]
  },
  {
   "cell_type": "markdown",
   "id": "98bce337",
   "metadata": {},
   "source": [
    "We can define zero of potential energy wherever we like, let's say it is zero $\\theta = \\frac{\\pi}{2}$.\\\\\n",
    "Then, the potential energy of a dipole in an $\\underline{E}$ field is:\n",
    "$$\n",
    "U = -\\underline{p}\\cdot\\underline{E}\n",
    "$$"
   ]
  },
  {
   "cell_type": "markdown",
   "id": "daca860a",
   "metadata": {},
   "source": [
    "The eventual resting position of the dipole has a nice physical picture, it is at the minimum of the potential energy.\n",
    "$$\n",
    "E = -\\underline{p} \\cdot \\underline{E} = -pE\\cos\\theta\n",
    "$$"
   ]
  },
  {
   "cell_type": "markdown",
   "id": "232b9b8e",
   "metadata": {},
   "source": [
    "This has a minimum at $\\theta = 0$  \n",
    "With a constant electric field, the dipole will turn until it is parallel with the electric field."
   ]
  },
  {
   "cell_type": "markdown",
   "id": "8e99e4e5",
   "metadata": {},
   "source": [
    "#### Example: "
   ]
  },
  {
   "cell_type": "markdown",
   "id": "a77a3099",
   "metadata": {},
   "source": [
    "The molecule HF forms a dipole as shown."
   ]
  },
  {
   "cell_type": "markdown",
   "id": "3ffc5491",
   "metadata": {},
   "source": [
    "# INSERT PCITURE HERE"
   ]
  },
  {
   "cell_type": "markdown",
   "id": "f7d1953e",
   "metadata": {},
   "source": [
    "d = 9.2x10$^{-11}$m  \n",
    "The measured dipole moment is $6.08x10^{30}$Cm  \n",
    "Find the effective charge.\n",
    "\\begin{align*}\n",
    "    p&=qd\\\\\n",
    "    \\Rightarrow q&= \\frac{p}{q}\\\\\n",
    "    &= \\frac{6.08x10^{-30}}{9.2x10^{-2}}\\\\\n",
    "    &= 6.61x10^{-20}C\\\\\n",
    "    &\\approx 0.41e\n",
    "\\end{align*}"
   ]
  },
  {
   "cell_type": "markdown",
   "id": "5fdda3d6",
   "metadata": {},
   "source": [
    "Find the maximum torque that can be exerted on the HF molecules by an electric field of\n",
    "1.5x10$^{4} \\frac{N}{C}$\n",
    "\\begin{align*}\n",
    "    \\mid \\tau \\mid &= pE \\mid \\sin \\theta \\mid \\\\\n",
    "    \\Rightarrow \\mid \\tau \\mid _{max} &= pE\\\\\n",
    "    &= 9.12x10^-26Nm\n",
    "\\end{align*}"
   ]
  },
  {
   "cell_type": "markdown",
   "id": "e3285bca",
   "metadata": {},
   "source": [
    "$\\textbf{Note:}$ - $\\sin\\theta$ is at a maximum when $\\theta = 90^{o}$"
   ]
  },
  {
   "cell_type": "markdown",
   "id": "3cf7d139",
   "metadata": {},
   "source": [
    "How much work must be done by an external force to change the orientation from $\\theta = \\pi $ to $\\theta = 0$?\n",
    "\\begin{align*}\n",
    "    W = - \\Delta U &= -( U(0)-U(\\pi) )\\\\\n",
    "                   &- ( -pE\\cos\\theta - (-pE\\cos\\pi)   )\\\\\n",
    "                &= pE +pE\\\\\n",
    "                &= 2pE\\\\\n",
    "                \\Rightarrow W &= 1.8\\textrm{x}10^{-25}J\n",
    "\\end{align*}    "
   ]
  },
  {
   "cell_type": "code",
   "execution_count": null,
   "id": "7e7ca482",
   "metadata": {},
   "outputs": [],
   "source": []
  }
 ],
 "metadata": {
  "kernelspec": {
   "display_name": "Python 3 (ipykernel)",
   "language": "python",
   "name": "python3"
  },
  "language_info": {
   "codemirror_mode": {
    "name": "ipython",
    "version": 3
   },
   "file_extension": ".py",
   "mimetype": "text/x-python",
   "name": "python",
   "nbconvert_exporter": "python",
   "pygments_lexer": "ipython3",
   "version": "3.11.4"
  }
 },
 "nbformat": 4,
 "nbformat_minor": 5
}
