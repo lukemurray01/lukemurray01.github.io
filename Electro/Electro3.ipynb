{
 "cells": [
  {
   "cell_type": "markdown",
   "metadata": {},
   "source": [
    "#### Electrodynamic Notes (3)"
   ]
  },
  {
   "cell_type": "markdown",
   "metadata": {},
   "source": [
    "#### Multipole Expansion Vector Potential"
   ]
  },
  {
   "cell_type": "markdown",
   "metadata": {},
   "source": [
    "For a current loop with current $I$"
   ]
  },
  {
   "cell_type": "markdown",
   "metadata": {},
   "source": [
    "$$\n",
    "\\vec{A} = \\frac{\\mu_{0}}{4\\pi} \\oint \\frac{I}{\\mid \\vec{r} - \\vec{r'} \\mid}d \\vec{l'}\n",
    "$$"
   ]
  },
  {
   "cell_type": "markdown",
   "metadata": {},
   "source": [
    "Recalling the monopole, dipole and quadrupole, the monopole term with always vanish due to constrained imposed on current density by $\\nabla \\cdot \\vec{j} = 0$, this is consistent with the observation of non magnetic monopoles (Splitting a bar magnet in two creates two seperate magnets)."
   ]
  },
  {
   "cell_type": "markdown",
   "metadata": {},
   "source": [
    "We will look at the dipole term in the following vector potential"
   ]
  },
  {
   "cell_type": "markdown",
   "metadata": {},
   "source": [
    "$$\n",
    "\\vec{A}_{\\textrm{dip}}(\\vec{r}) = \\frac{\\mu_{0} I}{4\\pi r^{2}}\\oint r' \\cos \\theta' d\\vec{l'} = \\frac{\\mu_{0} I}{4 \\pi r^{2}}\\oint \\vec{e_{r}} \\cdot \\vec{r'} d\\vec{l'}\n",
    "$$"
   ]
  },
  {
   "cell_type": "markdown",
   "metadata": {},
   "source": [
    "Looking at the integral on the right hand side we can start from a general expression"
   ]
  },
  {
   "cell_type": "markdown",
   "metadata": {},
   "source": [
    "For any constant vector $\\vec{C}$ one can show\n",
    "$$\n",
    "\\oint (\\vec{C} \\cdot \\vec{r'})d\\vec{l'} = \\vec{a} \\times \\vec{C} = -\\vec{C} \\times \\vec{a} ~~~~~~~~~~~~~~~~~~~~~~~(1)\n",
    "$$"
   ]
  },
  {
   "cell_type": "markdown",
   "metadata": {},
   "source": [
    "where $\\vec{a} \\equiv \\int d\\vec{a} = \\frac{1}{2}\\oint \\vec{r'} \\times d\\vec{l'}$ = vector area of contour loop, and $\\vec{a} = a\\vec{e_{n}}$ where unit normal vector $\\vec{e_{n}}$ is associated with the rule (vector) area $a$ enclosed by the contour loop deined by right hand rule."
   ]
  },
  {
   "cell_type": "markdown",
   "metadata": {},
   "source": [
    "Recall the dipole term in the following\n",
    "$$\n",
    "\\vec{A}_{\\textrm{dip}} = \\frac{\\mu_{0} I}{4 \\pi r^{2}} \\oint r' \\cos \\theta' d\\vec{l'} = \\frac{\\mu_{0} I}{4 \\pi r^{2}} \\oint \\vec{e_{r}} \\cdot \\vec{r'}d\\vec{l'}\n",
    "$$"
   ]
  },
  {
   "cell_type": "markdown",
   "metadata": {},
   "source": [
    "With $\\vec{e}_{r}$ being the unit vector in the direction of $\\vec{r}$"
   ]
  },
  {
   "cell_type": "markdown",
   "metadata": {},
   "source": [
    "As our unit vector can be thought of as a constant vector, we can use the expression $(1)$ and then we can then write"
   ]
  },
  {
   "cell_type": "markdown",
   "metadata": {},
   "source": [
    "$$\n",
    "\\oint \\vec{e_{r}} \\cdot \\vec{r'} d\\vec{l'} = \\int d\\vec{a'} \\times \\vec{e}_{r} = - \\vec{e}_{r} \\times \\int d\\vec{a'}\n",
    "$$"
   ]
  },
  {
   "cell_type": "markdown",
   "metadata": {},
   "source": [
    "Then our $\\vec{A}_{dip}(\\vec{r})$ turns into $\\vec{A}_{dip} = \\frac{\\mu_{0} I}{4 \\pi r^{2}} \\int d\\vec{a'} \\times \\vec{e}_{r}$"
   ]
  },
  {
   "cell_type": "markdown",
   "metadata": {},
   "source": [
    "$$\n",
    "\\vec{A}_{dip} = \\frac{\\mu_{0}}{4 \\pi}\\frac{\\vec{m} \\times \\vec{e}_{r}}{r^{2}}\n",
    "$$\n",
    "Where $\\vec{m}$ is the magnetic dipole moment, with $\\vec{m} = I\\int d\\vec{a'} = I~a~\\vec{e}_{n}$.\\\n",
    "Picture this as a ring of current moving counterclockwise with $\\vec{m}$ pointing upwards through the centre of the ring."
   ]
  },
  {
   "cell_type": "markdown",
   "metadata": {},
   "source": [
    "#### Magnetic field of pure dipole"
   ]
  },
  {
   "cell_type": "markdown",
   "metadata": {},
   "source": [
    "$$\n",
    "\\vec{A}_{dip} = \\frac{\\mu_{0}}{4\\pi}\\frac{\\vec{m} \\times \\vec{e}_{r}}{r^{2}}\n",
    "$$\n",
    "with $\\vec{m} = I \\int d \\vec{a'} = I~a~\\vec{e}_{n}$"
   ]
  },
  {
   "cell_type": "markdown",
   "metadata": {},
   "source": [
    "What do we mean when we say a pure magnetic dipole?\\\n",
    "We take the area $a$ to be infinitesimally small and the current $I$ to be infinitely large.\\\n",
    "Let's consider a loop positioned at the origin and pick our vector potential $\\vec{A}$"
   ]
  },
  {
   "cell_type": "markdown",
   "metadata": {},
   "source": [
    "Next, we will define $\\vec{m} = I~a~\\vec{e}{n} = \\mid \\vec{m} \\mid \\vec{e}_{n} = m \\vec{e}_{n}$\n"
   ]
  },
  {
   "cell_type": "markdown",
   "metadata": {},
   "source": [
    "$$\n",
    "\\vec{A}_{\\textrm{dip}}(\\vec{r}) = \\frac{\\mu}{4 \\pi}\\frac{m}{r^{2}}\\vec{e}_{z} \\times \\vec{e}_{r}\n",
    "$$"
   ]
  },
  {
   "cell_type": "markdown",
   "metadata": {},
   "source": [
    "Moving to a spherical co ordinate system, we change our unit vector as follows $\\vec{e}_{z} = \\cos(\\theta)\\vec{e}_{r} - \\sin (\\theta)\\vec{e}_{\\theta}$"
   ]
  },
  {
   "cell_type": "markdown",
   "metadata": {},
   "source": [
    " \\begin{align*}\n",
    "    \\vec{A}_{dip}(\\vec{r}) &= \\frac{\\mu}{4 \\pi}\\frac{m}{r^{2}}(\\cos(\\theta)\\vec{e}_{r} - \\sin (\\theta)\\vec{e}_{\\theta}) \\times \\vec{e}_{r}\\\\\n",
    "    ~\\textrm{Using}~\\vec{e}_{r} \\times \\vec{e}_{r} &= \\vec{0}~\\textrm{and}~\\vec{e}_{\\theta}\\times \\vec{e}_{r} = -\\vec{e}_{\\phi}\\\\\n",
    "   \\textrm{Then}~\\vec{A}_{dip}(\\vec{r}) &= \\frac{\\mu}{4 \\pi}\\frac{m \\sin (\\theta)}{r^{2}}\\vec{e}_{\\phi}\n",
    " \\end{align*}"
   ]
  },
  {
   "cell_type": "markdown",
   "metadata": {},
   "source": [
    "We can then calculate the magnetic field of this pure dipole using $\\vec{B} = \\nabla \\times \\vec{A}_{dip}$, remembering to use the $\\nabla$ in spherical coordinates we get"
   ]
  },
  {
   "cell_type": "markdown",
   "metadata": {},
   "source": [
    "$$\n",
    "\\vec{B} = \\frac{\\mu_{0} m}{4 \\pi r^{3}}(2 \\cos (\\theta)\\vec{e}_{r} + \\sin (\\theta)\\vec{e}_{\\theta})\n",
    "$$"
   ]
  }
 ],
 "metadata": {
  "kernelspec": {
   "display_name": "Python 3",
   "language": "python",
   "name": "python3"
  },
  "language_info": {
   "codemirror_mode": {
    "name": "ipython",
    "version": 3
   },
   "file_extension": ".py",
   "mimetype": "text/x-python",
   "name": "python",
   "nbconvert_exporter": "python",
   "pygments_lexer": "ipython3",
   "version": "3.8.3"
  }
 },
 "nbformat": 4,
 "nbformat_minor": 4
}
