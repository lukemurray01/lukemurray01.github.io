{
 "cells": [
  {
   "cell_type": "markdown",
   "metadata": {},
   "source": [
    "### Electrodyanmic Notes (2)"
   ]
  },
  {
   "cell_type": "markdown",
   "metadata": {},
   "source": [
    "#### Magneostatic Boundary Conditions & Multipole Expansion"
   ]
  },
  {
   "cell_type": "markdown",
   "metadata": {},
   "source": [
    "In Electrostatics we have 3 fundamental quantities, volume charge density$\\rho$, electric field$\\vec{E}$ and voltage $V$. The Electric field always undergoes a discontinuity when you cross a surface charge $\\sigma$."
   ]
  },
  {
   "cell_type": "markdown",
   "metadata": {},
   "source": [
    "In Magnetostatics we have 3 fundamental quantites, current density $\\vec{J}$, magnetic field $\\vec{B}$ and the magnetic vector potential $\\vec{A}$. The magnetic field will be discontinous by the amount of surface current at the boundary $\\vec{K}$."
   ]
  },
  {
   "cell_type": "markdown",
   "metadata": {},
   "source": [
    "#### Magneostatic Boundary Conditions\n",
    "#### (i)"
   ]
  },
  {
   "cell_type": "markdown",
   "metadata": {},
   "source": [
    "Using the fact that the divergence of the magnetic field in a magneostatic setup is zero, ($\\nabla \\cdot \\vec{B} = 0 $), we can take the integral of both sides to achieve:"
   ]
  },
  {
   "cell_type": "markdown",
   "metadata": {},
   "source": [
    "$$ \\int \\nabla \\cdot \\vec{B} d\\tau = 0 $$"
   ]
  },
  {
   "cell_type": "markdown",
   "metadata": {},
   "source": [
    "We can then apply the Divergence theorem to convert the from a volume integral to a surface integral\n"
   ]
  },
  {
   "cell_type": "markdown",
   "metadata": {},
   "source": [
    "$$\n",
    "\\int \\nabla \\vec{B} d\\tau = \\oint \\vec{B} d\\vec{a} = 0\n",
    "$$"
   ]
  },
  {
   "cell_type": "markdown",
   "metadata": {},
   "source": [
    "Let's now consider a surface with currents and apply our new integral $\\oint \\vec{B} d\\vec{a} = 0$ to a thin \"pillbox\" with the top and bottom on either side of the surface."
   ]
  },
  {
   "cell_type": "markdown",
   "metadata": {},
   "source": [
    "$$ \\oint \\vec{B} d\\vec{a} = + \\vec{B}^{\\perp}_{\\textrm{above}} \\cdot a - \\vec{B}^{\\perp}_{\\textrm{above}} \\cdot a = 0 $$"
   ]
  },
  {
   "cell_type": "markdown",
   "metadata": {},
   "source": [
    "Where $\\vec{B}^{\\perp}_{\\textrm{above}}$ and $d\\vec{a}$ for the top surface in the same direction.\\\n",
    "Where $\\vec{B}^{\\perp}_{\\textrm{below}}$ and $d\\vec{a}$ for the bottom surface in the opposite direction.\\\n",
    "\\\n",
    "Then the components of the magnetic field $\\vec{B}$ are perpendicular to the surface is continuous."
   ]
  },
  {
   "cell_type": "markdown",
   "metadata": {},
   "source": [
    "$$\n",
    "\\vec{B}^{\\perp}_{\\textrm{above}} = \\vec{B}^{\\perp}_{\\textrm{below}}\n",
    "$$"
   ]
  },
  {
   "cell_type": "markdown",
   "metadata": {},
   "source": [
    "The contributions from the side of the box will vanish as the pillbox depth of the pillbox is negligible."
   ]
  },
  {
   "cell_type": "markdown",
   "metadata": {},
   "source": [
    "#### (ii)"
   ]
  },
  {
   "cell_type": "markdown",
   "metadata": {},
   "source": [
    "Let's now apply an thin amperian loop orientated perpendicular to the current surface"
   ]
  },
  {
   "cell_type": "markdown",
   "metadata": {},
   "source": [
    "$$\n",
    "\\oint \\vec{B} d\\vec{l} = \\mu_{0}I_{\\textrm{enc}}\n",
    "$$"
   ]
  },
  {
   "cell_type": "markdown",
   "metadata": {},
   "source": [
    "$$\n",
    " \\oint \\vec{B} d\\vec{l} = B^{\\perp}_{\\textrm{above}} \\cdot l\n",
    " - B^{\\perp}_{\\textrm{below}} \\cdot l + B^{\\perp} \\cdot w - B^{\\perp} \\cdot w = \\mu_{0}I_{\\textrm{enc}} \n",
    "$$"
   ]
  },
  {
   "cell_type": "markdown",
   "metadata": {},
   "source": [
    "$$\n",
    "\\left(B^{\\perp}_{\\textrm{above}} - B^{\\perp}_{\\textrm{below}}\\right) \\cdot l = \\mu_{0} K \\cdot l\n",
    "$$"
   ]
  },
  {
   "cell_type": "markdown",
   "metadata": {},
   "source": [
    "$$\n",
    "B^{\\perp}_{\\textrm{above}} - B^{\\perp}_{\\textrm{below}} = \\mu_{0} K\n",
    "$$"
   ]
  },
  {
   "cell_type": "markdown",
   "metadata": {},
   "source": [
    "The Component of $\\vec{B}$ parallel to the surface is discontinuous, the current will increase by an amount $\\mu_{0} K$"
   ]
  },
  {
   "cell_type": "markdown",
   "metadata": {},
   "source": [
    "#### Boundary conditions for a vector potential $\\vec{A}$ across a current sheet"
   ]
  },
  {
   "cell_type": "markdown",
   "metadata": {},
   "source": [
    "#### (i)"
   ]
  },
  {
   "cell_type": "markdown",
   "metadata": {},
   "source": [
    "We can pick a vector potential $\\vec{A}$ and apply the Divergence Theorem to convert from a Volume integral to a inegral surface bounding a volume."
   ]
  },
  {
   "cell_type": "markdown",
   "metadata": {},
   "source": [
    "\\begin{align*}\n",
    "\\nabla \\cdot \\vec{A} &= 0\\\\\n",
    "\\int \\nabla \\cdot \\vec{A} d\\tau &= 0\\\\\n",
    "\\oint \\vec{A} d\\vec{a} &= 0\n",
    "\\end{align*}"
   ]
  },
  {
   "cell_type": "markdown",
   "metadata": {},
   "source": [
    "We will use a similar precedure as for $\\vec{B}^{\\perp}$, consider pillbox and take integral over surface"
   ]
  },
  {
   "cell_type": "markdown",
   "metadata": {},
   "source": [
    "$$\n",
    "\\oint \\vec{A} =A^{\\perp}_{\\textrm{above}} \\cdot a - A^{\\perp}_{\\textrm{below}} \\cdot a = 0\n",
    "$$"
   ]
  },
  {
   "cell_type": "markdown",
   "metadata": {},
   "source": [
    "$$\n",
    "A^{\\perp}_{\\textrm{above}} = A^{\\perp}_{\\textrm{below}}\n",
    "$$"
   ]
  },
  {
   "cell_type": "markdown",
   "metadata": {},
   "source": [
    "#### (ii)"
   ]
  },
  {
   "cell_type": "markdown",
   "metadata": {},
   "source": [
    "\\begin{align*}\n",
    "\\nabla \\times \\vec{A} &= \\vec{B}\\\\\n",
    "\\int \\left(\\nabla \\times \\vec{A}\\right) \\cdot d\\vec{a} &= \\int \\vec{B} \\cdot d\\vec{a} = \\phi\\\\\n",
    "\\oint \\vec{A} \\cdot d\\vec{l} &= \\phi\n",
    "\\end{align*}"
   ]
  },
  {
   "cell_type": "markdown",
   "metadata": {},
   "source": [
    "Choose the same amperian loop as for $\\vec{B}$, if we have a very thin loop height $w \\to 0$ the area of the loop goes to 0 thus $\\phi \\to 0$."
   ]
  },
  {
   "cell_type": "markdown",
   "metadata": {},
   "source": [
    "Choose the same amperian loop as for $\\vec{B}$"
   ]
  },
  {
   "cell_type": "markdown",
   "metadata": {},
   "source": [
    "\\begin{align*}\n",
    "\\oint \\vec{A} \\cdot d\\vec{l} = \\phi\\\\\n",
    "\\oint \\vec{A} \\cdot d\\vec{l}  = 0\\\\\n",
    "A^{\\perp}_{\\textrm{above}} = A^{\\perp}_{\\textrm{below}}\n",
    "\\end{align*}"
   ]
  },
  {
   "cell_type": "markdown",
   "metadata": {},
   "source": [
    "Magnetic vector potential $\\vec{A}$  conntinuous across current carrying surface for both parallel annd perpendicular components."
   ]
  },
  {
   "cell_type": "markdown",
   "metadata": {},
   "source": [
    "#### Magnetostatic Boundary Condition Summary"
   ]
  },
  {
   "cell_type": "markdown",
   "metadata": {},
   "source": [
    "Vector potential: $$\\vec{A}_{\\textrm{above}} = \\vec{A}_{\\textrm{below}}$$\\\n",
    "\\\n",
    "Magnetic field: \\begin{align*}\\vec{B}^{\\perp}_{\\textrm{above}} &= \\vec{B}^{\\perp}_{\\textrm{below}}\\\\\n",
    "\\vec{B}^{\\parallel}_{\\textrm{above}} - \\vec{B}^{\\parallel}_{\\textrm{below}} &= \\mu_{0} K\\end{align*}"
   ]
  },
  {
   "cell_type": "markdown",
   "metadata": {},
   "source": [
    "#### Electrostatics Boundary Condition Summary"
   ]
  },
  {
   "cell_type": "markdown",
   "metadata": {},
   "source": [
    "Scalar potential:\n",
    "$$ \n",
    "V_{\\textrm{above}} = V_{\\textrm{below}}\n",
    "$$\n",
    "Electric field:\n",
    "\\begin{align*}\n",
    "E^{\\perp}_{\\textrm{above}} - E^{\\perp}_{\\textrm{below}} &= \\underbrace{\\frac{\\sigma}{\\epsilon_{0}}}_{\\textrm{Surface Charge Density}}\\\\\n",
    "\\\\\n",
    "E^{\\parallel}_{\\textrm{above}} &= E^{\\parallel}_{\\textrm{below}}\n",
    "\\end{align*}"
   ]
  },
  {
   "cell_type": "markdown",
   "metadata": {},
   "source": [
    "### Multipole Expansion Vector Potential"
   ]
  },
  {
   "cell_type": "markdown",
   "metadata": {},
   "source": [
    "Line Current $I$:\n",
    "$$\n",
    "\\vec{A}(\\vec{r}) = \\frac{\\mu_{0}}{4\\pi} \\int \\frac{I(\\vec{r'})}{\\mid \\vec{r} - \\vec{r'}\\mid}d\\vec{l'}\n",
    "$$\n",
    "Surface Currents $\\vec{K}$\n",
    "$$\n",
    "\\vec{A}(\\vec{r}) = \\frac{\\mu_{0}}{4\\pi} \\int \\frac{K(\\vec{r'})}{\\mid \\vec{r} - \\vec{r'}\\mid}d{a'}\n",
    "$$\n",
    "Volume Currents $\\vec{J}$\n",
    "$$\n",
    "\\vec{A}(\\vec{r}) = \\frac{\\mu_{0}}{4\\pi} \\int \\frac{J(\\vec{r'})}{\\mid \\vec{r} - \\vec{r'}\\mid}d\\tau'\n",
    "$$"
   ]
  },
  {
   "cell_type": "markdown",
   "metadata": {},
   "source": [
    "In each case we have a $\\frac{1}{\\mid \\vec{r} - \\vec{r'} \\mid}$ dependence."
   ]
  },
  {
   "cell_type": "markdown",
   "metadata": {},
   "source": [
    "We may be interested in the vector potential $\\vec{A}(\\vec{r})$ (and ultimately $\\vec{B}(\\vec{r})$ at a point $\\vec{r}$ far away from current density at $\\vec{r'}$"
   ]
  },
  {
   "cell_type": "markdown",
   "metadata": {},
   "source": [
    "### Multipole Expansion Vector Poential"
   ]
  },
  {
   "cell_type": "markdown",
   "metadata": {},
   "source": [
    "We only need to expand $\\frac{1}{\\mid \\vec{r} - \\vec{r'} \\mid}$ in a series, we only need to keep only a first few terms"
   ]
  },
  {
   "cell_type": "markdown",
   "metadata": {},
   "source": [
    "Thus in our case: $\\frac{1}{\\mid \\vec{r} - \\vec{r'} \\mid} = \\frac{1}{r}(1+\\epsilon)^{-\\frac{1}{2}} = \\frac{1}{r}\\left(1 - \\frac{1}{2}\\epsilon + \\frac{3}{8}\\epsilon^{2} - \\frac{5}{16}\\epsilon^{3} + \\dots \\right)$"
   ]
  },
  {
   "cell_type": "markdown",
   "metadata": {},
   "source": [
    "Insert now $\\epsilon = \\frac{r'}{r}\\left(\\frac{r'}{r} - 2\\cos(\\theta)\\right)$ and group result in power of $\\left(\\frac{r'}{r}\\right)$"
   ]
  },
  {
   "cell_type": "markdown",
   "metadata": {},
   "source": [
    "$$\n",
    "\\frac{1}{\\mid \\vec{r} - \\vec{r'} \\mid} = \\frac{1}{r}\\left(1 + \\frac{r'}{r}\\cos(\\theta') + (\\frac{r'}{r})^{2}\\left(\\frac{3 \\cos^{2}(\\theta') - 1}{2}\\right) + \\left(\\frac{r'}{r}\\right)^{3}\\left(\\frac{5\\cos^{3}(\\theta') - 3\\cos (\\theta')}{2}\\right) + \\dots \\right)\n",
    "$$"
   ]
  },
  {
   "cell_type": "markdown",
   "metadata": {},
   "source": [
    "The coefficients are Legender polynomials $P_{n}(x)$"
   ]
  },
  {
   "cell_type": "markdown",
   "metadata": {},
   "source": [
    "\\begin{align*}\n",
    "P_{n} &\\equiv \\frac{1}{2^{n}n!}\\frac{d^{n}}{d x^{n}}\\left( \\left( x^{2}-1)^{n} \\right)\\right)\\\\\n",
    "P_{1}(x) &= x\\\\\n",
    "P_{2}(x) &= \\frac{1}{2}(3x^{2}-1)\\\\\n",
    "P_{3}(x) &= \\frac{1}{2}(5x^{3} - 3x) \n",
    "\\end{align*}"
   ]
  },
  {
   "cell_type": "markdown",
   "metadata": {},
   "source": [
    "We can generalise this expresion to\n",
    "$$\n",
    "\\frac{1}{\\mid \\vec{r} - \\vec{r'} \\mid} = \\frac{1}{r}\\sum^{\\infty}_{n=0}\\left(\\frac{r'}{r}\\right)^{n}P_{n}(\\cos(\\theta'))\n",
    "$$"
   ]
  },
  {
   "cell_type": "markdown",
   "metadata": {},
   "source": [
    "For a current loop with current $I$\n",
    "$$\n",
    "\\vec{A} = \\frac{\\mu_{0}}{4 \\pi} \\oint \\frac{I}{\\mid \\vec{r} - \\vec{r'} \\mid}d \\vec{l'}\n",
    "$$"
   ]
  },
  {
   "cell_type": "markdown",
   "metadata": {},
   "source": [
    "$$\n",
    "\\vec{A} = \\frac{\\mu_{0} I}{4\\pi}\\left[\\underbrace{\\frac{1}{r}\\oint d\\vec{l'}}_{\\textrm{Monopole}} + \\underbrace{\\frac{1}{r^{2}} \\oint r' \\cos (\\theta')d\\vec{l'}}_{\\textrm{Dipole}} + \\underbrace{\\frac{1}{r^{3}}\\oint (r')^{2}\\left(\\frac{3}{2}\\cos^{2}(\\theta') - \\frac{1}{2}\\right)d\\vec{l'}}_{\\textrm{Quadrupole}} + \\dots\\right]\n",
    "$$"
   ]
  }
 ],
 "metadata": {
  "kernelspec": {
   "display_name": "Python 3",
   "language": "python",
   "name": "python3"
  },
  "language_info": {
   "codemirror_mode": {
    "name": "ipython",
    "version": 3
   },
   "file_extension": ".py",
   "mimetype": "text/x-python",
   "name": "python",
   "nbconvert_exporter": "python",
   "pygments_lexer": "ipython3",
   "version": "3.8.3"
  }
 },
 "nbformat": 4,
 "nbformat_minor": 4
}
