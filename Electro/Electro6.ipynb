{
 "cells": [
  {
   "cell_type": "markdown",
   "metadata": {},
   "source": [
    "Electrodynamics II - Lecture 6"
   ]
  },
  {
   "cell_type": "markdown",
   "metadata": {},
   "source": [
    "#### Ampere's Law in magnetised materials"
   ]
  },
  {
   "cell_type": "markdown",
   "metadata": {},
   "source": [
    "$$\n",
    "\\vec{\\nabla} \\times \\vec{H} = \\vec{J}_{f}\n",
    "$$\n",
    "or\n",
    "$$\n",
    "\\oint \\vec{H}d\\vec{l} = I_{f,\\textrm{enc}}\n",
    "$$"
   ]
  },
  {
   "cell_type": "markdown",
   "metadata": {},
   "source": [
    "#### Example "
   ]
  },
  {
   "cell_type": "markdown",
   "metadata": {},
   "source": [
    "Free and bound currents in a copper rod (copper is weakly diamagnetic)."
   ]
  },
  {
   "cell_type": "markdown",
   "metadata": {},
   "source": [
    "![Example6.1](Figures/Electro6.1.png)"
   ]
  },
  {
   "cell_type": "markdown",
   "metadata": {},
   "source": [
    "Let's see what happens if we send a uniform volume current through a rod of radius $R$.\\\n",
    "We have a free current density $\\vec{J}_{f} = \\frac{I_{f}}{\\pi R^{2}}\\vec{e}_{z}$\\\n",
    "A free current density sets up the magnetic field which $\\vec{B} \\propto \\vec{e}_{\\phi}$ inside and outside the rod.\\\n",
    "$\\vec{B}$ induces a bound current around the copper atoms.\\\n",
    "A magnetic dipole moment (magnetisation $\\vec{M}$) which opposes $\\vec{B}$"
   ]
  },
  {
   "cell_type": "markdown",
   "metadata": {},
   "source": [
    "![Example6.2](Figures/Electro6.2.png)"
   ]
  },
  {
   "cell_type": "markdown",
   "metadata": {},
   "source": [
    "![Example6.3](Figures/Electro6.3.png)"
   ]
  },
  {
   "cell_type": "markdown",
   "metadata": {},
   "source": [
    "##### Find $\\vec{H}$ and $\\vec{B}$ inside and outside the rod"
   ]
  },
  {
   "cell_type": "markdown",
   "metadata": {},
   "source": [
    "#### Inside the rod:"
   ]
  },
  {
   "cell_type": "markdown",
   "metadata": {},
   "source": [
    "Using an Amperian Loop\n",
    "$$\n",
    "\\oint \\vec{H} d\\vec{l} = I_{f,\\textrm{enc}} = \\int \\vec{J}_{f} \\cdot d\\vec{a} = \\frac{I_{f}}{\\pi R^{2}}\\int \\vec{e}_{z} \\cdot d\\vec{a}\n",
    "$$"
   ]
  },
  {
   "cell_type": "markdown",
   "metadata": {},
   "source": [
    "Uniform current $\\Rightarrow$ Uniform $\\vec{H}$ field around loop\n",
    "$$\n",
    "H \\cdot 2\\pi \\rho = \\frac{I_{f}}{\\pi R^{2}}\\pi \\rho^{2} \\Rightarrow \\vec{H} = \\frac{I_{f}}{2\\pi R^{2}}\\rho \\vec{e}_{\\phi}\n",
    "$$"
   ]
  },
  {
   "cell_type": "markdown",
   "metadata": {},
   "source": [
    "We cannot determine the magnetic field $\\vec{B}$ as we only know the bound current $\\vec{J}_{b}$, recall that the magnetic field is defined to be $\\vec{B} = \\mu_{0}(\\vec{H} + \\vec{M})$"
   ]
  },
  {
   "cell_type": "markdown",
   "metadata": {},
   "source": [
    "We can only determine $\\vec{H}$ from the free current flowing in the copper rod."
   ]
  },
  {
   "cell_type": "markdown",
   "metadata": {},
   "source": [
    "#### Outside the rod"
   ]
  },
  {
   "cell_type": "markdown",
   "metadata": {},
   "source": [
    "Again, we can use an amperian loop"
   ]
  },
  {
   "cell_type": "markdown",
   "metadata": {},
   "source": [
    "$$\n",
    "\\oint \\vec{H}d\\vec{l} = I_{f,\\textrm{enc}}\n",
    "$$"
   ]
  },
  {
   "cell_type": "markdown",
   "metadata": {},
   "source": [
    "A uniform current will generate a uniform $\\vec{H}$ field around the loop."
   ]
  },
  {
   "cell_type": "markdown",
   "metadata": {},
   "source": [
    "$$\n",
    "H \\cdot 2 \\pi \\rho = \\frac{I_{f}}{\\pi R^{2}}\\pi R^{2} \\rightarrow \\vec{H} = \\frac{I_{f}}{2\\pi \\rho}\\vec{e}_{\\phi}\n",
    "$$\n",
    "The magnetisation will be zero, ($\\vec{M} = 0$) therefore we can calculate the magnetic field.\\\n",
    "$$\n",
    "\\vec{B} = \\frac{\\mu_{0} I_{f}}{2 \\pi \\rho}\\vec{e}_{\\phi}\n",
    "$$\n",
    "with $\\rho \\geq R$"
   ]
  },
  {
   "cell_type": "markdown",
   "metadata": {},
   "source": [
    "#### Boundary Conditions"
   ]
  },
  {
   "cell_type": "markdown",
   "metadata": {},
   "source": [
    "$\\vec{H}$ and $\\vec{B}$ outside the wire:\n",
    "    $$\n",
    "    \\vec{H} = \\frac{I}{2\\pi \\rho}\\vec{e}_{\\phi}\n",
    "    $$\n",
    "    $$\n",
    "    \\vec{B} = \\frac{\\mu_{0}}{2 \\pi \\rho}\\vec{e}_{\\phi}\n",
    "    $$\n",
    "With $\\rho \\geq R$"
   ]
  },
  {
   "cell_type": "markdown",
   "metadata": {},
   "source": [
    "##### Determining $\\vec{B}$ inside the wire"
   ]
  },
  {
   "cell_type": "markdown",
   "metadata": {},
   "source": [
    "Let's look at the boundary conditions for $\\vec{B}$ and $\\vec{H}$ at the surface of the cylinder."
   ]
  },
  {
   "cell_type": "markdown",
   "metadata": {},
   "source": [
    "Magnetic field\n",
    "$$\n",
    "B^{\\perp}_{\\textrm{above}} = B^{\\perp}_{\\textrm{below}} ~~~~~~~~~~~~~~(1)\\\\\n",
    "B^{\\parallel}_{\\textrm{above}} - B^{\\parallel}_{\\textrm{below}} = \\mu_{0}K ~~~~~~~~~~(2)\n",
    "$$"
   ]
  },
  {
   "cell_type": "markdown",
   "metadata": {},
   "source": [
    "Recall that we have defined magnetisation $\\vec{H}$ to be $\\vec{H} \\equiv \\frac{1}{\\mu_{0}}\\vec{B} - \\vec{M} \\Rightarrow \\vec{B} = \\mu_{0}(\\vec{H} + \\vec{M})$"
   ]
  },
  {
   "cell_type": "markdown",
   "metadata": {},
   "source": [
    "Looking at $H^{\\parallel}$ from (1) we see that $H^{\\perp}_{\\textrm{above}} - H^{\\perp}_{\\textrm{below}} = - \\left(M^{\\parallel}_{\\textrm{above}} - M^{\\parallel}_{\\textrm{below}}\\right)$"
   ]
  },
  {
   "cell_type": "markdown",
   "metadata": {},
   "source": [
    "We can rewrite the $\\vec{B}_{\\textrm{below}} - \\vec{B}_{\\textrm{below}} = \\mu_{0}\\vec{K} \\times \\vec{e}_{n}$"
   ]
  },
  {
   "cell_type": "markdown",
   "metadata": {},
   "source": [
    "Using $\\vec{B} = \\mu_{0}\\left(\\vec{H} + \\vec{M}\\right)$"
   ]
  },
  {
   "cell_type": "markdown",
   "metadata": {},
   "source": [
    "\\begin{align*}\n",
    "\\mu_{0}\\left(\\vec{H}_{\\textrm{above}} + \\vec{M}_{\\textrm{above}}\\right) - \\mu_{0}\\left(\\vec{H}_{\\textrm{below}} + \\vec{M}_{\\textrm{below}}\\right) &= \\mu_{0}\\vec{K} \\times \\vec{n}\\\\\n",
    "\\left(\\vec{H}_{\\textrm{above}} - \\vec{H}_{\\textrm{below}}\\right) + \\underbrace{\\left(\\vec{M}_{\\textrm{above}} - \\vec{M}_{\\textrm{below}}\\right)}_{\\textrm{$\\vec{K}_{b} \\times \\vec{n}$}} &= \\vec{K} \\times \\vec{n}\\\\\n",
    "\\left(\\vec{H}_{\\textrm{above}} - \\vec{H}_{\\textrm{below}}\\right) &= \\vec{K}_{f} \\times \\vec{n}\n",
    "\\end{align*}"
   ]
  },
  {
   "cell_type": "markdown",
   "metadata": {},
   "source": [
    "Then, we have the following boundnary conditions:\n",
    "    \\begin{align*}\n",
    "    \\vec{B}_{\\textrm{below}} - \\vec{B}_{\\textrm{below}} &= \\mu_{0}\\vec{K} \\times \\vec{e}_{n} \\\\\n",
    "    \\left(\\vec{H}_{\\textrm{above}} - \\vec{H}_{\\textrm{below}}\\right) &= \\vec{K}_{f} \\times \\vec{n}\n",
    "    \\end{align*}"
   ]
  },
  {
   "cell_type": "markdown",
   "metadata": {},
   "source": [
    "Boundary conditions for $\\vec{H}$ can be more useful as $\\vec{H}$ can be measured in the lab. We don't always know $\\vec{M}(\\vec{J}_{B},\\vec{K}_{b})$"
   ]
  },
  {
   "cell_type": "markdown",
   "metadata": {},
   "source": [
    "## Magnetic Susceptibility & Permeability"
   ]
  },
  {
   "cell_type": "markdown",
   "metadata": {},
   "source": [
    "For most substances, induced magnetisation $\\vec{M}$ proportional to applied field:\n",
    "    $$\n",
    "    \\vec{M} = \\chi_{m}\\vec{H}\n",
    "    $$\n",
    "With $\\chi_{m}$ magnetic susceptibility"
   ]
  },
  {
   "cell_type": "markdown",
   "metadata": {},
   "source": [
    "We have the following conditions for $\\chi_{m}$: \n",
    "    \\begin{align*}\n",
    "    \\chi_{m} &> 0~\\textrm{Paramagnetic}\\\\\n",
    "    \\chi_{m} &< 0~\\textrm{Diamagnetic}\n",
    "    \\end{align*}"
   ]
  },
  {
   "cell_type": "markdown",
   "metadata": {},
   "source": [
    "We have defined: $\\vec{H} \\equiv = \\frac{1}{\\mu_{0}}\\vec{B} - \\vec{M}$\n",
    "\\begin{align*}\n",
    "\\vec{B} = \\mu_{0}\\left(\\vec{H} + \\vec{M}\\right) &= \\mu_{0}\\left(\\vec{H} + \\chi_{m}\\vec{H}\\right)\\\\\n",
    "&= \\mu_{0}(1 +\\chi_{m})\\vec{H}\n",
    "\\end{align*}\n",
    "Define now $\\mu \\equiv \\mu_{0}(1 + \\chi_{m})$ (permeability)\\\n",
    "$$\n",
    "\\vec{B} = \\mu \\vec{H}\n",
    "$$"
   ]
  },
  {
   "cell_type": "markdown",
   "metadata": {},
   "source": [
    "Recall from electrostatics:"
   ]
  },
  {
   "cell_type": "markdown",
   "metadata": {},
   "source": [
    "\\begin{align*}\n",
    "    \\vec{P} &= \\epsilon_{0}\\chi_{e}\\vec{E}\\\\\n",
    "    \\vec{D} &= \\epsilon_{0}\\vec{E} + \\vec{P}\\\\\n",
    "    \\vec{D} &= \\epsilon_{0}(1 + \\chi_{e})\\vec{E}\n",
    "\\end{align*}\n",
    "Defined $\\epsilon \\equiv \\epsilon_{0}(1 + \\chi_{e})\n",
    "$$\n",
    "\\vec{D} = \\epsilon \\vec{E}\n",
    "$$"
   ]
  },
  {
   "cell_type": "markdown",
   "metadata": {},
   "source": [
    "What does this mean?\\\n",
    "If we can measure $\\vec{H}$ and know $\\chi_{m}$ we can find the magnetic field $\\vec{B}$ without knowing the bound current $\\vec{J}_{b}$ and bound surface current $\\vec{K}_{b}$"
   ]
  },
  {
   "cell_type": "markdown",
   "metadata": {},
   "source": [
    "Looking back at our copper wire example:"
   ]
  },
  {
   "cell_type": "markdown",
   "metadata": {},
   "source": [
    "#### Inside"
   ]
  },
  {
   "cell_type": "markdown",
   "metadata": {},
   "source": [
    "$$\n",
    "\\vec{H} = \\frac{I_{f}}{2 \\pi R^{2}}\\rho \\vec{e}_{\\phi} \\Rightarrow \\vec{B} =\\frac{\\mu I_{f}}{2 \\pi R^{2}}\\rho \\vec{e_{\\phi}}\n",
    "$$"
   ]
  },
  {
   "cell_type": "markdown",
   "metadata": {},
   "source": [
    "#### Example: Solenoid "
   ]
  },
  {
   "cell_type": "markdown",
   "metadata": {},
   "source": [
    "A solenoid with $n$ turns per unit length carrying current $I$ and filled linear magnetic material with susceptibility $\\chi_{m}$"
   ]
  },
  {
   "cell_type": "markdown",
   "metadata": {},
   "source": [
    "We aim to find $\\vec{B}$ inside the solenoid."
   ]
  },
  {
   "cell_type": "markdown",
   "metadata": {},
   "source": [
    "![Example6.4](Figures/Electro6.4.png)"
   ]
  },
  {
   "cell_type": "markdown",
   "metadata": {},
   "source": [
    "Amperes Law\n",
    "\\begin{align*}\n",
    "\\oint \\vec{H} d\\vec{l} &= I_{f,\\textrm{enc}}\\\\\n",
    "H \\cdot l &= n \\cdot l \\cdot I\\\\\n",
    "\\vec{H} &= n \\cdot I \\vec{e}_{z}\n",
    "\\end{align*}"
   ]
  },
  {
   "cell_type": "markdown",
   "metadata": {},
   "source": [
    "$$\n",
    "\\vec{B} = \\mu_{0}(\\vec{H} + \\vec{M}) = \\mu_{0}(1 + \\chi_{m})\\vec{H}\n",
    "$$\n",
    "Since $\\vec{M} = \\chi_{m}\\vec{H}$"
   ]
  },
  {
   "cell_type": "markdown",
   "metadata": {},
   "source": [
    "$$\n",
    "\\begin{align*}\n",
    "    \\vec{B} &= \\mu_{0}(1 + \\chi_{m})\\vec{H}\\\\\n",
    "    &= \\mu_{0}(1 + \\chi_{m})n I \\vec{e}_{z}\n",
    "\\end{align*}\n",
    "$$"
   ]
  },
  {
   "cell_type": "markdown",
   "metadata": {},
   "source": [
    "Paramagnetic: $\\chi_{m} > 0 \\Rightarrow \\vec{B}$ is slightly enchanced\\\n",
    "Diamagnetic: $\\chi_{m} < 0 \\Rightarrow \\vec{B}$ is slightly reduced"
   ]
  },
  {
   "cell_type": "markdown",
   "metadata": {},
   "source": [
    "Difference corresponds to different direction of bound current on the solenoid surface.\n",
    "$$\n",
    "\\begin{align*}\n",
    "\\vec{K}_{b} &= \\vec{M} \\times \\vec{e}_{n}\\\\\n",
    "            &= \\chi_{m}\\vec{H} \\times \\vec{e}_{n}\\\\\n",
    "            &= \\chi_{m}n I \\vec{e}_{z} \\times \\vec{e}_{n}\\\\\n",
    "            &= \\chi_{m}n I \\vec{e}_{\\phi}\n",
    "\\end{align*}\n",
    "$$\n",
    "Then we have\n",
    "$$\n",
    "\\chi_{m} > 0 ~\\textrm{then}~\\vec{K}_{b} \\parallel \\vec{I}\n",
    "$$\n",
    "or\n",
    "$$\n",
    "\\chi_{m} < 0 ~ \\textrm{then}~\\vec{K}_{b}~\\textrm{opposite to}~\\vec{I}\n",
    "$$"
   ]
  },
  {
   "cell_type": "markdown",
   "metadata": {},
   "source": [
    "This concludes magnetic fields in matter."
   ]
  }
 ],
 "metadata": {
  "kernelspec": {
   "display_name": "Python 3",
   "language": "python",
   "name": "python3"
  },
  "language_info": {
   "codemirror_mode": {
    "name": "ipython",
    "version": 3
   },
   "file_extension": ".py",
   "mimetype": "text/x-python",
   "name": "python",
   "nbconvert_exporter": "python",
   "pygments_lexer": "ipython3",
   "version": "3.8.3"
  }
 },
 "nbformat": 4,
 "nbformat_minor": 4
}
