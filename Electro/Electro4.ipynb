{
 "cells": [
  {
   "cell_type": "markdown",
   "metadata": {},
   "source": [
    "Electrodynamics II - Lecture 4"
   ]
  },
  {
   "cell_type": "markdown",
   "metadata": {},
   "source": [
    "## Multipole Expansion Vector Potential"
   ]
  },
  {
   "cell_type": "markdown",
   "metadata": {},
   "source": [
    "$$\n",
    "\\vec{A}_{dip} = \\frac{\\mu_{0}}{4\\pi}\\frac{\\vec{m} \\times \\vec{e}_{r}}{r^{2}}\n",
    "$$\n",
    "where $\\vec{m}$ is the magnetic dipole moment, with $\\vec{m} = I \\int d\\vec{a'} = I a\\vec{e}_{n}$ "
   ]
  },
  {
   "cell_type": "markdown",
   "metadata": {},
   "source": [
    "![Magnetic Dipole](Figures/Electro4.1.png)"
   ]
  },
  {
   "cell_type": "markdown",
   "metadata": {},
   "source": [
    "#### Comparison between a pure magnetic dipole (left) and a physical magnetic dipole (right)"
   ]
  },
  {
   "cell_type": "markdown",
   "metadata": {},
   "source": [
    "![Magnetic Dipole Diagram](Figures/Electro4.2.png)"
   ]
  },
  {
   "cell_type": "markdown",
   "metadata": {},
   "source": [
    "#### Comparison between a pure electric dipole (left) and a physical electric dipole (right)"
   ]
  },
  {
   "cell_type": "markdown",
   "metadata": {},
   "source": [
    "![Magnetic Dipole Diagram](Figures/Electro4.3.png)"
   ]
  },
  {
   "cell_type": "markdown",
   "metadata": {},
   "source": [
    "#### Summary of Electro and Magnetostatic Formulae"
   ]
  },
  {
   "cell_type": "markdown",
   "metadata": {},
   "source": [
    "![Summary](Figures/Electro4.4.png)"
   ]
  },
  {
   "cell_type": "markdown",
   "metadata": {},
   "source": [
    "## Magnetic Fields in Matter\n"
   ]
  },
  {
   "cell_type": "markdown",
   "metadata": {},
   "source": [
    "Recall: Energy $W$ for an electrostatic dipole $\\vec{p}$ in electric field $\\vec{E}$ can be written as"
   ]
  },
  {
   "cell_type": "markdown",
   "metadata": {},
   "source": [
    "$$\n",
    "W = - \\vec{p} \\cdot \\vec{E}\n",
    "$$\n",
    "The dipole tends to align with the electric field"
   ]
  },
  {
   "cell_type": "markdown",
   "metadata": {},
   "source": [
    "Solid matter is made up of atoms which contain electrons, the local flow of these electrons produce a small magnetic moment $\\vec{m}$ associated with atom."
   ]
  },
  {
   "cell_type": "markdown",
   "metadata": {},
   "source": [
    "We can then see how magnetic moments $\\vec{m}$ respond to applied magnetic field $\\vec{B}$, we will assume the following magnetic field $\\vec{B} \\parallel \\vec{z}$ and treat the magnetic moment $\\vec{m}$ as a small rectangular current loop."
   ]
  },
  {
   "cell_type": "markdown",
   "metadata": {},
   "source": [
    "![Summary](Figures/Electro4.5.png)"
   ]
  },
  {
   "cell_type": "markdown",
   "metadata": {},
   "source": [
    "#### How do magnetic moments $\\vec{m}$ respond to an applied magnetic field $\\vec{B}$"
   ]
  },
  {
   "cell_type": "markdown",
   "metadata": {},
   "source": [
    "We want to calculate the force $\\vec{F}$ and torque $\\vec{N}$. First we will start with the force,\n",
    "$$\n",
    "\\vec{F} = q\\left(\\vec{v} \\times \\vec{B}\\right)\n",
    "$$"
   ]
  },
  {
   "cell_type": "markdown",
   "metadata": {},
   "source": [
    "We can next look at the current $I$ going around the loop,\n",
    "$$\n",
    "I = N \\cdot e \\cdot v\n",
    "$$\n",
    "where $N$ is the charge per unit length, $e$ is the electron charge and $v$ is the velocity of the electron."
   ]
  },
  {
   "cell_type": "markdown",
   "metadata": {},
   "source": [
    "The total charge $q$ in the small line segment $dl$ is $q = N \\cdot e \\cdot dl$, rearranging for $q \\cdot v$ we see $q \\cdot v = N \\cdot e \\cdot dl  = I \\cdot dl$. Substiting this in the above equation for the force we now get $$\n",
    "\\vec{F} = I \\left(d\\vec{l} \\times \\vec{B} \\right)\n",
    "$$"
   ]
  },
  {
   "cell_type": "markdown",
   "metadata": {},
   "source": [
    "![Forces](Figures/Electro4.6.png)"
   ]
  },
  {
   "cell_type": "markdown",
   "metadata": {},
   "source": [
    "The forces on the yellow sides are equal and opposite meaning they will stretch the loop but will not cause any rotation.\\\n",
    "The forces on the green sides are also equal and opposite however, they will generate a torque\n",
    "\\begin{align*}\n",
    "\\vec{N} &= \\vec{r} \\times \\vec{F}\\\\\n",
    "\\vec{N} &= aF \\sin(\\theta)\\vec{e}_{x}\n",
    "\\end{align*}\n",
    "The magnitude of the force on each segment is then $F = IbB$"
   ]
  },
  {
   "cell_type": "markdown",
   "metadata": {},
   "source": [
    "Subsituting this into our torque equation we then get $\\vec{N} = IabB \\sin (\\theta)\\vec{e}_{x}$"
   ]
  },
  {
   "cell_type": "markdown",
   "metadata": {},
   "source": [
    "Recall that $\\vec{m} = I \\int d\\vec{a} = I \\cdot (\\textrm{area}) \\cdot \\vec{e}_{n}$"
   ]
  },
  {
   "cell_type": "markdown",
   "metadata": {},
   "source": [
    "Therefore we can write $\\vec{N} = mB \\sin \\theta \\vec{e}_{x}$ or $\\vec{N} = \\vec{m} \\times \\vec{B}$"
   ]
  },
  {
   "cell_type": "markdown",
   "metadata": {},
   "source": [
    "Notice that $\\vec{N} = \\vec{m} \\times \\vec{B}$ is exactly analogous to the electric dipole $\\vec{p}$ in electric field $\\vec{E}$\n",
    "$$\n",
    "\\vec{N} = \\vec{p} \\times \\vec{E}\n",
    "$$"
   ]
  },
  {
   "cell_type": "markdown",
   "metadata": {},
   "source": [
    "Energy for electric dipole $\\vec{p}$ in electric field $\\vec{E}$ such that $W = -\\vec{p} \\cdot \\vec{E}$"
   ]
  },
  {
   "cell_type": "markdown",
   "metadata": {},
   "source": [
    "Energy for magnetic dipole $\\vec{p}$ in electric field $\\vec{B}$ such that  $W = -\\vec{m} \\cdot \\vec{B}$"
   ]
  },
  {
   "cell_type": "markdown",
   "metadata": {},
   "source": [
    "Magnetic dipoles tend to align with the applied magnetic field $\\vec{B}$"
   ]
  },
  {
   "cell_type": "markdown",
   "metadata": {},
   "source": [
    "#### Uniform magnetic field "
   ]
  },
  {
   "cell_type": "markdown",
   "metadata": {},
   "source": [
    "$$\n",
    "\\vec{F} = I \\oint d\\vec{l} \\times \\vec{B} = I \\underbrace{\\left(\\oint d\\vec{l}\\right)}_{\\textrm{Closed loop $\\to$ 0}}\\times\\vec{B} = \\vec{0}\n",
    "$$"
   ]
  },
  {
   "cell_type": "markdown",
   "metadata": {},
   "source": [
    "#### Non-uniform magnetic field\n"
   ]
  },
  {
   "cell_type": "markdown",
   "metadata": {},
   "source": [
    "![NonUniformB](Figures/Electro4.7.png)"
   ]
  },
  {
   "cell_type": "markdown",
   "metadata": {},
   "source": [
    "Consider a current carrying circular wire suspended above a short solenoid, the wire sits in teh frining region of a magnetic field $vec{B}$.\\\n",
    "We will look at the force on two opposite elements on the loop."
   ]
  },
  {
   "cell_type": "markdown",
   "metadata": {},
   "source": [
    "![NonUniformB](Figures/Electro4.8.png)"
   ]
  },
  {
   "cell_type": "markdown",
   "metadata": {},
   "source": [
    "$\\vec{B}$ has a radial component $\\vec{B}_{\\textrm{rad}} = B \\cos (\\theta) \\vec{e}_{x}$ which acts downwards on the wire."
   ]
  },
  {
   "cell_type": "markdown",
   "metadata": {},
   "source": [
    "The Force is then $$\\begin{align*} dF_{z} &= I \\cdot d \\vec{l} \\times \\vec{B}_{\\textrm{rad}}\\\\\n",
    "&= I \\cdot dl \\cdot B \\cos (\\theta)\\\\\n",
    "F_{z} &= I \\cdot 2 \\pi R \\cdot B \\cos (\\theta)\\end{align*}$$"
   ]
  },
  {
   "cell_type": "markdown",
   "metadata": {},
   "source": [
    "The Force becomes directed towards regions of the larger magnetic field $\\vec{B}$"
   ]
  },
  {
   "cell_type": "markdown",
   "metadata": {},
   "source": [
    "We can look at this through a classical framework, we then define Force as being the negative graident of potential energy."
   ]
  },
  {
   "cell_type": "markdown",
   "metadata": {},
   "source": [
    "$$\n",
    "\\vec{F} = - \\nabla W = \\nabla \\left(\\vec{m} \\cdot \\vec{B} \\right)\n",
    "$$"
   ]
  },
  {
   "cell_type": "markdown",
   "metadata": {},
   "source": [
    "$$\n",
    "\\vec{F} = \\left(\\begin{matrix} \\frac{\\partial}{\\partial x} \\\\ \n",
    "\\frac{\\partial}{\\partial y} \\\\\n",
    "\\frac{\\partial}{\\partial z} \\\\\n",
    "\\end{matrix}\\right)\\left(m_{x}B_{x} + m_{y}B_{y} + m_{z}B_{z}\\right) = \\left(\\begin{matrix} \\frac{\\partial}{\\partial x} \\left(m_{x}B_{x} + m_{y}B_{y} + m_{z}B_{z}\\right)\\\\ \n",
    "\\frac{\\partial}{\\partial y}\\left(m_{x}B_{x} + m_{y}B_{y} + m_{z}B_{z}\\right) \\\\\n",
    "\\frac{\\partial}{\\partial z}\\left(m_{x}B_{x} + m_{y}B_{y} + m_{z}B_{z}\\right) \\\\\n",
    "\\end{matrix}\\right)\n",
    "$$"
   ]
  },
  {
   "cell_type": "markdown",
   "metadata": {},
   "source": [
    "In the case of a uniform magnetic field we get the following"
   ]
  },
  {
   "cell_type": "markdown",
   "metadata": {},
   "source": [
    "$$\n",
    "\\frac{\\partial}{\\partial x}\\vec{B} = \\frac{\\partial}{\\partial y}\\vec{B} = \\frac{\\partial}{\\partial z}\\vec{B} = \\vec{0} \\Rightarrow \\vec{F} = \\vec{0}\n",
    "$$"
   ]
  },
  {
   "cell_type": "markdown",
   "metadata": {},
   "source": [
    "## Effect of a magnetic field $\\vec{B}$ on Atomic Orbits"
   ]
  },
  {
   "cell_type": "markdown",
   "metadata": {},
   "source": [
    "![Electro4.9](Figures/Electro4.9.png)"
   ]
  },
  {
   "cell_type": "markdown",
   "metadata": {},
   "source": [
    "Consider the above situtation which shows an electron $-e$ moving with velocity $v$ in a circular orbit of radius $R$.\\\n",
    "The corresponding current is then $I = -\\frac{e}{2\\pi R}v$"
   ]
  },
  {
   "cell_type": "markdown",
   "metadata": {},
   "source": [
    "Recall $\\vec{m} = I \\int d\\vec{a} = I \\cdot (\\textrm{area}) \\cdot \\vec{e}_{n}$"
   ]
  },
  {
   "cell_type": "markdown",
   "metadata": {},
   "source": [
    "$$\n",
    "\\vec{m} = I \\pi R^{2}\\vec{e}_{z} = -\\frac{1}{2} e R v \\vec{e}_{z}\n",
    "$$\n",
    "In a classical model in the absence of a magnetic field $\\vec{B}$, the electrostatic force is a centripetal force:\n",
    "    $$\n",
    "    \\frac{e^{2}}{4 \\pi \\epsilon_{0}R^{2}} = m_{e}\\frac{v^{2}}{R}\n",
    "    $$"
   ]
  },
  {
   "cell_type": "markdown",
   "metadata": {},
   "source": [
    "#### Introducing a magnetic field"
   ]
  },
  {
   "cell_type": "markdown",
   "metadata": {},
   "source": [
    "![Electro4.10](Figures/Electro4.10.png)"
   ]
  },
  {
   "cell_type": "markdown",
   "metadata": {},
   "source": [
    "We introduce an additional force (the magnetic force $\\vec{B}$), and we assume that this field runs parallel to the $z$-axis $(\\vec{B} \\parallel \\vec{z}$)"
   ]
  },
  {
   "cell_type": "markdown",
   "metadata": {},
   "source": [
    "This force $evB$ is felt towards the centre of the loop."
   ]
  },
  {
   "cell_type": "markdown",
   "metadata": {},
   "source": [
    "$$\n",
    "\\frac{e^{2}}{4 \\pi \\epsilon_{0}R^{2}} + e \\tilde{v}B= m_{e}\\frac{v^{2}}{R}\n",
    "$$"
   ]
  },
  {
   "cell_type": "markdown",
   "metadata": {},
   "source": [
    "Let's aim to determine this new speed $\\tilde{v}$"
   ]
  },
  {
   "cell_type": "markdown",
   "metadata": {},
   "source": [
    "\\begin{align*}\n",
    "e\\tilde{v}B = \\frac{m_{e}}{R}(\\tilde{v}^{2}-v^{2}) = \\frac{m_{e}}{R}(\\tilde{v} + v)(\\tilde{v} - v)\n",
    "\\end{align*}"
   ]
  },
  {
   "cell_type": "markdown",
   "metadata": {},
   "source": [
    "Assuming the difference between the $v$ and $\\tilde{v}$ is small $(\\Delta v = \\tilde{v} - v)$, we can say that $\\tilde{v} + v \\approx 2\\tilde{v}$"
   ]
  },
  {
   "cell_type": "markdown",
   "metadata": {},
   "source": [
    "\\begin{align*}\n",
    "e\\tilde{v}B = \\frac{m_{e}}{R}(\\tilde{v}^{2}-v^{2}) &= \\frac{m_{e}}{R}(\\tilde{v} + v)(\\tilde{v} - v)\\\\\n",
    "e\\tilde{v}B &= \\frac{m_{e}}{R}(2\\tilde{v})(\\Delta v )\\\\\n",
    "\\Delta v &\\approx \\frac{eRB}{2m_{e}}\n",
    "\\end{align*}"
   ]
  },
  {
   "cell_type": "markdown",
   "metadata": {},
   "source": [
    "The change in the magnetic moment $\\Delta \\vec{m} = -\\frac{1}{2}e(\\Delta v)R\\vec{z} \\approx = -\\frac{e^{2}R^{2}}{4m_{e}}\\vec{B}$"
   ]
  },
  {
   "cell_type": "markdown",
   "metadata": {},
   "source": [
    "The change in the magnetic moment is oppopsite to the direction of the magnetic field $\\vec{B}$.\\\n",
    "Normally the electron obits are randomly oriented and the orbital dipole moments ultimatelly cancel however, with $\\vec{B}$ each atom gains an \"extra\" dipole moment\\\n",
    "These increments are all antiparallel the magnetic field $\\vec{B}$ and is known as Diamagnetism (orbits repelled by the magnetic field). \\\n",
    "If the magnetic moments tend to align with $\\vec{B}$, we get Paramagnetism."
   ]
  },
  {
   "cell_type": "code",
   "execution_count": null,
   "metadata": {},
   "outputs": [],
   "source": []
  }
 ],
 "metadata": {
  "kernelspec": {
   "display_name": "Python 3",
   "language": "python",
   "name": "python3"
  },
  "language_info": {
   "codemirror_mode": {
    "name": "ipython",
    "version": 3
   },
   "file_extension": ".py",
   "mimetype": "text/x-python",
   "name": "python",
   "nbconvert_exporter": "python",
   "pygments_lexer": "ipython3",
   "version": "3.8.3"
  }
 },
 "nbformat": 4,
 "nbformat_minor": 4
}
