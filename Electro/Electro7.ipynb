{
 "cells": [
  {
   "cell_type": "markdown",
   "metadata": {},
   "source": [
    "Electrodynamics: Lecture 7"
   ]
  },
  {
   "cell_type": "markdown",
   "metadata": {},
   "source": [
    "## Electromotive force (emf)"
   ]
  },
  {
   "cell_type": "markdown",
   "metadata": {},
   "source": [
    "For most materials\n",
    "$$\n",
    "\\vec{J} = \\sigma \\vec{f}\n",
    "$$\n",
    "Where:\\\n",
    "    $\\vec{J}$ : Current density\\\n",
    "    $\\sigma$ : Conductivity\\\n",
    "    $\\vec{f}$ : Force per unit charge"
   ]
  },
  {
   "cell_type": "markdown",
   "metadata": {},
   "source": [
    "If force due to $\\vec{E}$ and $\\vec{B}$ fields\n",
    "$$\n",
    "\\vec{J} = \\sigma(\\vec{E} + \\vec{\\nu} \\times \\vec{B})\n",
    "$$"
   ]
  },
  {
   "cell_type": "markdown",
   "metadata": {},
   "source": [
    "Ordinarily $\\nu$ sufficiently small: $$\\vec{J} = \\sigma \\vec{E}~~~\\textrm{  Ohm's Law}$$"
   ]
  },
  {
   "cell_type": "markdown",
   "metadata": {},
   "source": [
    "Work done per unit charge moved around a circuit\n",
    "$$\n",
    "\\oint \\vec{f} d\\vec{l} = \\mathcal{E}\n",
    "$$"
   ]
  },
  {
   "cell_type": "markdown",
   "metadata": {},
   "source": [
    "This is referred to as the electromotive force (emf) of the circuit. This is not a force, but work done by the force per unit charge (equivalent to a voltage)"
   ]
  },
  {
   "cell_type": "markdown",
   "metadata": {},
   "source": [
    "#### Motional emf"
   ]
  },
  {
   "cell_type": "markdown",
   "metadata": {},
   "source": [
    "There are several possible sources of electromotice forces for example batteries. However, one of the most common is the generator. Generators exploit motional emf which arises when you move a wire through a magnetic field."
   ]
  },
  {
   "cell_type": "markdown",
   "metadata": {},
   "source": [
    "![Electro7.1](Figures/Electro7.1.png)"
   ]
  },
  {
   "cell_type": "markdown",
   "metadata": {},
   "source": [
    "The grey box represents a magnetic field $\\vec{B}$ that is directed into the page/screen."
   ]
  },
  {
   "cell_type": "markdown",
   "metadata": {},
   "source": [
    "Conduction electrons feel a Lorentz force which may result in movement along the wire (an electric current)."
   ]
  },
  {
   "cell_type": "markdown",
   "metadata": {},
   "source": [
    "Electrons in the wire that are in the magnetic field $\\vec{B}$ feel a Lorentz force $e\\nu  B$ downwards."
   ]
  },
  {
   "cell_type": "markdown",
   "metadata": {},
   "source": [
    "Electrons in the segements $b-c$ and $a-d$ are not able to respond."
   ]
  },
  {
   "cell_type": "markdown",
   "metadata": {},
   "source": [
    "Electrons in the segment $a-b$ move downwards, which causes a current directing upwards moving clockwise around the loop."
   ]
  },
  {
   "cell_type": "markdown",
   "metadata": {},
   "source": [
    "The associated emf is then:\n",
    "    \\begin{align*}\n",
    "    \\mathcal{E} &= \\oint \\vec{f}_{mag}d\\vec{l}\\\\\n",
    "    &= \\nu B h\\\\\n",
    "    &= -\\frac{dx}{dt}Bh\\\\\n",
    "    &= - \\frac{d}{dt}\\underline{(Bxh)}_{\\textrm{magnetic flux $\\Phi$}}\\\\\n",
    "    \\mathcal{E} &= -\\frac{d\\Phi}{dt}\n",
    "    \\end{align*}"
   ]
  },
  {
   "cell_type": "markdown",
   "metadata": {},
   "source": [
    "Then, the electromotive force $\\mathcal{E}$ is defined to be the negative rate of change of magnetic flux through a loop."
   ]
  },
  {
   "cell_type": "markdown",
   "metadata": {},
   "source": [
    "#### Faraday's 3 experiments"
   ]
  },
  {
   "cell_type": "markdown",
   "metadata": {},
   "source": [
    "![Electro7.2](Figures/Electro7.2.png)"
   ]
  },
  {
   "cell_type": "markdown",
   "metadata": {},
   "source": [
    "$(a)$ He pulled a loop of wire to the right through a magnetic fiel. A current flowed in the loop."
   ]
  },
  {
   "cell_type": "markdown",
   "metadata": {},
   "source": [
    "$(b)$ He moved the magneet to the left, holding the loop still. Again, a current flowed in the loop."
   ]
  },
  {
   "cell_type": "markdown",
   "metadata": {},
   "source": [
    "$(c)$ With both the loop and the magnet at rest, he changed the strength of the field and once again current flowed in the loop."
   ]
  },
  {
   "cell_type": "markdown",
   "metadata": {},
   "source": [
    "Faradays deduction: A changing $\\vec{B}$ field induces an $\\vec{E}$ field."
   ]
  },
  {
   "cell_type": "markdown",
   "metadata": {},
   "source": [
    "Recall that we can define the electromotive force in two ways:\n",
    "    $$\n",
    "    \\mathcal{E} = \\oint \\vec{f}d\\vec{l}\n",
    "    $$\n",
    "    and\n",
    "    $$\n",
    "    \\mathcal{E} = -\\frac{d\\Phi}{dt}\n",
    "    $$"
   ]
  },
  {
   "cell_type": "markdown",
   "metadata": {},
   "source": [
    "We can rewrite the magnetic flux $\\Phi$ as $\\Phi = \\int \\vec{B}d\\vec{a}$"
   ]
  },
  {
   "cell_type": "markdown",
   "metadata": {},
   "source": [
    "If this induced electric field $\\vec{E}$ causes the electromotive force $\\mathcal{E}$, and this is equal to the negative rate of change of magnetic flux $-\\frac{d\\Phi}{dt}$, then:"
   ]
  },
  {
   "cell_type": "markdown",
   "metadata": {},
   "source": [
    "\\begin{align*}\n",
    "\\mathcal{E} &= \\oint \\vec{E} d\\vec{l}\\\\\n",
    "&= -\\frac{d\\Phi}{dt}\\\\\n",
    "&= -\\frac{d}{dt}\\int \\vec{B}d\\vec{a}\\\\\n",
    "\\\\\n",
    "\\oint \\vec{E} d\\vec{l} &= -\\int \\frac{\\partial B}{\\partial t}d\\vec{a}\\\\\n",
    "\\textrm{Using Stoke's Theorem gives}\\\\\n",
    "\\int (\\vec{\\nabla} \\times \\vec{E}) d\\vec{a} &= - \\int \\frac{\\partial B}{\\partial t}d\\vec{a}\n",
    "\\end{align*}"
   ]
  },
  {
   "cell_type": "markdown",
   "metadata": {},
   "source": [
    "Which gives us Faraday's Law\n",
    "$$\n",
    "\\vec{\\nabla} \\times \\vec{E}(\\vec{r},t) = -\\frac{\\partial B(\\vec{r},t)}{\\partial t}\n",
    "$$"
   ]
  },
  {
   "cell_type": "markdown",
   "metadata": {},
   "source": [
    "#### Jumping Ring Experiment"
   ]
  },
  {
   "cell_type": "markdown",
   "metadata": {},
   "source": [
    "![Electro7.3](Figures/Electro7.3.png)"
   ]
  },
  {
   "cell_type": "markdown",
   "metadata": {},
   "source": [
    "Consider a metal ring of radius $a$ sitting above a solenoid. When the solenoid is plugged in and current flows, the ring flies upwards. Why?"
   ]
  },
  {
   "cell_type": "markdown",
   "metadata": {},
   "source": [
    "Let's look at the electric field $\\vec{E}$ that is induced in the ring when the current in the solenoid is turned on:"
   ]
  },
  {
   "cell_type": "markdown",
   "metadata": {},
   "source": [
    "\\begin{align*}\n",
    "    \\oint \\vec{E} d\\vec{l} &= -\\frac{d\\Phi}{dt} = -\\frac{d}{dt}(\\pi a^{2}~B(t))\\\\\n",
    "    E \\cdot (2\\pi a) &= - \\pi a^{a}\\frac{dB}{dt}\\\\\n",
    "    E &= -\\frac{a}{2}\\frac{dB}{dt}\n",
    "\\end{align*}"
   ]
  },
  {
   "cell_type": "markdown",
   "metadata": {},
   "source": [
    "Direction of $\\vec{E}$ should be such that the induced current opposes the change in the flux. If the ring above the top of the solenoid will generate a downward flux, ssuch that the current $I$ and electric field $\\vec{E}$ are clockwise when viewed from above. The Opposite currents will repel."
   ]
  },
  {
   "cell_type": "markdown",
   "metadata": {},
   "source": [
    "#### Fields inside and outsside the solenoid"
   ]
  },
  {
   "cell_type": "markdown",
   "metadata": {},
   "source": [
    "#### Inside"
   ]
  },
  {
   "cell_type": "markdown",
   "metadata": {},
   "source": [
    "Draw an Amperian loop inside the region of radius $s$\n",
    "\\begin{align*}\n",
    "\\oint \\vec{E} d\\vec{l} &= -\\frac{d\\Phi}{dt} = -\\frac{d}{dt}(\\pi s^{2}~B(t))\\\\\n",
    "E(2\\pi s) &= - \\pi s^{2}\\frac{dB}{dt}\\\\\n",
    "E &= - \\frac{s}{2}\\frac{dB}{dt}\n",
    "\\end{align*}"
   ]
  },
  {
   "cell_type": "markdown",
   "metadata": {},
   "source": [
    "#### Outside"
   ]
  },
  {
   "cell_type": "markdown",
   "metadata": {},
   "source": [
    "Draw an Amperian loop outside the reigion of radius $s$"
   ]
  },
  {
   "cell_type": "markdown",
   "metadata": {},
   "source": [
    "\\begin{align*}\n",
    "\\oint \\vec{E}d\\vec{l} &= E(2\\pi s)\\\\\n",
    "&= -\\frac{d\\Phi}{dt}\\\\\n",
    "&= \\frac{d}{dt}\\int \\vec{B}d\\vec{a}\\\\\n",
    "&= - \\pi a^{2}\\frac{dB}{dt}\\\\\n",
    "E &= -\\frac{a^{2}}{2s}\\frac{dB}{dt}\n",
    "\\end{align*}"
   ]
  },
  {
   "cell_type": "markdown",
   "metadata": {},
   "source": [
    "![Electro7.4](Figures/Electro7.4.png)"
   ]
  },
  {
   "cell_type": "markdown",
   "metadata": {},
   "source": [
    "Inside $E = -\\frac{s}{2}\\frac{dB}{dt}$"
   ]
  },
  {
   "cell_type": "markdown",
   "metadata": {},
   "source": [
    "Outside $E = -\\frac{a^{2}}{2s}\\frac{dB}{dt}$"
   ]
  },
  {
   "cell_type": "markdown",
   "metadata": {},
   "source": [
    "If $\\frac{dB}{dt} > 0$, $\\vec{E}$ is clockwise when viewed from above."
   ]
  },
  {
   "cell_type": "markdown",
   "metadata": {},
   "source": [
    "If $\\frac{dB}{dt} < 0$, $\\vec{E}$ is anti-clockwise when viewed from above."
   ]
  },
  {
   "cell_type": "markdown",
   "metadata": {},
   "source": [
    "How can we see an induced electric field $\\vec{E}$ outside of the loop even though the magnetic field $\\vec{B}$ is zero? This is due to $\\vec{\\nabla} \\times \\vec{E} = -\\frac{\\partial B}{\\partial t} = 0$"
   ]
  }
 ],
 "metadata": {
  "kernelspec": {
   "display_name": "Python 3",
   "language": "python",
   "name": "python3"
  },
  "language_info": {
   "codemirror_mode": {
    "name": "ipython",
    "version": 3
   },
   "file_extension": ".py",
   "mimetype": "text/x-python",
   "name": "python",
   "nbconvert_exporter": "python",
   "pygments_lexer": "ipython3",
   "version": "3.8.3"
  }
 },
 "nbformat": 4,
 "nbformat_minor": 4
}
