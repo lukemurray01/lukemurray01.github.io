{
 "cells": [
  {
   "cell_type": "markdown",
   "metadata": {},
   "source": [
    "Electrodynamics Lecture 8"
   ]
  },
  {
   "cell_type": "markdown",
   "metadata": {},
   "source": [
    "### Inductance"
   ]
  },
  {
   "cell_type": "markdown",
   "metadata": {},
   "source": [
    "If we have 2 loops (loop 1 and loop 2) of a conducting material and run a current through one of the loops (say loop 1) then we will generate a magnetic field $\\vec{B}_{1}$ and will in turn cause some magnetic flux through loop 2.\\\n",
    "The strenght of $\\vec{B}_{1}$ (and therefore the flux through loop 2, $\\Phi_{2}$) will scale with the electric current $I_{1}$ through loop 1.\\\n",
    "The only other parameter which will influence the flux in the second loop $\\Phi_{2}$ will be the mutual geometry of the loops (size, shape, orientation etc)."
   ]
  },
  {
   "cell_type": "markdown",
   "metadata": {},
   "source": [
    "![Electro8.1](Figures/Electro8.1.png)"
   ]
  },
  {
   "cell_type": "markdown",
   "metadata": {},
   "source": [
    "Looking at the Biot-Savart Law\n",
    "$$\n",
    "\\vec{B}_{1} = \\frac{\\mu_{0}}{4\\pi}I_{1}\\oint \\frac{d\\vec{l} \\times \\vec{e}_{\\vec{r}-\\vec{r}'}}{\\mid \\vec{r} - \\vec{r}' \\mid}\n",
    "$$"
   ]
  },
  {
   "cell_type": "markdown",
   "metadata": {},
   "source": [
    "Now looking at the magnetic flux through the area of the second loop\n",
    "$$\n",
    "\\Phi_{2} = \\int \\vec{B}_{1}d\\vec{a}_{2} \\propto I_{1}\n",
    "$$"
   ]
  },
  {
   "cell_type": "markdown",
   "metadata": {},
   "source": [
    "Therefore\n",
    "$$\n",
    "\\Phi_{2} = M_{21}I_{1}\n",
    "$$\n",
    "Where $M_{21}$: mutual inductance of the loops"
   ]
  },
  {
   "cell_type": "markdown",
   "metadata": {},
   "source": [
    "Now look at the magnetic flux through the area of the second loop:\n",
    "$$\n",
    "    \\begin{align*}\n",
    "    \\Phi_{2} &= \\int \\vec{B}_{1}d\\vec{a}_{2} \\\\\n",
    "            &= \\int (\\vec{\\nabla} \\times \\vec{A})d\\vec{a}_{2}~~~~\\textrm{as $\\vec{B} = \\vec{\\nabla} \\times \\vec{A}$} \\\\ \n",
    "    (1) ~~~~~ \\Phi_{2} &= \\oint \\vec{A}_{1}d\\vec{l}_{2}~~~~\\textrm{Stokes Theorem}\\\\\n",
    "    \\end{align*}\n",
    "$$"
   ]
  },
  {
   "cell_type": "markdown",
   "metadata": {},
   "source": [
    "Vector potential for line current: $\\vec{A}(\\vec{r}) = \\frac{\\mu_{0} I}{4 \\pi}\\oint \\frac{d\\vec{l}'}{\\mid \\vec{r} - \\vec{r}' \\mid}$ (2)"
   ]
  },
  {
   "cell_type": "markdown",
   "metadata": {},
   "source": [
    "Using the expression (2) and substituting into $\\vec{A}$ in expression (1) results in:"
   ]
  },
  {
   "cell_type": "markdown",
   "metadata": {},
   "source": [
    "$$\n",
    "\\Phi_{2} = \\frac{\\mu_{0}I_{1}}{4\\pi}\\oint \\oint \\frac{d\\vec{l}_{1} \\cdot d\\vec{l}_{2}}{\\mid \\vec{r} - \\vec{r}'\\mid}\n",
    "$$"
   ]
  },
  {
   "cell_type": "markdown",
   "metadata": {},
   "source": [
    "We need to integrate around each loop to find $M_{21}$ $\\Rightarrow \\Phi_{2} = M_{21}I_{1}$"
   ]
  },
  {
   "cell_type": "markdown",
   "metadata": {},
   "source": [
    "However, we also have $d\\vec{l}_{1} \\cdot d\\vec{l}_{2} = d\\vec{l}_{2} \\cdot d\\vec{l}_{1}$\n",
    "$$\n",
    "M_{12} = M_{21} = M\n",
    "$$"
   ]
  },
  {
   "cell_type": "markdown",
   "metadata": {},
   "source": [
    "For any two loops, flux $\\Phi_{2}$ caused by running the current $I$ in loop 1 is exactly equal to the flux $\\Phi_{1}$ caused by the running current $I$ through loop 2."
   ]
  },
  {
   "cell_type": "markdown",
   "metadata": {},
   "source": [
    "#### Example: Short solenoid inside long solenoid"
   ]
  },
  {
   "cell_type": "markdown",
   "metadata": {},
   "source": [
    "A short solenoid of radius $a$, length $d$ and $n_{1}$ turns per unit length, inside the long solenoid we have ea radius $b$, with $n_{2}$ turns per unit length."
   ]
  },
  {
   "cell_type": "markdown",
   "metadata": {},
   "source": [
    "![Electro8.2](Figures/Electro8.2.png)"
   ]
  },
  {
   "cell_type": "markdown",
   "metadata": {},
   "source": [
    "We have three possible ways to determine the inductance $M$\\\n",
    "(1) $M = \\frac{\\mu_{0}}{4\\pi}\\oint \\oint \\frac{d\\vec{l}_{1} \\cdot d\\vec{l}_{2}}{\\mid \\vec{r} - \\vec{r}'\\mid}$\\\n",
    "(2) $\\Phi_{1} = M \\cdot I_{2}$ (Current $I_{2}$ in the long solenoid, flux $\\Phi_{1}$ in short)\\\n",
    "(3) $\\Phi_{2} = M \\cdot I_{1}$ (Current $I_{1}$ in the short solenoid, flux $\\Phi_{2}$ in long)"
   ]
  },
  {
   "cell_type": "markdown",
   "metadata": {},
   "source": [
    "Using (2) the field inside the long solenoid $B_{2} = \\mu_{0}n_{2}I$ \\\n",
    "The Magnetic flux through a single loop of the short solenoid $B_{2} \\pi a^{2} = \\mu_{0}n_{2}I \\pi a^{2}$\\\n",
    "Given $n_{1}d$ total number of turns $\\Phi_{1} = \\mu_{0}n_{2}\\pi a^{2}(n_{1}d)I_{2}$\n",
    "$$\n",
    "M = \\mu_{0}n_{2}n_{1}\\pi a^{2}d\n",
    "$$"
   ]
  },
  {
   "cell_type": "markdown",
   "metadata": {},
   "source": [
    "### Self - Inductance"
   ]
  },
  {
   "cell_type": "markdown",
   "metadata": {},
   "source": [
    "If current $I_{1}$ in loop 1 is change, then flux $\\Phi_{2}$ changes, giving rise to an electromotive force (emf) in loop 2.\n",
    "$$\n",
    "\\mathcal{E}_{2} = -\\frac{d\\Phi_{2}}{dt} = -M \\frac{dI_{1}}{dt}\n",
    "$$"
   ]
  },
  {
   "cell_type": "markdown",
   "metadata": {},
   "source": [
    "Changing the current in one loop will induce a current in any nearby loops.\\\n",
    "Changing current in $I_{1}$ in loop 1 will also change the flux through loop 1, giving rise to a \"back emf\" (or self inductance) that tends to oppose the change in the current."
   ]
  },
  {
   "cell_type": "markdown",
   "metadata": {},
   "source": [
    "$$\n",
    "\\mathcal{E} = - \\frac{d \\Phi}{dt} = - L \\frac{d I}{dt}\n",
    "$$"
   ]
  },
  {
   "cell_type": "markdown",
   "metadata": {},
   "source": [
    "Flux through a loop due to its own current is then $\\Phi \\equiv L \\cdot I$"
   ]
  },
  {
   "cell_type": "markdown",
   "metadata": {},
   "source": [
    "#### Example: Self - Inductance in a toroidal solenoid"
   ]
  },
  {
   "cell_type": "markdown",
   "metadata": {},
   "source": [
    "![Electro8.3](Figures/Electro8.3.png)"
   ]
  },
  {
   "cell_type": "markdown",
   "metadata": {},
   "source": [
    "![Electro8.4](Figures/Electro8.4.png)"
   ]
  },
  {
   "cell_type": "markdown",
   "metadata": {},
   "source": [
    "Find the inductance of a toroidal solenoid with rectangular cross-section, with inner radius $a$, outer radius $b$, height $h$ and total of $N$ turns.\\\n",
    "Find flux $\\Phi = LI$ inside solenoid and hence find $L$.\\\n",
    "Magnetic field inside the solenoid a distance $s$ from the axis is \n",
    "$$\n",
    "B = \\frac{\\mu_{0}NI}{2\\pi s}\n",
    "$$"
   ]
  },
  {
   "cell_type": "markdown",
   "metadata": {},
   "source": [
    "Looking now at the magnetic flux $\\Phi$ is then:\n",
    "\\begin{align*}\n",
    "\\Phi &= N \\int \\vec{B} \\cdot d\\vec{a}\\\\\n",
    "    &= \\frac{\\mu_{0}N^{2}I}{2\\pi}h\\int^{b}_{a}\\frac{ds}{s}\\\\\n",
    "\\Phi     &= \\frac{\\mu_{0}N^{2}I}{2\\pi}h \\ln\\left(\\frac{b}{a}\\right)\n",
    "\\end{align*}"
   ]
  },
  {
   "cell_type": "markdown",
   "metadata": {},
   "source": [
    "Recall $\\Phi = LI$ then the self inductance is then\n",
    "$$\n",
    "L = \\frac{\\mu_{0}N^{2}h}{2\\pi}\\ln\\left(\\frac{b}{a}\\right)\n",
    "$$"
   ]
  },
  {
   "cell_type": "markdown",
   "metadata": {},
   "source": [
    "#### Energy stored in the magnetic fields"
   ]
  },
  {
   "cell_type": "markdown",
   "metadata": {},
   "source": [
    "Energy needed to establish current in a circuit is equal to the work that must be done to go against the back emf/self inductance due to a change in the current."
   ]
  },
  {
   "cell_type": "markdown",
   "metadata": {},
   "source": [
    "Work done against the back emf/self inductance per unit charge in one trip around the circuit is $-\\mathcal{E}$ (The negative sign is because the work is done by \"you\" against the emf, not work done by the emf)."
   ]
  },
  {
   "cell_type": "markdown",
   "metadata": {},
   "source": [
    "The amount of charge per unit time passing through the wire is current $I$, thus the total work done per unit time is \n",
    "$$\n",
    "\\frac{dW}{dt} = - \\mathcal{E}I\n",
    "$$"
   ]
  }
 ],
 "metadata": {
  "kernelspec": {
   "display_name": "Python 3",
   "language": "python",
   "name": "python3"
  },
  "language_info": {
   "codemirror_mode": {
    "name": "ipython",
    "version": 3
   },
   "file_extension": ".py",
   "mimetype": "text/x-python",
   "name": "python",
   "nbconvert_exporter": "python",
   "pygments_lexer": "ipython3",
   "version": "3.8.3"
  }
 },
 "nbformat": 4,
 "nbformat_minor": 4
}
