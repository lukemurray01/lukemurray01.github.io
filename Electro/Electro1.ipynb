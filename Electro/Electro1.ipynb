{
 "cells": [
  {
   "cell_type": "markdown",
   "metadata": {},
   "source": [
    "# Electrodynamic Notes (1)"
   ]
  },
  {
   "cell_type": "markdown",
   "metadata": {},
   "source": [
    "Reminder of Divergence and Curl of electrostatic fields\n",
    "\n",
    "Note the following two expressions"
   ]
  },
  {
   "cell_type": "markdown",
   "metadata": {},
   "source": [
    "$$\\nabla \\cdot \\vec{E} = \\frac{1}{\\epsilon_{0}}\\rho$$\n",
    "\\\n",
    "$$\\nabla \\times \\vec{E} = \\vec{0}$$"
   ]
  },
  {
   "cell_type": "markdown",
   "metadata": {},
   "source": [
    "The first expression being Gauss's Law, which determines the field if the charge density $\\rho$ is given. Notice that the electric field $\\vec{E} \\to 0$ as you go very far away from any charged sources. The second expression just shows that the curl of the electric field in a static situtation will be zero. (This makes sense as later we will see that the full expression $\\nabla \\times \\vec{E} = - \\frac{\\partial \\vec{B}}{\\partial t}$, and as we are in a magnetostatic setup, our magnetic field $\\vec{B} = 0$)"
   ]
  },
  {
   "cell_type": "markdown",
   "metadata": {},
   "source": [
    "Reminder of Divergence and curl of magnneostatic fields"
   ]
  },
  {
   "cell_type": "markdown",
   "metadata": {},
   "source": [
    "$$\\nabla \\cdot \\vec{B} = 0 $$\n",
    "\\\n",
    "$$\\nabla \\times \\vec{B} = \\mu_{0} \\vec{J}$$"
   ]
  },
  {
   "cell_type": "markdown",
   "metadata": {},
   "source": [
    "The second expression being the Ampere's Law, which describes the current density $\\vec{J}$ in terms of the magnetic field $\\vec{B}$, again as $\\vec{B} \\to 0$ the currenty density will fall off also.\n"
   ]
  },
  {
   "cell_type": "markdown",
   "metadata": {},
   "source": [
    "## Maxwell's Equation & Force Law"
   ]
  },
  {
   "cell_type": "markdown",
   "metadata": {},
   "source": [
    "$$ \\vec{F} = Q \\left(\\vec{E} + \\vec{\\nu} \\times \\vec{B}\\right)$$"
   ]
  },
  {
   "cell_type": "markdown",
   "metadata": {},
   "source": [
    "For any static charge distrubtion we have $\\nabla \\times \\vec{E} = \\vec{0}$.\\\n",
    "This is because we can write the electric field $\\vec{E} = - \\nabla V$, and using the vector identity $\\nabla \\times (\\nabla f) = \\vec{0}$, then $\\nabla \\times (- \\nabla V) = \\vec{0}$, which statifies $\\nabla \\times \\vec{E} = \\vec{0}$."
   ]
  },
  {
   "cell_type": "markdown",
   "metadata": {},
   "source": [
    "There is an analogous relation for magneostatics, $\\nabla \\cdot \\vec{B} = 0$. \\\n",
    "We can describe the magnetic field as the curl of a magnetic vector potential $\\vec{A}$, which gives $\\vec{B} = \\nabla \\times \\vec{A}$. From the following vector identity $\\nabla \\cdot (\\nabla \\times \\vec{f}) = 0$. Subsituting our magnetic field in terms of the magnetic vector potential its clear to see that the condition is met."
   ]
  },
  {
   "cell_type": "markdown",
   "metadata": {},
   "source": [
    "$\\textbf{Note}:$ We can add any function with curl = 0 (graident of any scalar function) To a vector potential $\\vec{A}$, without changing the magnetic field $\\vec{B}$ due to $\\nabla \\times (\\nabla f) = 0$"
   ]
  },
  {
   "cell_type": "markdown",
   "metadata": {},
   "source": [
    "We can use this fact to ensure that the divergence of our magnetic vector potential $\\vec{A}$ is zero: $\\nabla \\cdot \\vec{A} = 0 $"
   ]
  },
  {
   "cell_type": "markdown",
   "metadata": {},
   "source": [
    "#### Showing that the divergence of a magnetic vector potential $\\vec{A}$ will always be zero."
   ]
  },
  {
   "cell_type": "markdown",
   "metadata": {},
   "source": [
    "Assume we have some magnetic vector potential $\\vec{A'}$ such that $\\nabla \\cdot \\vec{A'} \\neq 0$\\\n",
    "Now, lets take the gradient of some scalar function $\\lambda$ and define this to be $\\vec{A}$, hence $\\vec{A} = \\vec{A'} + \\nabla \\lambda$\\\n",
    "Again, we are trying to find some function $A$ that will resultin $\\nabla \\cdot \\vec{A} = 0$. Taking the divergence of our new expression we get $\\nabla \\cdot \\vec{A'} + \\nabla^{2} \\lambda = 0$ which can be rewritten as $\\nabla \\cdot \\vec{A'} = - \\nabla^{2}\\lambda$.\\\n",
    "Our scalar function $\\lambda$ will then give us our solution to $\\nabla \\cdot \\vec{A} = 0$, we can always find some function that will satisfy this condition, assuming we have then $\\nabla \\cdot \\vec{A} = 0$ which is what we wanted to show."
   ]
  },
  {
   "cell_type": "markdown",
   "metadata": {},
   "source": [
    " We can apply this fact to Ampere's Law $\\nabla \\times \\vec{B} = \\mu_{0}\\vec{J}$"
   ]
  },
  {
   "cell_type": "markdown",
   "metadata": {},
   "source": [
    "Using the fact $\\vec{B} = \\nabla \\times \\vec{A}$, we get\n",
    "\\begin{align*}\n",
    "\\nabla \\times \\vec{B} &= \\mu_{0}\\vec{J}\\\\\n",
    "\\nabla \\times \\left(\\nabla \\times \\vec{A} \\right) &= \\mu_{0} \\vec{J} ~~~~~~ \\textrm\n",
    "{We will then use a vector identity for the next step.}\\\\\n",
    "\\nabla \\underbrace{\\left(\\nabla \\cdot \\vec{A}\\right)}_{\\textrm{=0}} - \\nabla^{2}\\vec{A} &= \\mu_{0}\\vec{J}\n",
    "\\end{align*}\n",
    "Then $\\nabla^{2}\\vec{A} = -\\mu_{0}\\vec{J}$, thus our magnetic vector potential $\\vec{A}$ satisfies $\\nabla^{2} \\vec{A} = - \\mu_{0} \\vec{J}$"
   ]
  },
  {
   "cell_type": "markdown",
   "metadata": {},
   "source": [
    "This equation has been seen before in the context of electrostatics, it's Poisson's Equation"
   ]
  },
  {
   "cell_type": "markdown",
   "metadata": {},
   "source": [
    "$$\\nabla^{2}V = -\\frac{\\rho}{\\epsilon_{0}}$$\n",
    "$$ V(\\vec{r}) = \\frac{1}{4 \\pi \\epsilon_{0}}\\int \\frac{\\rho(\\vec{r'})}{\\mid \\vec{r} - \\vec{r'} \\mid}d\\tau'$$\n",
    "Or in the case of Magnetostatics\n",
    "$$\n",
    "\\nabla^{2} \\vec{A} = - \\mu_{0}J\n",
    "$$\n",
    "$$\n",
    "\\vec{A}(\\vec{r}) = \\frac{\\mu_{0}}{4 \\pi}\\int\\frac{\\vec{J}}{(\\vec{r'})}{\\mid \\vec{r} - \\vec{r'} \\mid}d\\tau'\n",
    "$$"
   ]
  },
  {
   "cell_type": "markdown",
   "metadata": {},
   "source": [
    "Where $d\\tau'$ is the volume element, and will depend on the context of the situtation i.e an area element (2D) da' or a length element (1D) $d\\vec{l'}$"
   ]
  }
 ],
 "metadata": {
  "kernelspec": {
   "display_name": "Python 3",
   "language": "python",
   "name": "python3"
  },
  "language_info": {
   "codemirror_mode": {
    "name": "ipython",
    "version": 3
   },
   "file_extension": ".py",
   "mimetype": "text/x-python",
   "name": "python",
   "nbconvert_exporter": "python",
   "pygments_lexer": "ipython3",
   "version": "3.8.3"
  }
 },
 "nbformat": 4,
 "nbformat_minor": 4
}
